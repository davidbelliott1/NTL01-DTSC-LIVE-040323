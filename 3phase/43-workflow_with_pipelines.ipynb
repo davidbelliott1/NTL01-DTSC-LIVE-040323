{
 "cells": [
  {
   "cell_type": "markdown",
   "metadata": {},
   "source": [
    "# Classification Workflow with Pipelines"
   ]
  },
  {
   "cell_type": "markdown",
   "metadata": {},
   "source": [
    "Let's add pipelines into our workflow!"
   ]
  },
  {
   "cell_type": "code",
   "execution_count": 10,
   "metadata": {
    "ExecuteTime": {
     "end_time": "2023-05-24T18:15:51.310629Z",
     "start_time": "2023-05-24T18:15:51.303589Z"
    }
   },
   "outputs": [],
   "source": [
    "import pandas as pd\n",
    "import numpy as np\n",
    "from matplotlib import pyplot as plt\n",
    "import seaborn as sns\n",
    "\n",
    "from sklearn.model_selection import train_test_split, GridSearchCV, cross_val_score\n",
    "from sklearn.pipeline import Pipeline\n",
    "from sklearn.preprocessing import StandardScaler, OneHotEncoder, FunctionTransformer\n",
    "from sklearn.impute import SimpleImputer\n",
    "from sklearn.compose import ColumnTransformer,  make_column_selector as selector\n",
    "from sklearn.linear_model import LogisticRegression\n",
    "from sklearn.ensemble import RandomForestClassifier, GradientBoostingClassifier\n",
    "from sklearn.metrics import plot_confusion_matrix, recall_score,\\\n",
    "    accuracy_score, precision_score, f1_score\n",
    "\n",
    "from sklearn.tree import DecisionTreeClassifier\n",
    "\n",
    "from sklearn.dummy import DummyClassifier\n",
    "\n",
    "from imblearn.over_sampling import SMOTE\n",
    "from imblearn.pipeline import Pipeline as ImPipeline"
   ]
  },
  {
   "cell_type": "code",
   "execution_count": 2,
   "metadata": {
    "ExecuteTime": {
     "end_time": "2023-05-24T18:02:36.766397Z",
     "start_time": "2023-05-24T18:02:36.733430Z"
    }
   },
   "outputs": [
    {
     "data": {
      "text/html": [
       "<div>\n",
       "<style scoped>\n",
       "    .dataframe tbody tr th:only-of-type {\n",
       "        vertical-align: middle;\n",
       "    }\n",
       "\n",
       "    .dataframe tbody tr th {\n",
       "        vertical-align: top;\n",
       "    }\n",
       "\n",
       "    .dataframe thead th {\n",
       "        text-align: right;\n",
       "    }\n",
       "</style>\n",
       "<table border=\"1\" class=\"dataframe\">\n",
       "  <thead>\n",
       "    <tr style=\"text-align: right;\">\n",
       "      <th></th>\n",
       "      <th>PassengerId</th>\n",
       "      <th>Survived</th>\n",
       "      <th>Pclass</th>\n",
       "      <th>Name</th>\n",
       "      <th>Sex</th>\n",
       "      <th>Age</th>\n",
       "      <th>SibSp</th>\n",
       "      <th>Parch</th>\n",
       "      <th>Ticket</th>\n",
       "      <th>Fare</th>\n",
       "      <th>Cabin</th>\n",
       "      <th>Embarked</th>\n",
       "    </tr>\n",
       "  </thead>\n",
       "  <tbody>\n",
       "    <tr>\n",
       "      <th>0</th>\n",
       "      <td>1</td>\n",
       "      <td>0</td>\n",
       "      <td>3</td>\n",
       "      <td>Braund, Mr. Owen Harris</td>\n",
       "      <td>male</td>\n",
       "      <td>22.0</td>\n",
       "      <td>1</td>\n",
       "      <td>0</td>\n",
       "      <td>A/5 21171</td>\n",
       "      <td>7.2500</td>\n",
       "      <td>NaN</td>\n",
       "      <td>S</td>\n",
       "    </tr>\n",
       "    <tr>\n",
       "      <th>1</th>\n",
       "      <td>2</td>\n",
       "      <td>1</td>\n",
       "      <td>1</td>\n",
       "      <td>Cumings, Mrs. John Bradley (Florence Briggs Th...</td>\n",
       "      <td>female</td>\n",
       "      <td>38.0</td>\n",
       "      <td>1</td>\n",
       "      <td>0</td>\n",
       "      <td>PC 17599</td>\n",
       "      <td>71.2833</td>\n",
       "      <td>C85</td>\n",
       "      <td>C</td>\n",
       "    </tr>\n",
       "    <tr>\n",
       "      <th>2</th>\n",
       "      <td>3</td>\n",
       "      <td>1</td>\n",
       "      <td>3</td>\n",
       "      <td>Heikkinen, Miss. Laina</td>\n",
       "      <td>female</td>\n",
       "      <td>26.0</td>\n",
       "      <td>0</td>\n",
       "      <td>0</td>\n",
       "      <td>STON/O2. 3101282</td>\n",
       "      <td>7.9250</td>\n",
       "      <td>NaN</td>\n",
       "      <td>S</td>\n",
       "    </tr>\n",
       "    <tr>\n",
       "      <th>3</th>\n",
       "      <td>4</td>\n",
       "      <td>1</td>\n",
       "      <td>1</td>\n",
       "      <td>Futrelle, Mrs. Jacques Heath (Lily May Peel)</td>\n",
       "      <td>female</td>\n",
       "      <td>35.0</td>\n",
       "      <td>1</td>\n",
       "      <td>0</td>\n",
       "      <td>113803</td>\n",
       "      <td>53.1000</td>\n",
       "      <td>C123</td>\n",
       "      <td>S</td>\n",
       "    </tr>\n",
       "    <tr>\n",
       "      <th>4</th>\n",
       "      <td>5</td>\n",
       "      <td>0</td>\n",
       "      <td>3</td>\n",
       "      <td>Allen, Mr. William Henry</td>\n",
       "      <td>male</td>\n",
       "      <td>35.0</td>\n",
       "      <td>0</td>\n",
       "      <td>0</td>\n",
       "      <td>373450</td>\n",
       "      <td>8.0500</td>\n",
       "      <td>NaN</td>\n",
       "      <td>S</td>\n",
       "    </tr>\n",
       "  </tbody>\n",
       "</table>\n",
       "</div>"
      ],
      "text/plain": [
       "   PassengerId  Survived  Pclass  \\\n",
       "0            1         0       3   \n",
       "1            2         1       1   \n",
       "2            3         1       3   \n",
       "3            4         1       1   \n",
       "4            5         0       3   \n",
       "\n",
       "                                                Name     Sex   Age  SibSp  \\\n",
       "0                            Braund, Mr. Owen Harris    male  22.0      1   \n",
       "1  Cumings, Mrs. John Bradley (Florence Briggs Th...  female  38.0      1   \n",
       "2                             Heikkinen, Miss. Laina  female  26.0      0   \n",
       "3       Futrelle, Mrs. Jacques Heath (Lily May Peel)  female  35.0      1   \n",
       "4                           Allen, Mr. William Henry    male  35.0      0   \n",
       "\n",
       "   Parch            Ticket     Fare Cabin Embarked  \n",
       "0      0         A/5 21171   7.2500   NaN        S  \n",
       "1      0          PC 17599  71.2833   C85        C  \n",
       "2      0  STON/O2. 3101282   7.9250   NaN        S  \n",
       "3      0            113803  53.1000  C123        S  \n",
       "4      0            373450   8.0500   NaN        S  "
      ]
     },
     "execution_count": 2,
     "metadata": {},
     "output_type": "execute_result"
    }
   ],
   "source": [
    "titanic = pd.read_csv('./data/titanic.csv')\n",
    "titanic.head()"
   ]
  },
  {
   "cell_type": "code",
   "execution_count": 4,
   "metadata": {
    "ExecuteTime": {
     "end_time": "2023-05-24T18:02:49.877544Z",
     "start_time": "2023-05-24T18:02:49.862545Z"
    }
   },
   "outputs": [],
   "source": [
    "X = titanic.drop(['PassengerId', 'Name', 'Survived'], axis=1)\n",
    "y = titanic['Survived']\n",
    "\n",
    "X_train, X_test, y_train, y_test = train_test_split(X, y, random_state=42)"
   ]
  },
  {
   "cell_type": "markdown",
   "metadata": {},
   "source": [
    "## Using `Pipeline` and `ColumnTransformer`"
   ]
  },
  {
   "cell_type": "markdown",
   "metadata": {},
   "source": [
    "When we use the `ColumnTransformer` we'll want to choose the relevant column numbers, so let's remind ourselves which columns are where:"
   ]
  },
  {
   "cell_type": "code",
   "execution_count": 5,
   "metadata": {
    "ExecuteTime": {
     "end_time": "2023-05-24T18:03:23.666627Z",
     "start_time": "2023-05-24T18:03:23.653629Z"
    }
   },
   "outputs": [
    {
     "data": {
      "text/html": [
       "<div>\n",
       "<style scoped>\n",
       "    .dataframe tbody tr th:only-of-type {\n",
       "        vertical-align: middle;\n",
       "    }\n",
       "\n",
       "    .dataframe tbody tr th {\n",
       "        vertical-align: top;\n",
       "    }\n",
       "\n",
       "    .dataframe thead th {\n",
       "        text-align: right;\n",
       "    }\n",
       "</style>\n",
       "<table border=\"1\" class=\"dataframe\">\n",
       "  <thead>\n",
       "    <tr style=\"text-align: right;\">\n",
       "      <th></th>\n",
       "      <th>Pclass</th>\n",
       "      <th>Sex</th>\n",
       "      <th>Age</th>\n",
       "      <th>SibSp</th>\n",
       "      <th>Parch</th>\n",
       "      <th>Ticket</th>\n",
       "      <th>Fare</th>\n",
       "      <th>Cabin</th>\n",
       "      <th>Embarked</th>\n",
       "    </tr>\n",
       "  </thead>\n",
       "  <tbody>\n",
       "    <tr>\n",
       "      <th>0</th>\n",
       "      <td>3</td>\n",
       "      <td>male</td>\n",
       "      <td>22.0</td>\n",
       "      <td>1</td>\n",
       "      <td>0</td>\n",
       "      <td>A/5 21171</td>\n",
       "      <td>7.2500</td>\n",
       "      <td>NaN</td>\n",
       "      <td>S</td>\n",
       "    </tr>\n",
       "    <tr>\n",
       "      <th>1</th>\n",
       "      <td>1</td>\n",
       "      <td>female</td>\n",
       "      <td>38.0</td>\n",
       "      <td>1</td>\n",
       "      <td>0</td>\n",
       "      <td>PC 17599</td>\n",
       "      <td>71.2833</td>\n",
       "      <td>C85</td>\n",
       "      <td>C</td>\n",
       "    </tr>\n",
       "    <tr>\n",
       "      <th>2</th>\n",
       "      <td>3</td>\n",
       "      <td>female</td>\n",
       "      <td>26.0</td>\n",
       "      <td>0</td>\n",
       "      <td>0</td>\n",
       "      <td>STON/O2. 3101282</td>\n",
       "      <td>7.9250</td>\n",
       "      <td>NaN</td>\n",
       "      <td>S</td>\n",
       "    </tr>\n",
       "    <tr>\n",
       "      <th>3</th>\n",
       "      <td>1</td>\n",
       "      <td>female</td>\n",
       "      <td>35.0</td>\n",
       "      <td>1</td>\n",
       "      <td>0</td>\n",
       "      <td>113803</td>\n",
       "      <td>53.1000</td>\n",
       "      <td>C123</td>\n",
       "      <td>S</td>\n",
       "    </tr>\n",
       "    <tr>\n",
       "      <th>4</th>\n",
       "      <td>3</td>\n",
       "      <td>male</td>\n",
       "      <td>35.0</td>\n",
       "      <td>0</td>\n",
       "      <td>0</td>\n",
       "      <td>373450</td>\n",
       "      <td>8.0500</td>\n",
       "      <td>NaN</td>\n",
       "      <td>S</td>\n",
       "    </tr>\n",
       "  </tbody>\n",
       "</table>\n",
       "</div>"
      ],
      "text/plain": [
       "   Pclass     Sex   Age  SibSp  Parch            Ticket     Fare Cabin  \\\n",
       "0       3    male  22.0      1      0         A/5 21171   7.2500   NaN   \n",
       "1       1  female  38.0      1      0          PC 17599  71.2833   C85   \n",
       "2       3  female  26.0      0      0  STON/O2. 3101282   7.9250   NaN   \n",
       "3       1  female  35.0      1      0            113803  53.1000  C123   \n",
       "4       3    male  35.0      0      0            373450   8.0500   NaN   \n",
       "\n",
       "  Embarked  \n",
       "0        S  \n",
       "1        C  \n",
       "2        S  \n",
       "3        S  \n",
       "4        S  "
      ]
     },
     "execution_count": 5,
     "metadata": {},
     "output_type": "execute_result"
    }
   ],
   "source": [
    "X.head()"
   ]
  },
  {
   "cell_type": "code",
   "execution_count": 22,
   "metadata": {
    "ExecuteTime": {
     "end_time": "2023-05-24T18:18:34.075966Z",
     "start_time": "2023-05-24T18:18:34.065991Z"
    }
   },
   "outputs": [],
   "source": [
    "# We'll throw these mini-pipelines into our ColumnTransformer: numeric and categorical\n",
    "\n",
    "\n",
    "subpipe_numerics = Pipeline(steps = [\n",
    "    ('num_impute', SimpleImputer(strategy='median')),\n",
    "    ('ss', StandardScaler())\n",
    "])\n",
    "\n",
    "\n",
    "subpipe_cat = Pipeline(steps=[\n",
    "    ('cat_impute', SimpleImputer(strategy='most_frequent')),\n",
    "    ('ohe', OneHotEncoder(sparse=False, handle_unknown='ignore'))\n",
    "])"
   ]
  },
  {
   "cell_type": "markdown",
   "metadata": {},
   "source": [
    "### Selector!!!!\n",
    "\n",
    "[This](https://scikit-learn.org/stable/modules/generated/sklearn.compose.make_column_selector.html#sklearn.compose.make_column_selector) will return a callable list of columns"
   ]
  },
  {
   "cell_type": "code",
   "execution_count": 23,
   "metadata": {
    "ExecuteTime": {
     "end_time": "2023-05-24T18:18:34.912160Z",
     "start_time": "2023-05-24T18:18:34.903661Z"
    }
   },
   "outputs": [
    {
     "data": {
      "text/plain": [
       "['Sex', 'Ticket', 'Cabin', 'Embarked']"
      ]
     },
     "execution_count": 23,
     "metadata": {},
     "output_type": "execute_result"
    }
   ],
   "source": [
    "# Selector!\n",
    "\n",
    "test = selector(dtype_include=object)\n",
    "test(X)"
   ]
  },
  {
   "cell_type": "code",
   "execution_count": 24,
   "metadata": {
    "ExecuteTime": {
     "end_time": "2023-05-24T18:18:35.346159Z",
     "start_time": "2023-05-24T18:18:35.334159Z"
    }
   },
   "outputs": [],
   "source": [
    "# The \"remainder='passthrough'\" bit tells the compiler to leave\n",
    "# the other df columns unchanged.\n",
    "\n",
    "\n",
    "CT = ColumnTransformer(transformers=[\n",
    "    ('subpipe_num', subpipe_numerics, selector(dtype_include=np.number)),\n",
    "    ('subpipe_cat', subpipe_cat, selector(dtype_include=object))\n",
    "], remainder='passthrough')"
   ]
  },
  {
   "cell_type": "markdown",
   "metadata": {},
   "source": [
    "## Bringing in Our Modeling Class from before"
   ]
  },
  {
   "cell_type": "code",
   "execution_count": 25,
   "metadata": {
    "ExecuteTime": {
     "end_time": "2023-05-24T18:18:36.058941Z",
     "start_time": "2023-05-24T18:18:36.039438Z"
    }
   },
   "outputs": [],
   "source": [
    "class ModelWithCV():\n",
    "    '''Structure to save the model and more easily see its crossvalidation'''\n",
    "    \n",
    "    def __init__(self, model, model_name, X, y, cv_now=True):\n",
    "        self.model = model\n",
    "        self.name = model_name\n",
    "        self.X = X\n",
    "        self.y = y\n",
    "        # For CV results\n",
    "        self.cv_results = None\n",
    "        self.cv_mean = None\n",
    "        self.cv_median = None\n",
    "        self.cv_std = None\n",
    "        #\n",
    "        if cv_now:\n",
    "            self.cross_validate()\n",
    "        \n",
    "    def cross_validate(self, X=None, y=None, kfolds=10):\n",
    "        '''\n",
    "        Perform cross-validation and return results.\n",
    "        \n",
    "        Args: \n",
    "          X:\n",
    "            Optional; Training data to perform CV on. Otherwise use X from object\n",
    "          y:\n",
    "            Optional; Training data to perform CV on. Otherwise use y from object\n",
    "          kfolds:\n",
    "            Optional; Number of folds for CV (default is 10)  \n",
    "        '''\n",
    "        \n",
    "        cv_X = X if X else self.X\n",
    "        cv_y = y if y else self.y\n",
    "\n",
    "        self.cv_results = cross_val_score(self.model, cv_X, cv_y, cv=kfolds)\n",
    "        self.cv_mean = np.mean(self.cv_results)\n",
    "        self.cv_median = np.median(self.cv_results)\n",
    "        self.cv_std = np.std(self.cv_results)\n",
    "\n",
    "        \n",
    "    def print_cv_summary(self):\n",
    "        cv_summary = (\n",
    "        f'''CV Results for `{self.name}` model:\n",
    "            {self.cv_mean:.5f} ± {self.cv_std:.5f} accuracy\n",
    "        ''')\n",
    "        print(cv_summary)\n",
    "\n",
    "        \n",
    "    def plot_cv(self, ax):\n",
    "        '''\n",
    "        Plot the cross-validation values using the array of results and given \n",
    "        Axis for plotting.\n",
    "        '''\n",
    "        ax.set_title(f'CV Results for `{self.name}` Model')\n",
    "        # Thinner violinplot with higher bw\n",
    "        sns.violinplot(y=self.cv_results, ax=ax, bw=.4)\n",
    "        sns.swarmplot(\n",
    "                y=self.cv_results,\n",
    "                color='orange',\n",
    "                size=10,\n",
    "                alpha= 0.8,\n",
    "                ax=ax\n",
    "        )\n",
    "\n",
    "        return ax"
   ]
  },
  {
   "cell_type": "code",
   "execution_count": 26,
   "metadata": {
    "ExecuteTime": {
     "end_time": "2023-05-24T18:18:36.492907Z",
     "start_time": "2023-05-24T18:18:36.479907Z"
    }
   },
   "outputs": [],
   "source": [
    "# Create Dummy/Baseline\n",
    "\n",
    "\n",
    "dummy_model_pipe = Pipeline(steps=[\n",
    "    ('ct',CT),\n",
    "    ('dummy', DummyClassifier(strategy='most_frequent'))\n",
    "])"
   ]
  },
  {
   "cell_type": "code",
   "execution_count": 27,
   "metadata": {
    "ExecuteTime": {
     "end_time": "2023-05-24T18:18:37.035407Z",
     "start_time": "2023-05-24T18:18:36.894408Z"
    },
    "scrolled": false
   },
   "outputs": [
    {
     "data": {
      "text/plain": [
       "Pipeline(steps=[('ct',\n",
       "                 ColumnTransformer(remainder='passthrough',\n",
       "                                   transformers=[('subpipe_num',\n",
       "                                                  Pipeline(steps=[('num_impute',\n",
       "                                                                   SimpleImputer(strategy='median')),\n",
       "                                                                  ('ss',\n",
       "                                                                   StandardScaler())]),\n",
       "                                                  <sklearn.compose._column_transformer.make_column_selector object at 0x000001BCD7C4FFA0>),\n",
       "                                                 ('subpipe_cat',\n",
       "                                                  Pipeline(steps=[('cat_impute',\n",
       "                                                                   SimpleImputer(strategy='most_frequent')),\n",
       "                                                                  ('ohe',\n",
       "                                                                   OneHotEncoder(handle_unknown='ignore',\n",
       "                                                                                 sparse=False))]),\n",
       "                                                  <sklearn.compose._column_transformer.make_column_selector object at 0x000001BCD7C4F850>)])),\n",
       "                ('dummy', DummyClassifier(strategy='most_frequent'))])"
      ]
     },
     "execution_count": 27,
     "metadata": {},
     "output_type": "execute_result"
    }
   ],
   "source": [
    "# Use the class with out dummy pipe\n",
    "\n",
    "dummy_model_pipe.fit(X_train, y_train)"
   ]
  },
  {
   "cell_type": "code",
   "execution_count": 28,
   "metadata": {
    "ExecuteTime": {
     "end_time": "2023-05-24T18:19:14.232159Z",
     "start_time": "2023-05-24T18:19:14.206133Z"
    }
   },
   "outputs": [
    {
     "data": {
      "text/plain": [
       "0.6212574850299402"
      ]
     },
     "execution_count": 28,
     "metadata": {},
     "output_type": "execute_result"
    }
   ],
   "source": [
    "dummy_model_pipe.score(X_train, y_train)"
   ]
  },
  {
   "cell_type": "code",
   "execution_count": 29,
   "metadata": {
    "ExecuteTime": {
     "end_time": "2023-05-24T18:20:11.672044Z",
     "start_time": "2023-05-24T18:20:11.644543Z"
    }
   },
   "outputs": [
    {
     "data": {
      "text/plain": [
       "0.600896860986547"
      ]
     },
     "execution_count": 29,
     "metadata": {},
     "output_type": "execute_result"
    }
   ],
   "source": [
    "dummy_model_pipe.score(X_test, y_test)"
   ]
  },
  {
   "cell_type": "code",
   "execution_count": 35,
   "metadata": {
    "ExecuteTime": {
     "end_time": "2023-05-24T18:23:59.152527Z",
     "start_time": "2023-05-24T18:23:58.821028Z"
    }
   },
   "outputs": [
    {
     "data": {
      "text/plain": [
       "<AxesSubplot:title={'center':'CV Results for `dummy` Model'}>"
      ]
     },
     "execution_count": 35,
     "metadata": {},
     "output_type": "execute_result"
    },
    {
     "data": {
      "image/png": "[encoded data removed]",
      "text/plain": [
       "<Figure size 720x720 with 1 Axes>"
      ]
     },
     "metadata": {
      "needs_background": "light"
     },
     "output_type": "display_data"
    }
   ],
   "source": [
    "dummy_pipe = ModelWithCV(\n",
    "    dummy_model_pipe,\n",
    "    model_name='dummy',\n",
    "    X=X_test,\n",
    "    y=y_test)\n",
    "fix, ax = plt.subplots(figsize=(10,10))\n",
    "\n",
    "dummy_pipe.plot_cv(ax=ax)"
   ]
  },
  {
   "cell_type": "code",
   "execution_count": null,
   "metadata": {},
   "outputs": [],
   "source": []
  },
  {
   "cell_type": "code",
   "execution_count": 30,
   "metadata": {
    "ExecuteTime": {
     "end_time": "2023-05-24T18:21:03.769203Z",
     "start_time": "2023-05-24T18:21:03.755203Z"
    }
   },
   "outputs": [],
   "source": [
    "# Create FSM (First Simple Model)\n",
    "\n",
    "logreg_model_pipe = Pipeline(steps=[\n",
    "    ('ct',CT),\n",
    "    ('fsm', LogisticRegression())\n",
    "])"
   ]
  },
  {
   "cell_type": "code",
   "execution_count": 31,
   "metadata": {
    "ExecuteTime": {
     "end_time": "2023-05-24T18:21:19.097406Z",
     "start_time": "2023-05-24T18:21:18.925408Z"
    }
   },
   "outputs": [
    {
     "data": {
      "text/plain": [
       "Pipeline(steps=[('ct',\n",
       "                 ColumnTransformer(remainder='passthrough',\n",
       "                                   transformers=[('subpipe_num',\n",
       "                                                  Pipeline(steps=[('num_impute',\n",
       "                                                                   SimpleImputer(strategy='median')),\n",
       "                                                                  ('ss',\n",
       "                                                                   StandardScaler())]),\n",
       "                                                  <sklearn.compose._column_transformer.make_column_selector object at 0x000001BCD7C4FFA0>),\n",
       "                                                 ('subpipe_cat',\n",
       "                                                  Pipeline(steps=[('cat_impute',\n",
       "                                                                   SimpleImputer(strategy='most_frequent')),\n",
       "                                                                  ('ohe',\n",
       "                                                                   OneHotEncoder(handle_unknown='ignore',\n",
       "                                                                                 sparse=False))]),\n",
       "                                                  <sklearn.compose._column_transformer.make_column_selector object at 0x000001BCD7C4F850>)])),\n",
       "                ('fsm', LogisticRegression())])"
      ]
     },
     "execution_count": 31,
     "metadata": {},
     "output_type": "execute_result"
    }
   ],
   "source": [
    "# Use the class with out logreg pipe\n",
    "logreg_model_pipe.fit(X_train, y_train)"
   ]
  },
  {
   "cell_type": "code",
   "execution_count": 36,
   "metadata": {
    "ExecuteTime": {
     "end_time": "2023-05-24T18:24:26.391902Z",
     "start_time": "2023-05-24T18:24:25.962901Z"
    }
   },
   "outputs": [
    {
     "data": {
      "text/plain": [
       "<AxesSubplot:title={'center':'CV Results for `FSM` Model'}>"
      ]
     },
     "execution_count": 36,
     "metadata": {},
     "output_type": "execute_result"
    },
    {
     "data": {
      "image/png": "[encoded data removed]",
      "text/plain": [
       "<Figure size 720x720 with 1 Axes>"
      ]
     },
     "metadata": {
      "needs_background": "light"
     },
     "output_type": "display_data"
    }
   ],
   "source": [
    "fsm_pipe = ModelWithCV(\n",
    "    logreg_model_pipe,\n",
    "    model_name='FSM',\n",
    "    X=X_test,\n",
    "    y=y_test)\n",
    "fix, ax = plt.subplots(figsize=(10,10))\n",
    "\n",
    "fsm_pipe.plot_cv(ax=ax)"
   ]
  },
  {
   "cell_type": "code",
   "execution_count": 41,
   "metadata": {
    "ExecuteTime": {
     "end_time": "2023-05-24T18:26:36.005120Z",
     "start_time": "2023-05-24T18:26:35.989649Z"
    }
   },
   "outputs": [],
   "source": [
    "dtc_model_pipe = Pipeline(steps=[\n",
    "    ('ct', CT),\n",
    "    ('dtc', DecisionTreeClassifier())\n",
    "])"
   ]
  },
  {
   "cell_type": "code",
   "execution_count": 42,
   "metadata": {
    "ExecuteTime": {
     "end_time": "2023-05-24T18:26:37.167319Z",
     "start_time": "2023-05-24T18:26:37.014322Z"
    }
   },
   "outputs": [
    {
     "data": {
      "text/plain": [
       "Pipeline(steps=[('ct',\n",
       "                 ColumnTransformer(remainder='passthrough',\n",
       "                                   transformers=[('subpipe_num',\n",
       "                                                  Pipeline(steps=[('num_impute',\n",
       "                                                                   SimpleImputer(strategy='median')),\n",
       "                                                                  ('ss',\n",
       "                                                                   StandardScaler())]),\n",
       "                                                  <sklearn.compose._column_transformer.make_column_selector object at 0x000001BCD7C4FFA0>),\n",
       "                                                 ('subpipe_cat',\n",
       "                                                  Pipeline(steps=[('cat_impute',\n",
       "                                                                   SimpleImputer(strategy='most_frequent')),\n",
       "                                                                  ('ohe',\n",
       "                                                                   OneHotEncoder(handle_unknown='ignore',\n",
       "                                                                                 sparse=False))]),\n",
       "                                                  <sklearn.compose._column_transformer.make_column_selector object at 0x000001BCD7C4F850>)])),\n",
       "                ('dtc', DecisionTreeClassifier())])"
      ]
     },
     "execution_count": 42,
     "metadata": {},
     "output_type": "execute_result"
    }
   ],
   "source": [
    "dtc_model_pipeline.fit(X_train, y_train)"
   ]
  },
  {
   "cell_type": "code",
   "execution_count": 43,
   "metadata": {
    "ExecuteTime": {
     "end_time": "2023-05-24T18:26:38.515790Z",
     "start_time": "2023-05-24T18:26:38.129791Z"
    }
   },
   "outputs": [
    {
     "data": {
      "text/plain": [
       "<AxesSubplot:title={'center':'CV Results for `dtc` Model'}>"
      ]
     },
     "execution_count": 43,
     "metadata": {},
     "output_type": "execute_result"
    },
    {
     "data": {
      "image/png": "[encoded data removed]",
      "text/plain": [
       "<Figure size 720x720 with 1 Axes>"
      ]
     },
     "metadata": {
      "needs_background": "light"
     },
     "output_type": "display_data"
    }
   ],
   "source": [
    "dtc_pipe = ModelWithCV(\n",
    "    dtc_model_pipe,\n",
    "    model_name='dtc',\n",
    "    X=X_test,\n",
    "    y=y_test)\n",
    "fix, ax = plt.subplots(figsize=(10,10))\n",
    "\n",
    "dtc_pipe.plot_cv(ax=ax)"
   ]
  },
  {
   "cell_type": "code",
   "execution_count": null,
   "metadata": {},
   "outputs": [],
   "source": []
  },
  {
   "cell_type": "code",
   "execution_count": 49,
   "metadata": {
    "ExecuteTime": {
     "end_time": "2023-05-24T18:31:43.176913Z",
     "start_time": "2023-05-24T18:31:43.161417Z"
    }
   },
   "outputs": [],
   "source": [
    "dum_model = DummyClassifier(strategy='most_frequent')\n",
    "lr_model = LogisticRegression()\n",
    "tree_model = DecisionTreeClassifier()"
   ]
  },
  {
   "cell_type": "code",
   "execution_count": 50,
   "metadata": {
    "ExecuteTime": {
     "end_time": "2023-05-24T18:31:44.385913Z",
     "start_time": "2023-05-24T18:31:44.372885Z"
    }
   },
   "outputs": [],
   "source": [
    "model_list = [('dummy',dum_model), ('logreg',lr_model), ('dtc',tree_model)]"
   ]
  },
  {
   "cell_type": "code",
   "execution_count": 52,
   "metadata": {
    "ExecuteTime": {
     "end_time": "2023-05-24T18:32:56.064263Z",
     "start_time": "2023-05-24T18:32:55.189764Z"
    }
   },
   "outputs": [
    {
     "name": "stdout",
     "output_type": "stream",
     "text": [
      "CV Results for `dummy` model:\n",
      "            0.60079 ± 0.01428 accuracy\n",
      "        \n",
      "CV Results for `logreg` model:\n",
      "            0.82925 ± 0.07646 accuracy\n",
      "        \n",
      "CV Results for `dtc` model:\n",
      "            0.79348 ± 0.08136 accuracy\n",
      "        \n"
     ]
    }
   ],
   "source": [
    "for name, model in model_list:\n",
    "    loop_model_pipe = Pipeline(steps=[\n",
    "        ('ct', CT),\n",
    "        (name, model)\n",
    "    ])\n",
    "    \n",
    "    loop_model_pipe.fit(X_train,y_train)\n",
    "    \n",
    "    loop_pipe = ModelWithCV(\n",
    "        loop_model_pipe,\n",
    "        model_name=name,\n",
    "        X=X_test,\n",
    "        y=y_test)\n",
    "    \n",
    "    loop_pipe.print_cv_summary()\n",
    "    "
   ]
  },
  {
   "cell_type": "code",
   "execution_count": null,
   "metadata": {},
   "outputs": [],
   "source": []
  },
  {
   "cell_type": "code",
   "execution_count": null,
   "metadata": {},
   "outputs": [],
   "source": []
  },
  {
   "cell_type": "markdown",
   "metadata": {},
   "source": [
    "## Trying Other Models at the End of the Pipeline"
   ]
  },
  {
   "cell_type": "markdown",
   "metadata": {},
   "source": [
    "Can I have multiple models in a single pipeline? Yes. We'll forgo this here, but for more on this see [here](https://stackoverflow.com/questions/48507651/multiple-classification-models-in-a-scikit-pipeline-python)."
   ]
  },
  {
   "cell_type": "markdown",
   "metadata": {
    "heading_collapsed": true
   },
   "source": [
    "### Random Forest"
   ]
  },
  {
   "cell_type": "code",
   "execution_count": null,
   "metadata": {
    "hidden": true
   },
   "outputs": [],
   "source": [
    "# rfc!"
   ]
  },
  {
   "cell_type": "markdown",
   "metadata": {
    "heading_collapsed": true
   },
   "source": [
    "### Gradient Booster"
   ]
  },
  {
   "cell_type": "code",
   "execution_count": null,
   "metadata": {
    "hidden": true
   },
   "outputs": [],
   "source": [
    "# gbc!"
   ]
  },
  {
   "cell_type": "markdown",
   "metadata": {},
   "source": [
    "## Tuning and Cross-Validating"
   ]
  },
  {
   "cell_type": "code",
   "execution_count": 54,
   "metadata": {
    "ExecuteTime": {
     "end_time": "2023-05-24T18:35:28.647698Z",
     "start_time": "2023-05-24T18:35:28.542732Z"
    }
   },
   "outputs": [
    {
     "data": {
      "text/plain": [
       "Pipeline(steps=[('ct',\n",
       "                 ColumnTransformer(remainder='passthrough',\n",
       "                                   transformers=[('subpipe_num',\n",
       "                                                  Pipeline(steps=[('num_impute',\n",
       "                                                                   SimpleImputer(strategy='median')),\n",
       "                                                                  ('ss',\n",
       "                                                                   StandardScaler())]),\n",
       "                                                  <sklearn.compose._column_transformer.make_column_selector object at 0x000001BCD7C4FFA0>),\n",
       "                                                 ('subpipe_cat',\n",
       "                                                  Pipeline(steps=[('cat_impute',\n",
       "                                                                   SimpleImputer(strategy='most_frequent')),\n",
       "                                                                  ('ohe',\n",
       "                                                                   OneHotEncoder(handle_unknown='ignore',\n",
       "                                                                                 sparse=False))]),\n",
       "                                                  <sklearn.compose._column_transformer.make_column_selector object at 0x000001BCD7C4F850>)])),\n",
       "                ('dtc', DecisionTreeClassifier())])"
      ]
     },
     "execution_count": 54,
     "metadata": {},
     "output_type": "execute_result"
    }
   ],
   "source": [
    "dtc_model_pipe\n"
   ]
  },
  {
   "cell_type": "code",
   "execution_count": null,
   "metadata": {},
   "outputs": [],
   "source": [
    "DecisionTreeClassifier()"
   ]
  },
  {
   "cell_type": "code",
   "execution_count": 62,
   "metadata": {
    "ExecuteTime": {
     "end_time": "2023-05-24T18:40:46.488567Z",
     "start_time": "2023-05-24T18:40:46.477066Z"
    }
   },
   "outputs": [],
   "source": [
    "params = {}\n",
    "\n",
    "params['ct__subpipe_num__num_impute__strategy'] = ['mean','median']\n",
    "params['dtc__criterion'] = ['gini','entropy']\n",
    "params['dtc__min_samples_leaf'] = [1, 5, 10]\n",
    "params['dtc__max_depth'] = [1,2,3,4,5]"
   ]
  },
  {
   "cell_type": "code",
   "execution_count": 63,
   "metadata": {
    "ExecuteTime": {
     "end_time": "2023-05-24T18:40:48.596567Z",
     "start_time": "2023-05-24T18:40:48.583567Z"
    }
   },
   "outputs": [],
   "source": [
    "# GridSearch?\n",
    "\n",
    "gs = GridSearchCV(estimator=dtc_model_pipe,\n",
    "                 param_grid=params,\n",
    "                 cv=10)"
   ]
  },
  {
   "cell_type": "code",
   "execution_count": 64,
   "metadata": {
    "ExecuteTime": {
     "end_time": "2023-05-24T18:41:10.482567Z",
     "start_time": "2023-05-24T18:40:50.644566Z"
    }
   },
   "outputs": [
    {
     "data": {
      "text/plain": [
       "GridSearchCV(cv=10,\n",
       "             estimator=Pipeline(steps=[('ct',\n",
       "                                        ColumnTransformer(remainder='passthrough',\n",
       "                                                          transformers=[('subpipe_num',\n",
       "                                                                         Pipeline(steps=[('num_impute',\n",
       "                                                                                          SimpleImputer(strategy='median')),\n",
       "                                                                                         ('ss',\n",
       "                                                                                          StandardScaler())]),\n",
       "                                                                         <sklearn.compose._column_transformer.make_column_selector object at 0x000001BCD7C4FFA0>),\n",
       "                                                                        ('subpipe_cat',\n",
       "                                                                         Pipeline(steps=[('cat_impute',\n",
       "                                                                                          SimpleI...\n",
       "                                                                                         ('ohe',\n",
       "                                                                                          OneHotEncoder(handle_unknown='ignore',\n",
       "                                                                                                        sparse=False))]),\n",
       "                                                                         <sklearn.compose._column_transformer.make_column_selector object at 0x000001BCD7C4F850>)])),\n",
       "                                       ('dtc', DecisionTreeClassifier())]),\n",
       "             param_grid={'ct__subpipe_num__num_impute__strategy': ['mean',\n",
       "                                                                   'median'],\n",
       "                         'dtc__criterion': ['gini', 'entropy'],\n",
       "                         'dtc__max_depth': [1, 2, 3, 4, 5],\n",
       "                         'dtc__min_samples_leaf': [1, 5, 10]})"
      ]
     },
     "execution_count": 64,
     "metadata": {},
     "output_type": "execute_result"
    }
   ],
   "source": [
    "gs.fit(X_train, y_train)"
   ]
  },
  {
   "cell_type": "code",
   "execution_count": 65,
   "metadata": {
    "ExecuteTime": {
     "end_time": "2023-05-24T18:41:12.761066Z",
     "start_time": "2023-05-24T18:41:12.749067Z"
    }
   },
   "outputs": [
    {
     "data": {
      "text/plain": [
       "{'ct__subpipe_num__num_impute__strategy': 'median',\n",
       " 'dtc__criterion': 'entropy',\n",
       " 'dtc__max_depth': 4,\n",
       " 'dtc__min_samples_leaf': 1}"
      ]
     },
     "execution_count": 65,
     "metadata": {},
     "output_type": "execute_result"
    }
   ],
   "source": [
    "gs.best_params_"
   ]
  },
  {
   "cell_type": "code",
   "execution_count": 68,
   "metadata": {
    "ExecuteTime": {
     "end_time": "2023-05-24T18:41:25.602549Z",
     "start_time": "2023-05-24T18:41:25.491051Z"
    }
   },
   "outputs": [
    {
     "data": {
      "text/plain": [
       "Pipeline(steps=[('ct',\n",
       "                 ColumnTransformer(remainder='passthrough',\n",
       "                                   transformers=[('subpipe_num',\n",
       "                                                  Pipeline(steps=[('num_impute',\n",
       "                                                                   SimpleImputer(strategy='median')),\n",
       "                                                                  ('ss',\n",
       "                                                                   StandardScaler())]),\n",
       "                                                  <sklearn.compose._column_transformer.make_column_selector object at 0x000001BCD813B490>),\n",
       "                                                 ('subpipe_cat',\n",
       "                                                  Pipeline(steps=[('cat_impute',\n",
       "                                                                   SimpleImputer(strategy='most_frequent')),\n",
       "                                                                  ('ohe',\n",
       "                                                                   OneHotEncoder(handle_unknown='ignore',\n",
       "                                                                                 sparse=False))]),\n",
       "                                                  <sklearn.compose._column_transformer.make_column_selector object at 0x000001BCD7E9FA60>)])),\n",
       "                ('dtc',\n",
       "                 DecisionTreeClassifier(criterion='entropy', max_depth=4))])"
      ]
     },
     "execution_count": 68,
     "metadata": {},
     "output_type": "execute_result"
    }
   ],
   "source": [
    "gs.best_estimator_"
   ]
  },
  {
   "cell_type": "code",
   "execution_count": null,
   "metadata": {},
   "outputs": [],
   "source": [
    "# Mean test score for each of six models"
   ]
  },
  {
   "cell_type": "code",
   "execution_count": 70,
   "metadata": {
    "ExecuteTime": {
     "end_time": "2023-05-24T18:43:46.983628Z",
     "start_time": "2023-05-24T18:43:46.595629Z"
    }
   },
   "outputs": [
    {
     "data": {
      "text/plain": [
       "<AxesSubplot:title={'center':'CV Results for `gs` Model'}>"
      ]
     },
     "execution_count": 70,
     "metadata": {},
     "output_type": "execute_result"
    },
    {
     "data": {
      "image/png": "[encoded data removed]",
      "text/plain": [
       "<Figure size 720x720 with 1 Axes>"
      ]
     },
     "metadata": {
      "needs_background": "light"
     },
     "output_type": "display_data"
    }
   ],
   "source": [
    "gs_pipe = ModelWithCV(\n",
    "    gs.best_estimator_,\n",
    "    model_name='gs',\n",
    "    X=X_test,\n",
    "    y=y_test)\n",
    "fix, ax = plt.subplots(figsize=(10,10))\n",
    "\n",
    "gs_pipe.plot_cv(ax=ax)"
   ]
  },
  {
   "cell_type": "markdown",
   "metadata": {},
   "source": [
    "## `imblearn` Pipelines\n",
    "\n",
    "### Dealing with the Target Imbalance"
   ]
  },
  {
   "cell_type": "markdown",
   "metadata": {},
   "source": [
    "Let's use `SMOTE()`:"
   ]
  },
  {
   "cell_type": "code",
   "execution_count": 71,
   "metadata": {
    "ExecuteTime": {
     "end_time": "2023-05-24T18:46:33.925509Z",
     "start_time": "2023-05-24T18:46:33.907510Z"
    }
   },
   "outputs": [
    {
     "data": {
      "text/plain": [
       "0    415\n",
       "1    253\n",
       "Name: Survived, dtype: int64"
      ]
     },
     "execution_count": 71,
     "metadata": {},
     "output_type": "execute_result"
    }
   ],
   "source": [
    "y_train.value_counts()"
   ]
  },
  {
   "cell_type": "code",
   "execution_count": 72,
   "metadata": {
    "ExecuteTime": {
     "end_time": "2023-05-24T18:46:45.837840Z",
     "start_time": "2023-05-24T18:46:45.829869Z"
    }
   },
   "outputs": [],
   "source": [
    "sm = SMOTE(sampling_strategy='auto', random_state=42)"
   ]
  },
  {
   "cell_type": "code",
   "execution_count": 73,
   "metadata": {
    "ExecuteTime": {
     "end_time": "2023-05-24T18:46:49.308178Z",
     "start_time": "2023-05-24T18:46:49.298705Z"
    }
   },
   "outputs": [],
   "source": [
    "sm2 = SMOTE(sampling_strategy=0.8, random_state=42)"
   ]
  },
  {
   "cell_type": "markdown",
   "metadata": {},
   "source": [
    "To make things simple (and avoid errors!), let's just grab the numeric types and eliminate the NaNs from X_train:"
   ]
  },
  {
   "cell_type": "code",
   "execution_count": 74,
   "metadata": {
    "ExecuteTime": {
     "end_time": "2023-05-24T18:46:53.474951Z",
     "start_time": "2023-05-24T18:46:53.462450Z"
    }
   },
   "outputs": [],
   "source": [
    "X_train_clean = X_train.select_dtypes(['float', 'int']).dropna()\n",
    "y_train_clean = y_train[X_train_clean.index]"
   ]
  },
  {
   "cell_type": "code",
   "execution_count": 75,
   "metadata": {
    "ExecuteTime": {
     "end_time": "2023-05-24T18:46:55.412451Z",
     "start_time": "2023-05-24T18:46:55.398951Z"
    }
   },
   "outputs": [
    {
     "data": {
      "text/plain": [
       "0    317\n",
       "1    219\n",
       "Name: Survived, dtype: int64"
      ]
     },
     "execution_count": 75,
     "metadata": {},
     "output_type": "execute_result"
    }
   ],
   "source": [
    "y_train_clean.value_counts()"
   ]
  },
  {
   "cell_type": "code",
   "execution_count": null,
   "metadata": {},
   "outputs": [],
   "source": [
    "sm."
   ]
  },
  {
   "cell_type": "code",
   "execution_count": 76,
   "metadata": {
    "ExecuteTime": {
     "end_time": "2023-05-24T18:47:47.776174Z",
     "start_time": "2023-05-24T18:47:47.757672Z"
    }
   },
   "outputs": [
    {
     "data": {
      "text/plain": [
       "1    317\n",
       "0    317\n",
       "Name: Survived, dtype: int64"
      ]
     },
     "execution_count": 76,
     "metadata": {},
     "output_type": "execute_result"
    }
   ],
   "source": [
    "# Even distribution\n",
    "\n",
    "X_clean_resmp, y_clean_resmp = sm.fit_resample(X_train_clean, y_train_clean)\n",
    "\n",
    "y_clean_resmp.value_counts()"
   ]
  },
  {
   "cell_type": "code",
   "execution_count": 77,
   "metadata": {
    "ExecuteTime": {
     "end_time": "2023-05-24T18:48:11.223570Z",
     "start_time": "2023-05-24T18:48:11.202600Z"
    }
   },
   "outputs": [
    {
     "data": {
      "text/plain": [
       "0    317\n",
       "1    253\n",
       "Name: Survived, dtype: int64"
      ]
     },
     "execution_count": 77,
     "metadata": {},
     "output_type": "execute_result"
    }
   ],
   "source": [
    "# Distribution where count of 1's = 0.8 * count of 0's\n",
    "\n",
    "X_clean_resmp2, y_clean_resmp2 = sm2.fit_resample(X_train_clean, y_train_clean)\n",
    "\n",
    "y_clean_resmp2.value_counts()"
   ]
  },
  {
   "cell_type": "markdown",
   "metadata": {},
   "source": [
    "### `imblearn` Pipeline"
   ]
  },
  {
   "cell_type": "markdown",
   "metadata": {},
   "source": [
    "Of course, we want to be able to perform all of our preprocessing steps from above, but just now add `SMOTE`. Good thing we can throw it all into a pipeline!"
   ]
  },
  {
   "cell_type": "code",
   "execution_count": 82,
   "metadata": {
    "ExecuteTime": {
     "end_time": "2023-05-24T18:51:51.323755Z",
     "start_time": "2023-05-24T18:51:51.314729Z"
    }
   },
   "outputs": [],
   "source": [
    "def grab_numeric(df):\n",
    "    return df.select_dtypes(include=['float','int'])"
   ]
  },
  {
   "cell_type": "code",
   "execution_count": 83,
   "metadata": {
    "ExecuteTime": {
     "end_time": "2023-05-24T18:51:53.338753Z",
     "start_time": "2023-05-24T18:51:53.325269Z"
    }
   },
   "outputs": [],
   "source": [
    "GrabNumeric = FunctionTransformer(grab_numeric)"
   ]
  },
  {
   "cell_type": "code",
   "execution_count": 84,
   "metadata": {
    "ExecuteTime": {
     "end_time": "2023-05-24T18:51:55.446728Z",
     "start_time": "2023-05-24T18:51:55.434227Z"
    }
   },
   "outputs": [],
   "source": [
    "pipe = Pipeline(steps=[\n",
    "    ('num',GrabNumeric),\n",
    "    ('ss', StandardScaler())\n",
    "])"
   ]
  },
  {
   "cell_type": "code",
   "execution_count": 85,
   "metadata": {
    "ExecuteTime": {
     "end_time": "2023-05-24T18:51:57.616729Z",
     "start_time": "2023-05-24T18:51:57.604228Z"
    }
   },
   "outputs": [
    {
     "data": {
      "text/plain": [
       "Pipeline(steps=[('num',\n",
       "                 FunctionTransformer(func=<function grab_numeric at 0x000001BCDA5BB550>)),\n",
       "                ('ss', StandardScaler())])"
      ]
     },
     "execution_count": 85,
     "metadata": {},
     "output_type": "execute_result"
    }
   ],
   "source": [
    "pipe.fit(X_train)"
   ]
  },
  {
   "cell_type": "code",
   "execution_count": 86,
   "metadata": {
    "ExecuteTime": {
     "end_time": "2023-05-24T18:52:06.016464Z",
     "start_time": "2023-05-24T18:52:05.990495Z"
    }
   },
   "outputs": [
    {
     "data": {
      "text/plain": [
       "array([[            nan, -3.28390858e-01],\n",
       "       [ 1.08779451e-01, -4.20425490e-01],\n",
       "       [-6.49190250e-01, -4.70362102e-01],\n",
       "       [-1.61387896e+00,  1.59138442e-02],\n",
       "       [-1.06262827e+00, -4.06041806e-01],\n",
       "       [-2.35752232e-01,  9.05076442e-01],\n",
       "       [            nan, -4.73755853e-01],\n",
       "       [-9.24815596e-01, -2.74979045e-01],\n",
       "       [-9.24815596e-01, -4.73755853e-01],\n",
       "       [-7.18096587e-01, -1.14342174e-01],\n",
       "       [ 5.22217470e-01,  4.05710316e-01],\n",
       "       [ 1.00456183e+00, -4.67937995e-01],\n",
       "       [            nan, -1.30178383e-01],\n",
       "       [ 3.98731144e-02, -4.83937104e-01],\n",
       "       [ 4.53311133e-01, -3.71943341e-01],\n",
       "       [-9.24815596e-01,  1.40028144e-01],\n",
       "       [ 8.66749152e-01,  3.95125693e-01],\n",
       "       [            nan, -4.72219938e-01],\n",
       "       [-1.66845895e-01, -3.71943341e-01],\n",
       "       [ 1.21128083e+00,  3.84378170e-01],\n",
       "       [-3.73564904e-01, -4.70928374e-01],\n",
       "       [ 3.15498460e-01, -1.09170098e-01],\n",
       "       [-7.18096587e-01, -4.71735117e-01],\n",
       "       [-6.49190250e-01, -4.45151385e-01],\n",
       "       [            nan, -3.42854052e-01],\n",
       "       [-1.33825362e+00, -8.29897381e-02],\n",
       "       [ 7.28936479e-01, -8.64649385e-02],\n",
       "       [ 1.08779451e-01, -3.71943341e-01],\n",
       "       [-1.75169163e+00, -8.29897381e-02],\n",
       "       [ 1.08779451e-01, -4.71735117e-01],\n",
       "       [-7.18096587e-01, -4.70928374e-01],\n",
       "       [-5.11377577e-01, -4.73755853e-01],\n",
       "       [            nan, -2.87711822e-02],\n",
       "       [            nan, -4.77634424e-01],\n",
       "       [-7.87002923e-01, -4.67937995e-01],\n",
       "       [-1.66845895e-01, -3.43742245e-01],\n",
       "       [-9.79395585e-02,  6.43959924e-02],\n",
       "       [            nan, -4.73755853e-01],\n",
       "       [ 3.98731144e-02, -2.28718744e-02],\n",
       "       [            nan, -4.70928374e-01],\n",
       "       [-5.80283914e-01,  8.01324645e-01],\n",
       "       [-2.90332221e-02, -4.87412304e-01],\n",
       "       [            nan, -4.67937995e-01],\n",
       "       [            nan, -4.73755853e-01],\n",
       "       [ 1.07346816e+00, -3.43742245e-01],\n",
       "       [-9.24815596e-01,  4.25790257e-02],\n",
       "       [-7.18096587e-01, -4.65837748e-01],\n",
       "       [-4.42471241e-01, -4.45151385e-01],\n",
       "       [-3.73564904e-01, -4.87330854e-01],\n",
       "       [ 1.96925054e+00,  1.57267562e+00],\n",
       "       [-1.68278530e+00, -2.50577010e-01],\n",
       "       [ 1.55581252e+00,  1.18918183e+00],\n",
       "       [ 7.28936479e-01, -8.29897381e-02],\n",
       "       [-1.26934728e+00,  1.70309260e+00],\n",
       "       [ 2.45159489e+00, -4.73755853e-01],\n",
       "       [-7.87002923e-01,  9.20590729e-01],\n",
       "       [ 1.77685787e-01, -4.20425490e-01],\n",
       "       [ 1.41799984e+00,  4.17608553e+00],\n",
       "       [ 3.84404797e-01, -2.16800467e-01],\n",
       "       [-7.18096587e-01, -4.71250295e-01],\n",
       "       [-5.80283914e-01, -4.73271031e-01],\n",
       "       [-1.13153461e+00, -2.45889756e-01],\n",
       "       [-9.79395585e-02, -1.19836171e-01],\n",
       "       [            nan, -1.21290635e-01],\n",
       "       [            nan, -4.73755853e-01],\n",
       "       [ 1.90034420e+00, -4.20425490e-01],\n",
       "       [-5.80283914e-01,  8.01324645e-01],\n",
       "       [-2.90332221e-02, -4.71331745e-01],\n",
       "       [-8.55909260e-01, -4.83855654e-01],\n",
       "       [ 1.55581252e+00,  8.93764587e-01],\n",
       "       [-2.35752232e-01, -1.19836171e-01],\n",
       "       [-7.87002923e-01,  4.46415094e+00],\n",
       "       [-2.35752232e-01, -4.22647336e-02],\n",
       "       [ 6.60030143e-01,  9.88626698e-01],\n",
       "       [-4.42471241e-01, -4.71735117e-01],\n",
       "       [ 4.53311133e-01, -3.22491550e-01],\n",
       "       [ 7.43262826e-02, -4.73755853e-01],\n",
       "       [-5.11377577e-01,  3.35896022e-01],\n",
       "       [ 5.91123806e-01, -3.71943341e-01],\n",
       "       [ 7.97842816e-01, -2.32072344e-01],\n",
       "       [-9.24815596e-01,  1.45603591e-01],\n",
       "       [-2.90332221e-02, -4.20425490e-01],\n",
       "       [ 7.28936479e-01,  1.98428906e+00],\n",
       "       [            nan, -4.73998263e-01],\n",
       "       [ 1.83143786e+00, -2.87711822e-02],\n",
       "       [ 2.86503291e+00,  3.35977472e-01],\n",
       "       [ 1.08779451e-01,  1.57267562e+00],\n",
       "       [ 3.98731144e-02,  4.79969452e-01],\n",
       "       [ 5.91123806e-01, -6.24050512e-01],\n",
       "       [            nan, -4.83452282e-01],\n",
       "       [-1.40715995e+00, -2.26012075e-01],\n",
       "       [-1.40715995e+00, -1.75388381e-02],\n",
       "       [ 2.17596955e+00,  2.74221417e-03],\n",
       "       [            nan, -4.74159224e-01],\n",
       "       [            nan, -4.70928374e-01],\n",
       "       [-9.79395585e-02, -4.71735117e-01],\n",
       "       [ 1.28018717e+00,  3.84378170e-01],\n",
       "       [ 1.07346816e+00, -4.67937995e-01],\n",
       "       [ 4.53311133e-01, -3.71943341e-01],\n",
       "       [-1.66845895e-01, -4.70928374e-01],\n",
       "       [ 2.38268855e+00, -1.19836171e-01],\n",
       "       [ 3.84404797e-01, -4.85876390e-01],\n",
       "       [-7.18096587e-01,  1.14223560e+00],\n",
       "       [ 5.91123806e-01, -4.87330854e-01],\n",
       "       [ 7.43262826e-02, -4.67937995e-01],\n",
       "       [-3.04658568e-01, -4.73271031e-01],\n",
       "       [ 7.28936479e-01,  1.32271000e-01],\n",
       "       [ 1.21128083e+00,  1.22574570e-01],\n",
       "       [ 3.98731144e-02, -4.39818349e-01],\n",
       "       [ 7.28936479e-01, -2.28718744e-02],\n",
       "       [            nan,  3.84378170e-01],\n",
       "       [-6.14737082e-01, -4.83452282e-01],\n",
       "       [            nan,  1.10393470e+00],\n",
       "       [ 4.53311133e-01, -1.14260724e-01],\n",
       "       [            nan,  3.67688230e+00],\n",
       "       [-6.49190250e-01, -4.33112298e-01],\n",
       "       [ 2.86503291e+00,  4.79935120e-02],\n",
       "       [ 4.53311133e-01, -3.74367449e-01],\n",
       "       [-5.11377577e-01, -6.16575929e-02],\n",
       "       [ 1.28018717e+00,  4.25790257e-02],\n",
       "       [-4.42471241e-01, -4.01032630e-01],\n",
       "       [ 1.77685787e-01,  8.55463690e-01],\n",
       "       [ 2.31378222e+00,  8.87783829e-01],\n",
       "       [-1.97012472e+00, -6.16575929e-02],\n",
       "       [-3.04658568e-01, -4.83452282e-01],\n",
       "       [ 3.84404797e-01, -1.09170098e-01],\n",
       "       [ 1.34909351e+00, -1.21209185e-01],\n",
       "       [-3.73564904e-01,  9.11863943e-01],\n",
       "       [            nan, -3.43662735e-01],\n",
       "       [-5.80283914e-01, -4.67937995e-01],\n",
       "       [            nan, -4.71250295e-01],\n",
       "       [            nan, -3.28390858e-01],\n",
       "       [            nan, -6.24050512e-01],\n",
       "       [-1.68278530e+00, -3.82124592e-01],\n",
       "       [ 1.34909351e+00,  4.79969452e-01],\n",
       "       [-9.93721933e-01, -3.43742245e-01],\n",
       "       [            nan,  1.52629372e+00],\n",
       "       [-2.90332221e-02, -4.73271031e-01],\n",
       "       [ 8.66749152e-01, -4.77634424e-01],\n",
       "       [-7.87002923e-01, -2.78857617e-01],\n",
       "       [-5.80283914e-01, -4.60504712e-01],\n",
       "       [ 1.00456183e+00, -1.19836171e-01],\n",
       "       [-9.79395585e-02, -3.71943341e-01],\n",
       "       [ 5.22217470e-01, -1.19836171e-01],\n",
       "       [ 6.60030143e-01, -5.92334855e-02],\n",
       "       [ 3.15498460e-01,  6.21741455e-03],\n",
       "       [ 3.98731144e-02, -3.71943341e-01],\n",
       "       [ 2.52050123e+00, -4.20425490e-01],\n",
       "       [            nan,  2.21740674e+00],\n",
       "       [ 9.35655489e-01, -4.67937995e-01],\n",
       "       [            nan, -4.55090225e-01],\n",
       "       [-3.73564904e-01, -4.78685517e-01],\n",
       "       [-7.87002923e-01, -4.72867660e-01],\n",
       "       [            nan, -1.55712960e-01],\n",
       "       [            nan, -4.67937995e-01],\n",
       "       [            nan, -4.87330854e-01],\n",
       "       [            nan,  4.71564587e-01],\n",
       "       [            nan, -4.73028620e-01],\n",
       "       [ 4.53311133e-01, -1.19836171e-01],\n",
       "       [ 1.77685787e-01, -3.23461193e-01],\n",
       "       [-4.08018073e-01, -4.83855654e-01],\n",
       "       [            nan, -1.09170098e-01],\n",
       "       [ 6.60030143e-01, -3.71943341e-01],\n",
       "       [            nan,  9.69476249e-01],\n",
       "       [            nan, -4.60019890e-01],\n",
       "       [ 2.45159489e+00,  5.77903392e-01],\n",
       "       [-4.42471241e-01, -4.20425490e-01],\n",
       "       [            nan,  3.81711652e-01],\n",
       "       [-5.11377577e-01, -4.70928374e-01],\n",
       "       [ 3.84404797e-01, -4.87330854e-01],\n",
       "       [-4.42471241e-01,  6.04648084e-01],\n",
       "       [-7.87002923e-01, -3.71943341e-01],\n",
       "       [ 4.53311133e-01, -1.12321438e-01],\n",
       "       [-1.40715995e+00, -3.28390858e-01],\n",
       "       [-8.55909260e-01, -4.85876390e-01],\n",
       "       [            nan, -4.83937104e-01],\n",
       "       [ 5.91123806e-01, -1.53571414e-02],\n",
       "       [-8.55909260e-01, -4.20425490e-01],\n",
       "       [-1.75169163e+00, -3.00189762e-01],\n",
       "       [ 1.10792133e+00, -7.13540226e-02],\n",
       "       [-4.42471241e-01, -3.71943341e-01],\n",
       "       [ 1.77685787e-01, -4.70362102e-01],\n",
       "       [-2.35752232e-01, -4.71735117e-01],\n",
       "       [-1.61387896e+00, -1.75388381e-02],\n",
       "       [-3.73564904e-01,  4.17608553e+00],\n",
       "       [ 1.07346816e+00, -1.09170098e-01],\n",
       "       [-2.90332221e-02, -8.64649385e-02],\n",
       "       [            nan, -4.70928374e-01],\n",
       "       [            nan,  6.43959924e-02],\n",
       "       [ 8.66749152e-01, -3.71943341e-01],\n",
       "       [ 4.53311133e-01, -1.55712960e-01],\n",
       "       [ 2.46592124e-01, -3.86003164e-01],\n",
       "       [-8.55909260e-01, -4.87249404e-01],\n",
       "       [-2.90332221e-02, -4.39818349e-01],\n",
       "       [ 1.41799984e+00, -1.19836171e-01],\n",
       "       [ 3.84404797e-01,  1.12130682e+00],\n",
       "       [ 5.91123806e-01,  3.78830980e+00],\n",
       "       [ 3.15498460e-01, -3.71943341e-01],\n",
       "       [-8.55909260e-01,  4.81342467e-01],\n",
       "       [-1.26934728e+00, -1.75388381e-02],\n",
       "       [ 2.17596955e+00, -5.03087552e-01],\n",
       "       [ 3.98731144e-02, -4.56059868e-01],\n",
       "       [-1.54497262e+00, -1.14987956e-01],\n",
       "       [ 2.31378222e+00, -4.38121474e-01],\n",
       "       [-6.49190250e-01, -4.83855654e-01],\n",
       "       [            nan, -1.90459146e-01],\n",
       "       [-2.90332221e-02, -4.40142210e-01],\n",
       "       [ 4.53311133e-01,  1.70309260e+00],\n",
       "       [            nan, -3.43662735e-01],\n",
       "       [ 1.41799984e+00, -4.67937995e-01],\n",
       "       [-1.66845895e-01,  3.47753923e+00],\n",
       "       [ 3.98731144e-02, -4.83452282e-01],\n",
       "       [ 2.46592124e-01,  1.12130682e+00],\n",
       "       [            nan, -4.74240674e-01],\n",
       "       [            nan, -1.30178383e-01],\n",
       "       [-1.88950431e+00, -2.15346003e-01],\n",
       "       [-3.04658568e-01, -4.22647336e-02],\n",
       "       [ 1.48690618e+00,  5.66267676e-01],\n",
       "       [-3.04658568e-01, -1.19836171e-01],\n",
       "       [            nan, -4.83452282e-01],\n",
       "       [            nan, -4.70928374e-01],\n",
       "       [-3.73564904e-01, -3.71943341e-01],\n",
       "       [-7.87002923e-01, -2.32072344e-01]])"
      ]
     },
     "execution_count": 86,
     "metadata": {},
     "output_type": "execute_result"
    }
   ],
   "source": [
    "pipe.transform(X_test)"
   ]
  },
  {
   "cell_type": "code",
   "execution_count": 87,
   "metadata": {
    "ExecuteTime": {
     "end_time": "2023-05-24T18:53:32.546330Z",
     "start_time": "2023-05-24T18:53:32.542830Z"
    }
   },
   "outputs": [],
   "source": [
    "# imbpipe!\n",
    "\n",
    "imb_pipe = ImPipeline(steps=[\n",
    "    ('ct',CT),\n",
    "    ('sm',SMOTE(random_state=42)),\n",
    "    ('dtc',DecisionTreeClassifier(random_state=42))\n",
    "])"
   ]
  },
  {
   "cell_type": "code",
   "execution_count": 88,
   "metadata": {
    "ExecuteTime": {
     "end_time": "2023-05-24T18:53:44.976632Z",
     "start_time": "2023-05-24T18:53:44.735632Z"
    }
   },
   "outputs": [
    {
     "data": {
      "text/plain": [
       "Pipeline(steps=[('ct',\n",
       "                 ColumnTransformer(remainder='passthrough',\n",
       "                                   transformers=[('subpipe_num',\n",
       "                                                  Pipeline(steps=[('num_impute',\n",
       "                                                                   SimpleImputer(strategy='median')),\n",
       "                                                                  ('ss',\n",
       "                                                                   StandardScaler())]),\n",
       "                                                  <sklearn.compose._column_transformer.make_column_selector object at 0x000001BCD7C4FFA0>),\n",
       "                                                 ('subpipe_cat',\n",
       "                                                  Pipeline(steps=[('cat_impute',\n",
       "                                                                   SimpleImputer(strategy='most_frequent')),\n",
       "                                                                  ('ohe',\n",
       "                                                                   OneHotEncoder(handle_unknown='ignore',\n",
       "                                                                                 sparse=False))]),\n",
       "                                                  <sklearn.compose._column_transformer.make_column_selector object at 0x000001BCD7C4F850>)])),\n",
       "                ('sm', SMOTE(random_state=42)),\n",
       "                ('dtc', DecisionTreeClassifier(random_state=42))])"
      ]
     },
     "execution_count": 88,
     "metadata": {},
     "output_type": "execute_result"
    }
   ],
   "source": [
    "imb_pipe.fit(X_train,y_train)"
   ]
  },
  {
   "cell_type": "code",
   "execution_count": 89,
   "metadata": {
    "ExecuteTime": {
     "end_time": "2023-05-24T18:54:01.234010Z",
     "start_time": "2023-05-24T18:54:01.207010Z"
    }
   },
   "outputs": [
    {
     "data": {
      "text/plain": [
       "0.9985029940119761"
      ]
     },
     "execution_count": 89,
     "metadata": {},
     "output_type": "execute_result"
    }
   ],
   "source": [
    "imb_pipe.score(X_train,y_train)"
   ]
  },
  {
   "cell_type": "code",
   "execution_count": 90,
   "metadata": {
    "ExecuteTime": {
     "end_time": "2023-05-24T18:54:16.330610Z",
     "start_time": "2023-05-24T18:54:16.307137Z"
    }
   },
   "outputs": [
    {
     "data": {
      "text/plain": [
       "0.7757847533632287"
      ]
     },
     "execution_count": 90,
     "metadata": {},
     "output_type": "execute_result"
    }
   ],
   "source": [
    "imb_pipe.score(X_test,y_test)"
   ]
  },
  {
   "cell_type": "markdown",
   "metadata": {},
   "source": [
    "### Gridsearching"
   ]
  },
  {
   "cell_type": "code",
   "execution_count": 91,
   "metadata": {
    "ExecuteTime": {
     "end_time": "2023-05-24T18:55:13.281476Z",
     "start_time": "2023-05-24T18:55:13.266446Z"
    }
   },
   "outputs": [],
   "source": [
    "# Seriously? Again?\n",
    "parameters = {'dtc__criterion': ['gini', 'entropy'],\n",
    "          'dtc__min_samples_leaf': [1, 5, 10],\n",
    "          'sm__k_neighbors': [3, 5, 9]}\n",
    "\n",
    "gs = GridSearchCV(estimator=imb_pipe,\n",
    "                 param_grid=parameters,\n",
    "                 cv=10)"
   ]
  },
  {
   "cell_type": "code",
   "execution_count": 94,
   "metadata": {
    "ExecuteTime": {
     "end_time": "2023-05-24T18:55:52.475971Z",
     "start_time": "2023-05-24T18:55:36.040938Z"
    }
   },
   "outputs": [
    {
     "data": {
      "text/plain": [
       "GridSearchCV(cv=10,\n",
       "             estimator=Pipeline(steps=[('ct',\n",
       "                                        ColumnTransformer(remainder='passthrough',\n",
       "                                                          transformers=[('subpipe_num',\n",
       "                                                                         Pipeline(steps=[('num_impute',\n",
       "                                                                                          SimpleImputer(strategy='median')),\n",
       "                                                                                         ('ss',\n",
       "                                                                                          StandardScaler())]),\n",
       "                                                                         <sklearn.compose._column_transformer.make_column_selector object at 0x000001BCD7C4FFA0>),\n",
       "                                                                        ('subpipe_cat',\n",
       "                                                                         Pipeline(steps=[('cat_impute',\n",
       "                                                                                          SimpleI...requent')),\n",
       "                                                                                         ('ohe',\n",
       "                                                                                          OneHotEncoder(handle_unknown='ignore',\n",
       "                                                                                                        sparse=False))]),\n",
       "                                                                         <sklearn.compose._column_transformer.make_column_selector object at 0x000001BCD7C4F850>)])),\n",
       "                                       ('sm', SMOTE(random_state=42)),\n",
       "                                       ('dtc',\n",
       "                                        DecisionTreeClassifier(random_state=42))]),\n",
       "             param_grid={'dtc__criterion': ['gini', 'entropy'],\n",
       "                         'dtc__min_samples_leaf': [1, 5, 10],\n",
       "                         'sm__k_neighbors': [3, 5, 9]})"
      ]
     },
     "execution_count": 94,
     "metadata": {},
     "output_type": "execute_result"
    }
   ],
   "source": [
    "gs.fit(X_train, y_train)"
   ]
  },
  {
   "cell_type": "code",
   "execution_count": 96,
   "metadata": {
    "ExecuteTime": {
     "end_time": "2023-05-24T18:55:59.666226Z",
     "start_time": "2023-05-24T18:55:59.653226Z"
    }
   },
   "outputs": [
    {
     "data": {
      "text/plain": [
       "{'dtc__criterion': 'gini', 'dtc__min_samples_leaf': 1, 'sm__k_neighbors': 3}"
      ]
     },
     "execution_count": 96,
     "metadata": {},
     "output_type": "execute_result"
    }
   ],
   "source": [
    "gs.best_params_"
   ]
  },
  {
   "cell_type": "code",
   "execution_count": 97,
   "metadata": {
    "ExecuteTime": {
     "end_time": "2023-05-24T18:56:13.020019Z",
     "start_time": "2023-05-24T18:56:13.012520Z"
    }
   },
   "outputs": [],
   "source": [
    "final_model = gs.best_estimator_"
   ]
  },
  {
   "cell_type": "markdown",
   "metadata": {},
   "source": [
    "## Evaluation on Test Set"
   ]
  },
  {
   "cell_type": "markdown",
   "metadata": {},
   "source": [
    "Let's suppose that we choose our final model from this last GridSearch run. Note that the optimal parameters are also the default values!"
   ]
  },
  {
   "cell_type": "code",
   "execution_count": 92,
   "metadata": {
    "ExecuteTime": {
     "end_time": "2023-05-24T18:55:19.401260Z",
     "start_time": "2023-05-24T18:55:19.390761Z"
    }
   },
   "outputs": [],
   "source": [
    "# final_model = imb_pipe"
   ]
  },
  {
   "cell_type": "code",
   "execution_count": 98,
   "metadata": {
    "ExecuteTime": {
     "end_time": "2023-05-24T18:56:23.054708Z",
     "start_time": "2023-05-24T18:56:22.896234Z"
    }
   },
   "outputs": [
    {
     "data": {
      "image/png": "[encoded data removed]",
      "text/plain": [
       "<Figure size 432x288 with 2 Axes>"
      ]
     },
     "metadata": {
      "needs_background": "light"
     },
     "output_type": "display_data"
    }
   ],
   "source": [
    "plot_confusion_matrix(final_model, X_test, y_test);"
   ]
  },
  {
   "cell_type": "code",
   "execution_count": 99,
   "metadata": {
    "ExecuteTime": {
     "end_time": "2023-05-24T18:56:25.612208Z",
     "start_time": "2023-05-24T18:56:25.598208Z"
    }
   },
   "outputs": [],
   "source": [
    "y_hat = final_model.predict(X_test)"
   ]
  },
  {
   "cell_type": "code",
   "execution_count": 100,
   "metadata": {
    "ExecuteTime": {
     "end_time": "2023-05-24T18:56:27.937208Z",
     "start_time": "2023-05-24T18:56:27.923246Z"
    }
   },
   "outputs": [
    {
     "name": "stdout",
     "output_type": "stream",
     "text": [
      "\n",
      "Our final model's accuracy on the test set is 0.79. \n",
      "\n",
      "Our final model's recall on the test set is 0.71 \n",
      "\n",
      "Our final model's precision on the test set is 0.75 \n",
      "\n",
      "Our final model's f1-score on the test is 0.73.\n",
      "\n"
     ]
    }
   ],
   "source": [
    "print(f\"\"\"\n",
    "Our final model's accuracy on the test set is {round(accuracy_score(y_test, y_hat), 2)}. \\n\n",
    "Our final model's recall on the test set is {round(recall_score(y_test, y_hat), 2)} \\n\n",
    "Our final model's precision on the test set is {round(precision_score(y_test, y_hat), 2)} \\n\n",
    "Our final model's f1-score on the test is {round(f1_score(y_test, y_hat), 2)}.\n",
    "\"\"\")"
   ]
  },
  {
   "cell_type": "markdown",
   "metadata": {
    "heading_collapsed": true
   },
   "source": [
    "## Exercise: Your Turn!"
   ]
  },
  {
   "cell_type": "markdown",
   "metadata": {
    "hidden": true
   },
   "source": [
    "Use SMOTE and an estimator (model) of your choice in a pipeline to model the exoplanets' method of discovery (\"method\"). You can build a model one feature at a time or just throw them all in from the beginning. Consider using the LabelEncoder (from sklearn.preprocessing) to code up the target. You'll also need to make a choice about how to handle the null values."
   ]
  },
  {
   "cell_type": "code",
   "execution_count": null,
   "metadata": {
    "hidden": true
   },
   "outputs": [],
   "source": [
    "exos = sns.load_dataset('planets')"
   ]
  },
  {
   "cell_type": "code",
   "execution_count": null,
   "metadata": {
    "hidden": true
   },
   "outputs": [],
   "source": [
    "### Your work here\n",
    "\n",
    "\n",
    "\n",
    "\n",
    "\n",
    "\n"
   ]
  },
  {
   "cell_type": "code",
   "execution_count": null,
   "metadata": {
    "hidden": true
   },
   "outputs": [],
   "source": []
  }
 ],
 "metadata": {
  "kernelspec": {
   "display_name": "learn-env",
   "language": "python",
   "name": "learn-env"
  },
  "language_info": {
   "codemirror_mode": {
    "name": "ipython",
    "version": 3
   },
   "file_extension": ".py",
   "mimetype": "text/x-python",
   "name": "python",
   "nbconvert_exporter": "python",
   "pygments_lexer": "ipython3",
   "version": "3.8.5"
  },
  "toc": {
   "base_numbering": 1,
   "nav_menu": {},
   "number_sections": true,
   "sideBar": true,
   "skip_h1_title": false,
   "title_cell": "Table of Contents",
   "title_sidebar": "Contents",
   "toc_cell": false,
   "toc_position": {},
   "toc_section_display": true,
   "toc_window_display": false
  },
  "varInspector": {
   "cols": {
    "lenName": 16,
    "lenType": 16,
    "lenVar": 40
   },
   "kernels_config": {
    "python": {
     "delete_cmd_postfix": "",
     "delete_cmd_prefix": "del ",
     "library": "var_list.py",
     "varRefreshCmd": "print(var_dic_list())"
    },
    "r": {
     "delete_cmd_postfix": ") ",
     "delete_cmd_prefix": "rm(",
     "library": "var_list.r",
     "varRefreshCmd": "cat(var_dic_list()) "
    }
   },
   "types_to_exclude": [
    "module",
    "function",
    "builtin_function_or_method",
    "instance",
    "_Feature"
   ],
   "window_display": false
  }
 },
 "nbformat": 4,
 "nbformat_minor": 4
}
