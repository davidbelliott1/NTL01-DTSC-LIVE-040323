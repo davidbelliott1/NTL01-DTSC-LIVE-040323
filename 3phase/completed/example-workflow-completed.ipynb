{
 "cells": [
  {
   "cell_type": "code",
   "execution_count": 1,
   "id": "3b38385c",
   "metadata": {
    "ExecuteTime": {
     "end_time": "2023-05-31T22:00:00.566536Z",
     "start_time": "2023-05-31T21:59:58.750539Z"
    }
   },
   "outputs": [],
   "source": [
    "import pandas as pd\n",
    "import numpy as np\n",
    "from matplotlib import pyplot as plt\n",
    "import seaborn as sns\n",
    "\n",
    "from sklearn.model_selection import train_test_split, GridSearchCV, cross_val_score\n",
    "from sklearn.pipeline import Pipeline\n",
    "from sklearn.preprocessing import StandardScaler, OneHotEncoder, FunctionTransformer\n",
    "from sklearn.impute import SimpleImputer\n",
    "from sklearn.compose import ColumnTransformer,  make_column_selector as selector\n",
    "from sklearn.linear_model import LogisticRegression\n",
    "from sklearn.metrics import plot_confusion_matrix, recall_score,\\\n",
    "    accuracy_score, precision_score, f1_score, plot_roc_curve, classification_report\n",
    "\n",
    "from sklearn.tree import DecisionTreeClassifier\n",
    "\n",
    "from sklearn.dummy import DummyClassifier\n",
    "\n",
    "from imblearn.over_sampling import SMOTE\n",
    "from imblearn.pipeline import Pipeline as ImPipeline\n",
    "\n",
    "from sklearn.datasets import make_classification\n",
    "\n",
    "import string"
   ]
  },
  {
   "cell_type": "code",
   "execution_count": 2,
   "id": "45e99b1d",
   "metadata": {
    "ExecuteTime": {
     "end_time": "2023-05-31T22:00:18.127142Z",
     "start_time": "2023-05-31T22:00:18.090144Z"
    }
   },
   "outputs": [],
   "source": [
    "X,y = make_classification(n_samples=50_000, n_features=10, n_informative=3, n_classes=2, weights=[.95])"
   ]
  },
  {
   "cell_type": "code",
   "execution_count": 3,
   "id": "47cbf790",
   "metadata": {
    "ExecuteTime": {
     "end_time": "2023-05-31T22:00:18.866575Z",
     "start_time": "2023-05-31T22:00:18.861576Z"
    }
   },
   "outputs": [],
   "source": [
    "column_names = ['num__' + str(x) for x in range(1,11)]"
   ]
  },
  {
   "cell_type": "code",
   "execution_count": 4,
   "id": "23906b3a",
   "metadata": {
    "ExecuteTime": {
     "end_time": "2023-05-31T22:00:19.438577Z",
     "start_time": "2023-05-31T22:00:19.421576Z"
    }
   },
   "outputs": [
    {
     "data": {
      "text/plain": [
       "['num__1',\n",
       " 'num__2',\n",
       " 'num__3',\n",
       " 'num__4',\n",
       " 'num__5',\n",
       " 'num__6',\n",
       " 'num__7',\n",
       " 'num__8',\n",
       " 'num__9',\n",
       " 'num__10']"
      ]
     },
     "execution_count": 4,
     "metadata": {},
     "output_type": "execute_result"
    }
   ],
   "source": [
    "column_names"
   ]
  },
  {
   "cell_type": "code",
   "execution_count": 5,
   "id": "3e3fc386",
   "metadata": {
    "ExecuteTime": {
     "end_time": "2023-05-31T22:00:20.234207Z",
     "start_time": "2023-05-31T22:00:20.230237Z"
    }
   },
   "outputs": [],
   "source": [
    "column_names.append('target')"
   ]
  },
  {
   "cell_type": "code",
   "execution_count": 6,
   "id": "be4d7eac",
   "metadata": {
    "ExecuteTime": {
     "end_time": "2023-05-31T22:00:20.838362Z",
     "start_time": "2023-05-31T22:00:20.825362Z"
    }
   },
   "outputs": [
    {
     "data": {
      "text/plain": [
       "0        0\n",
       "1        1\n",
       "2        0\n",
       "3        0\n",
       "4        0\n",
       "        ..\n",
       "49995    0\n",
       "49996    0\n",
       "49997    0\n",
       "49998    1\n",
       "49999    0\n",
       "Length: 50000, dtype: int32"
      ]
     },
     "execution_count": 6,
     "metadata": {},
     "output_type": "execute_result"
    }
   ],
   "source": [
    "pd.Series(y)"
   ]
  },
  {
   "cell_type": "code",
   "execution_count": 7,
   "id": "921a7a54",
   "metadata": {
    "ExecuteTime": {
     "end_time": "2023-05-31T22:00:23.667154Z",
     "start_time": "2023-05-31T22:00:23.657154Z"
    },
    "scrolled": true
   },
   "outputs": [],
   "source": [
    "df = pd.concat([pd.DataFrame(X),pd.Series(y)], axis=1)\n",
    "df.columns = column_names"
   ]
  },
  {
   "cell_type": "code",
   "execution_count": 8,
   "id": "1697c1a9",
   "metadata": {
    "ExecuteTime": {
     "end_time": "2023-05-31T22:00:24.319549Z",
     "start_time": "2023-05-31T22:00:24.298548Z"
    },
    "scrolled": true
   },
   "outputs": [
    {
     "data": {
      "text/html": [
       "<div>\n",
       "<style scoped>\n",
       "    .dataframe tbody tr th:only-of-type {\n",
       "        vertical-align: middle;\n",
       "    }\n",
       "\n",
       "    .dataframe tbody tr th {\n",
       "        vertical-align: top;\n",
       "    }\n",
       "\n",
       "    .dataframe thead th {\n",
       "        text-align: right;\n",
       "    }\n",
       "</style>\n",
       "<table border=\"1\" class=\"dataframe\">\n",
       "  <thead>\n",
       "    <tr style=\"text-align: right;\">\n",
       "      <th></th>\n",
       "      <th>num__1</th>\n",
       "      <th>num__2</th>\n",
       "      <th>num__3</th>\n",
       "      <th>num__4</th>\n",
       "      <th>num__5</th>\n",
       "      <th>num__6</th>\n",
       "      <th>num__7</th>\n",
       "      <th>num__8</th>\n",
       "      <th>num__9</th>\n",
       "      <th>num__10</th>\n",
       "      <th>target</th>\n",
       "    </tr>\n",
       "  </thead>\n",
       "  <tbody>\n",
       "    <tr>\n",
       "      <th>0</th>\n",
       "      <td>2.160495</td>\n",
       "      <td>-1.489719</td>\n",
       "      <td>0.549858</td>\n",
       "      <td>0.940609</td>\n",
       "      <td>-0.457104</td>\n",
       "      <td>-0.673613</td>\n",
       "      <td>-0.883758</td>\n",
       "      <td>-0.964928</td>\n",
       "      <td>-2.140907</td>\n",
       "      <td>1.079666</td>\n",
       "      <td>0</td>\n",
       "    </tr>\n",
       "    <tr>\n",
       "      <th>1</th>\n",
       "      <td>0.293864</td>\n",
       "      <td>-1.689099</td>\n",
       "      <td>0.714612</td>\n",
       "      <td>-0.327861</td>\n",
       "      <td>-0.083969</td>\n",
       "      <td>-1.275394</td>\n",
       "      <td>-0.886173</td>\n",
       "      <td>0.937092</td>\n",
       "      <td>-0.926793</td>\n",
       "      <td>1.259254</td>\n",
       "      <td>1</td>\n",
       "    </tr>\n",
       "    <tr>\n",
       "      <th>2</th>\n",
       "      <td>2.431626</td>\n",
       "      <td>0.665641</td>\n",
       "      <td>-0.529497</td>\n",
       "      <td>0.653789</td>\n",
       "      <td>-0.499014</td>\n",
       "      <td>1.611521</td>\n",
       "      <td>-0.556095</td>\n",
       "      <td>-0.525092</td>\n",
       "      <td>-1.833917</td>\n",
       "      <td>1.423048</td>\n",
       "      <td>0</td>\n",
       "    </tr>\n",
       "    <tr>\n",
       "      <th>3</th>\n",
       "      <td>-0.041051</td>\n",
       "      <td>0.115691</td>\n",
       "      <td>0.683815</td>\n",
       "      <td>1.146465</td>\n",
       "      <td>0.077709</td>\n",
       "      <td>1.992676</td>\n",
       "      <td>-0.448109</td>\n",
       "      <td>-1.289473</td>\n",
       "      <td>-0.491581</td>\n",
       "      <td>-1.036866</td>\n",
       "      <td>0</td>\n",
       "    </tr>\n",
       "    <tr>\n",
       "      <th>4</th>\n",
       "      <td>-0.419081</td>\n",
       "      <td>0.716884</td>\n",
       "      <td>1.020900</td>\n",
       "      <td>-0.056527</td>\n",
       "      <td>-0.628421</td>\n",
       "      <td>0.424612</td>\n",
       "      <td>-2.048719</td>\n",
       "      <td>-1.784695</td>\n",
       "      <td>-3.861840</td>\n",
       "      <td>1.437247</td>\n",
       "      <td>0</td>\n",
       "    </tr>\n",
       "  </tbody>\n",
       "</table>\n",
       "</div>"
      ],
      "text/plain": [
       "     num__1    num__2    num__3    num__4    num__5    num__6    num__7  \\\n",
       "0  2.160495 -1.489719  0.549858  0.940609 -0.457104 -0.673613 -0.883758   \n",
       "1  0.293864 -1.689099  0.714612 -0.327861 -0.083969 -1.275394 -0.886173   \n",
       "2  2.431626  0.665641 -0.529497  0.653789 -0.499014  1.611521 -0.556095   \n",
       "3 -0.041051  0.115691  0.683815  1.146465  0.077709  1.992676 -0.448109   \n",
       "4 -0.419081  0.716884  1.020900 -0.056527 -0.628421  0.424612 -2.048719   \n",
       "\n",
       "     num__8    num__9   num__10  target  \n",
       "0 -0.964928 -2.140907  1.079666       0  \n",
       "1  0.937092 -0.926793  1.259254       1  \n",
       "2 -0.525092 -1.833917  1.423048       0  \n",
       "3 -1.289473 -0.491581 -1.036866       0  \n",
       "4 -1.784695 -3.861840  1.437247       0  "
      ]
     },
     "execution_count": 8,
     "metadata": {},
     "output_type": "execute_result"
    }
   ],
   "source": [
    "df.head()"
   ]
  },
  {
   "cell_type": "code",
   "execution_count": 9,
   "id": "cce9a019",
   "metadata": {
    "ExecuteTime": {
     "end_time": "2023-05-31T22:00:42.638295Z",
     "start_time": "2023-05-31T22:00:42.623299Z"
    }
   },
   "outputs": [],
   "source": [
    "df['cat_1'] = np.random.choice(a=['a','b','c','d','e'],  size=len(df))\n",
    "df['cat_2'] = np.random.choice(a=['f','g','h','i'],  size=len(df))"
   ]
  },
  {
   "cell_type": "code",
   "execution_count": 10,
   "id": "78ef89b3",
   "metadata": {
    "ExecuteTime": {
     "end_time": "2023-05-31T22:00:43.000296Z",
     "start_time": "2023-05-31T22:00:42.975297Z"
    }
   },
   "outputs": [
    {
     "data": {
      "text/html": [
       "<div>\n",
       "<style scoped>\n",
       "    .dataframe tbody tr th:only-of-type {\n",
       "        vertical-align: middle;\n",
       "    }\n",
       "\n",
       "    .dataframe tbody tr th {\n",
       "        vertical-align: top;\n",
       "    }\n",
       "\n",
       "    .dataframe thead th {\n",
       "        text-align: right;\n",
       "    }\n",
       "</style>\n",
       "<table border=\"1\" class=\"dataframe\">\n",
       "  <thead>\n",
       "    <tr style=\"text-align: right;\">\n",
       "      <th></th>\n",
       "      <th>num__1</th>\n",
       "      <th>num__2</th>\n",
       "      <th>num__3</th>\n",
       "      <th>num__4</th>\n",
       "      <th>num__5</th>\n",
       "      <th>num__6</th>\n",
       "      <th>num__7</th>\n",
       "      <th>num__8</th>\n",
       "      <th>num__9</th>\n",
       "      <th>num__10</th>\n",
       "      <th>target</th>\n",
       "      <th>cat_1</th>\n",
       "      <th>cat_2</th>\n",
       "    </tr>\n",
       "  </thead>\n",
       "  <tbody>\n",
       "    <tr>\n",
       "      <th>0</th>\n",
       "      <td>2.160495</td>\n",
       "      <td>-1.489719</td>\n",
       "      <td>0.549858</td>\n",
       "      <td>0.940609</td>\n",
       "      <td>-0.457104</td>\n",
       "      <td>-0.673613</td>\n",
       "      <td>-0.883758</td>\n",
       "      <td>-0.964928</td>\n",
       "      <td>-2.140907</td>\n",
       "      <td>1.079666</td>\n",
       "      <td>0</td>\n",
       "      <td>e</td>\n",
       "      <td>h</td>\n",
       "    </tr>\n",
       "    <tr>\n",
       "      <th>1</th>\n",
       "      <td>0.293864</td>\n",
       "      <td>-1.689099</td>\n",
       "      <td>0.714612</td>\n",
       "      <td>-0.327861</td>\n",
       "      <td>-0.083969</td>\n",
       "      <td>-1.275394</td>\n",
       "      <td>-0.886173</td>\n",
       "      <td>0.937092</td>\n",
       "      <td>-0.926793</td>\n",
       "      <td>1.259254</td>\n",
       "      <td>1</td>\n",
       "      <td>e</td>\n",
       "      <td>g</td>\n",
       "    </tr>\n",
       "    <tr>\n",
       "      <th>2</th>\n",
       "      <td>2.431626</td>\n",
       "      <td>0.665641</td>\n",
       "      <td>-0.529497</td>\n",
       "      <td>0.653789</td>\n",
       "      <td>-0.499014</td>\n",
       "      <td>1.611521</td>\n",
       "      <td>-0.556095</td>\n",
       "      <td>-0.525092</td>\n",
       "      <td>-1.833917</td>\n",
       "      <td>1.423048</td>\n",
       "      <td>0</td>\n",
       "      <td>d</td>\n",
       "      <td>i</td>\n",
       "    </tr>\n",
       "    <tr>\n",
       "      <th>3</th>\n",
       "      <td>-0.041051</td>\n",
       "      <td>0.115691</td>\n",
       "      <td>0.683815</td>\n",
       "      <td>1.146465</td>\n",
       "      <td>0.077709</td>\n",
       "      <td>1.992676</td>\n",
       "      <td>-0.448109</td>\n",
       "      <td>-1.289473</td>\n",
       "      <td>-0.491581</td>\n",
       "      <td>-1.036866</td>\n",
       "      <td>0</td>\n",
       "      <td>b</td>\n",
       "      <td>i</td>\n",
       "    </tr>\n",
       "    <tr>\n",
       "      <th>4</th>\n",
       "      <td>-0.419081</td>\n",
       "      <td>0.716884</td>\n",
       "      <td>1.020900</td>\n",
       "      <td>-0.056527</td>\n",
       "      <td>-0.628421</td>\n",
       "      <td>0.424612</td>\n",
       "      <td>-2.048719</td>\n",
       "      <td>-1.784695</td>\n",
       "      <td>-3.861840</td>\n",
       "      <td>1.437247</td>\n",
       "      <td>0</td>\n",
       "      <td>a</td>\n",
       "      <td>f</td>\n",
       "    </tr>\n",
       "  </tbody>\n",
       "</table>\n",
       "</div>"
      ],
      "text/plain": [
       "     num__1    num__2    num__3    num__4    num__5    num__6    num__7  \\\n",
       "0  2.160495 -1.489719  0.549858  0.940609 -0.457104 -0.673613 -0.883758   \n",
       "1  0.293864 -1.689099  0.714612 -0.327861 -0.083969 -1.275394 -0.886173   \n",
       "2  2.431626  0.665641 -0.529497  0.653789 -0.499014  1.611521 -0.556095   \n",
       "3 -0.041051  0.115691  0.683815  1.146465  0.077709  1.992676 -0.448109   \n",
       "4 -0.419081  0.716884  1.020900 -0.056527 -0.628421  0.424612 -2.048719   \n",
       "\n",
       "     num__8    num__9   num__10  target cat_1 cat_2  \n",
       "0 -0.964928 -2.140907  1.079666       0     e     h  \n",
       "1  0.937092 -0.926793  1.259254       1     e     g  \n",
       "2 -0.525092 -1.833917  1.423048       0     d     i  \n",
       "3 -1.289473 -0.491581 -1.036866       0     b     i  \n",
       "4 -1.784695 -3.861840  1.437247       0     a     f  "
      ]
     },
     "execution_count": 10,
     "metadata": {},
     "output_type": "execute_result"
    }
   ],
   "source": [
    "df.head()"
   ]
  },
  {
   "cell_type": "code",
   "execution_count": 11,
   "id": "237e07cf",
   "metadata": {
    "ExecuteTime": {
     "end_time": "2023-05-31T22:00:48.628396Z",
     "start_time": "2023-05-31T22:00:48.608394Z"
    }
   },
   "outputs": [],
   "source": [
    "class ModelWithCV():\n",
    "    '''Structure to save the model and more easily see its crossvalidation'''\n",
    "    \n",
    "    def __init__(self, model, model_name, X, y, cv_now=True):\n",
    "        self.model = model\n",
    "        self.name = model_name\n",
    "        self.X = X\n",
    "        self.y = y\n",
    "        # For CV results\n",
    "        self.cv_results = None\n",
    "        self.cv_mean = None\n",
    "        self.cv_median = None\n",
    "        self.cv_std = None\n",
    "        #\n",
    "        if cv_now:\n",
    "            self.cross_validate()\n",
    "        \n",
    "    def cross_validate(self, X=None, y=None, kfolds=10):\n",
    "        '''\n",
    "        Perform cross-validation and return results.\n",
    "        \n",
    "        Args: \n",
    "          X:\n",
    "            Optional; Training data to perform CV on. Otherwise use X from object\n",
    "          y:\n",
    "            Optional; Training data to perform CV on. Otherwise use y from object\n",
    "          kfolds:\n",
    "            Optional; Number of folds for CV (default is 10)  \n",
    "        '''\n",
    "        \n",
    "        cv_X = X if X else self.X\n",
    "        cv_y = y if y else self.y\n",
    "\n",
    "        self.cv_results = cross_val_score(self.model, cv_X, cv_y, cv=kfolds)\n",
    "        self.cv_mean = np.mean(self.cv_results)\n",
    "        self.cv_median = np.median(self.cv_results)\n",
    "        self.cv_std = np.std(self.cv_results)\n",
    "\n",
    "        \n",
    "    def print_cv_summary(self):\n",
    "        cv_summary = (\n",
    "        f'''CV Results for `{self.name}` model:\n",
    "            {self.cv_mean:.5f} ± {self.cv_std:.5f} accuracy\n",
    "        ''')\n",
    "        print(cv_summary)\n",
    "\n",
    "        \n",
    "    def plot_cv(self, ax):\n",
    "        '''\n",
    "        Plot the cross-validation values using the array of results and given \n",
    "        Axis for plotting.\n",
    "        '''\n",
    "        ax.set_title(f'CV Results for `{self.name}` Model')\n",
    "        # Thinner violinplot with higher bw\n",
    "        sns.violinplot(y=self.cv_results, ax=ax, bw=.4)\n",
    "        sns.swarmplot(\n",
    "                y=self.cv_results,\n",
    "                color='orange',\n",
    "                size=10,\n",
    "                alpha= 0.8,\n",
    "                ax=ax\n",
    "        )\n",
    "\n",
    "        return ax"
   ]
  },
  {
   "cell_type": "code",
   "execution_count": 12,
   "id": "17f6205c",
   "metadata": {
    "ExecuteTime": {
     "end_time": "2023-05-31T22:00:55.248596Z",
     "start_time": "2023-05-31T22:00:55.235597Z"
    }
   },
   "outputs": [],
   "source": [
    "X = df.drop('target',axis =1)\n",
    "y = df.target"
   ]
  },
  {
   "cell_type": "code",
   "execution_count": 13,
   "id": "43b2373e",
   "metadata": {
    "ExecuteTime": {
     "end_time": "2023-05-31T22:02:02.142343Z",
     "start_time": "2023-05-31T22:02:02.125371Z"
    }
   },
   "outputs": [],
   "source": [
    "# holdout split. I will call this validation\n",
    "X_train_both, X_val, y_train_both, y_val = train_test_split(X,y,random_state=42, test_size = .1)"
   ]
  },
  {
   "cell_type": "code",
   "execution_count": 14,
   "id": "3d3f6534",
   "metadata": {
    "ExecuteTime": {
     "end_time": "2023-05-31T22:02:11.625898Z",
     "start_time": "2023-05-31T22:02:11.604896Z"
    }
   },
   "outputs": [
    {
     "data": {
      "text/plain": [
       "0    0.9496\n",
       "1    0.0504\n",
       "Name: target, dtype: float64"
      ]
     },
     "execution_count": 14,
     "metadata": {},
     "output_type": "execute_result"
    }
   ],
   "source": [
    "# Sniff Test\n",
    "y_val.value_counts(normalize=True)"
   ]
  },
  {
   "cell_type": "code",
   "execution_count": 15,
   "id": "6a442c76",
   "metadata": {
    "ExecuteTime": {
     "end_time": "2023-05-31T22:02:12.123927Z",
     "start_time": "2023-05-31T22:02:12.115897Z"
    }
   },
   "outputs": [
    {
     "data": {
      "text/plain": [
       "0    0.945444\n",
       "1    0.054556\n",
       "Name: target, dtype: float64"
      ]
     },
     "execution_count": 15,
     "metadata": {},
     "output_type": "execute_result"
    }
   ],
   "source": [
    "y_train_both.value_counts(normalize=True)"
   ]
  },
  {
   "cell_type": "code",
   "execution_count": 16,
   "id": "3e8baef7",
   "metadata": {
    "ExecuteTime": {
     "end_time": "2023-05-31T22:02:42.248734Z",
     "start_time": "2023-05-31T22:02:42.224707Z"
    }
   },
   "outputs": [],
   "source": [
    "# Now, create my test and train splits for model creation, default test size\n",
    "X_train, X_test, y_train, y_test = train_test_split(X_train_both, y_train_both, random_state=42)"
   ]
  },
  {
   "cell_type": "code",
   "execution_count": 17,
   "id": "898356f1",
   "metadata": {
    "ExecuteTime": {
     "end_time": "2023-05-31T22:02:42.961895Z",
     "start_time": "2023-05-31T22:02:42.947896Z"
    }
   },
   "outputs": [
    {
     "name": "stdout",
     "output_type": "stream",
     "text": [
      "Train size:     (33750, 12)\n",
      "Test size:      (11250, 12)\n",
      "Validation size (5000, 12)\n"
     ]
    }
   ],
   "source": [
    "print(f'Train size:     {X_train.shape}')\n",
    "print(f'Test size:      {X_test.shape}')\n",
    "print(f'Validation size {X_val.shape}')"
   ]
  },
  {
   "cell_type": "code",
   "execution_count": 18,
   "id": "ab33a786",
   "metadata": {
    "ExecuteTime": {
     "end_time": "2023-05-31T22:04:58.911204Z",
     "start_time": "2023-05-31T22:04:58.895201Z"
    }
   },
   "outputs": [],
   "source": [
    "# cat and numeric subpipe\n",
    "\n",
    "subpipe_numerics = Pipeline(steps = [\n",
    "    ('num_impute', SimpleImputer(strategy='median')),\n",
    "    ('ss', StandardScaler())\n",
    "])\n",
    "\n",
    "\n",
    "subpipe_cat = Pipeline(steps=[\n",
    "    ('cat_impute', SimpleImputer(strategy='most_frequent')),\n",
    "    ('ohe', OneHotEncoder(sparse=False, handle_unknown='ignore'))\n",
    "])"
   ]
  },
  {
   "cell_type": "code",
   "execution_count": 19,
   "id": "54366751",
   "metadata": {
    "ExecuteTime": {
     "end_time": "2023-05-31T22:04:59.485201Z",
     "start_time": "2023-05-31T22:04:59.470201Z"
    }
   },
   "outputs": [],
   "source": [
    "# Column Transformer\n",
    "\n",
    "CT = ColumnTransformer(transformers=[\n",
    "    ('subpipe_num', subpipe_numerics, selector(dtype_include=np.number)),\n",
    "    ('subpipe_cat', subpipe_cat, selector(dtype_include=object))\n",
    "], remainder='passthrough')"
   ]
  },
  {
   "cell_type": "code",
   "execution_count": 20,
   "id": "bfec13dc",
   "metadata": {
    "ExecuteTime": {
     "end_time": "2023-05-31T22:05:18.854308Z",
     "start_time": "2023-05-31T22:05:18.842279Z"
    }
   },
   "outputs": [
    {
     "data": {
      "text/plain": [
       "0    0.944919\n",
       "1    0.055081\n",
       "Name: target, dtype: float64"
      ]
     },
     "execution_count": 20,
     "metadata": {},
     "output_type": "execute_result"
    }
   ],
   "source": [
    "y_train.value_counts(normalize=True)"
   ]
  },
  {
   "cell_type": "code",
   "execution_count": 21,
   "id": "37ec744e",
   "metadata": {
    "ExecuteTime": {
     "end_time": "2023-05-31T22:05:49.766118Z",
     "start_time": "2023-05-31T22:05:49.761147Z"
    }
   },
   "outputs": [],
   "source": [
    "# Dummy!\n",
    "dummy_model_pipe = Pipeline(steps=[\n",
    "    ('ct',CT),\n",
    "    ('dummy', DummyClassifier(strategy='most_frequent'))\n",
    "])"
   ]
  },
  {
   "cell_type": "code",
   "execution_count": 22,
   "id": "466a4875",
   "metadata": {
    "ExecuteTime": {
     "end_time": "2023-05-31T22:05:53.798080Z",
     "start_time": "2023-05-31T22:05:53.554081Z"
    }
   },
   "outputs": [
    {
     "data": {
      "text/plain": [
       "Pipeline(steps=[('ct',\n",
       "                 ColumnTransformer(remainder='passthrough',\n",
       "                                   transformers=[('subpipe_num',\n",
       "                                                  Pipeline(steps=[('num_impute',\n",
       "                                                                   SimpleImputer(strategy='median')),\n",
       "                                                                  ('ss',\n",
       "                                                                   StandardScaler())]),\n",
       "                                                  <sklearn.compose._column_transformer.make_column_selector object at 0x0000020073EBAAF0>),\n",
       "                                                 ('subpipe_cat',\n",
       "                                                  Pipeline(steps=[('cat_impute',\n",
       "                                                                   SimpleImputer(strategy='most_frequent')),\n",
       "                                                                  ('ohe',\n",
       "                                                                   OneHotEncoder(handle_unknown='ignore',\n",
       "                                                                                 sparse=False))]),\n",
       "                                                  <sklearn.compose._column_transformer.make_column_selector object at 0x0000020073EBA6D0>)])),\n",
       "                ('dummy', DummyClassifier(strategy='most_frequent'))])"
      ]
     },
     "execution_count": 22,
     "metadata": {},
     "output_type": "execute_result"
    }
   ],
   "source": [
    "dummy_model_pipe.fit(X_train, y_train)"
   ]
  },
  {
   "cell_type": "code",
   "execution_count": 31,
   "id": "28234032",
   "metadata": {
    "ExecuteTime": {
     "end_time": "2023-05-31T22:08:25.314673Z",
     "start_time": "2023-05-31T22:08:23.784639Z"
    }
   },
   "outputs": [
    {
     "data": {
      "text/plain": [
       "<AxesSubplot:title={'center':'CV Results for `dummy` Model'}>"
      ]
     },
     "execution_count": 31,
     "metadata": {},
     "output_type": "execute_result"
    },
    {
     "data": {
      "image/png": "[encoded data removed]",
      "text/plain": [
       "<Figure size 720x720 with 1 Axes>"
      ]
     },
     "metadata": {
      "needs_background": "light"
     },
     "output_type": "display_data"
    }
   ],
   "source": [
    "# Cross Validated on Training Data\n",
    "dummy_model = ModelWithCV(\n",
    "    dummy_model_pipe,\n",
    "    model_name='dummy',\n",
    "    X=X_train,\n",
    "    y=y_train)\n",
    "fix, ax = plt.subplots(figsize=(10,10))\n",
    "\n",
    "dummy_model.plot_cv(ax=ax)"
   ]
  },
  {
   "cell_type": "code",
   "execution_count": 32,
   "id": "b095f207",
   "metadata": {
    "ExecuteTime": {
     "end_time": "2023-05-31T22:08:28.435800Z",
     "start_time": "2023-05-31T22:08:28.430802Z"
    }
   },
   "outputs": [
    {
     "name": "stdout",
     "output_type": "stream",
     "text": [
      "CV Results for `dummy` model:\n",
      "            0.94492 ± 0.00009 accuracy\n",
      "        \n"
     ]
    }
   ],
   "source": [
    "dummy_model.print_cv_summary()"
   ]
  },
  {
   "cell_type": "code",
   "execution_count": 33,
   "id": "7e3988e6",
   "metadata": {
    "ExecuteTime": {
     "end_time": "2023-05-31T22:08:30.935799Z",
     "start_time": "2023-05-31T22:08:30.906830Z"
    },
    "scrolled": false
   },
   "outputs": [
    {
     "data": {
      "text/plain": [
       "0.9470222222222222"
      ]
     },
     "execution_count": 33,
     "metadata": {},
     "output_type": "execute_result"
    }
   ],
   "source": [
    "dummy_model_pipe.score(X_test, y_test)"
   ]
  },
  {
   "cell_type": "code",
   "execution_count": 34,
   "id": "f62d9d7a",
   "metadata": {
    "ExecuteTime": {
     "end_time": "2023-05-31T22:08:35.850536Z",
     "start_time": "2023-05-31T22:08:35.672538Z"
    }
   },
   "outputs": [
    {
     "data": {
      "image/png": "[encoded data removed]",
      "text/plain": [
       "<Figure size 432x288 with 2 Axes>"
      ]
     },
     "metadata": {
      "needs_background": "light"
     },
     "output_type": "display_data"
    }
   ],
   "source": [
    "plot_confusion_matrix(dummy_model_pipe, X_test, y_test);"
   ]
  },
  {
   "cell_type": "code",
   "execution_count": 35,
   "id": "729e6747",
   "metadata": {
    "ExecuteTime": {
     "end_time": "2023-05-31T22:08:38.265549Z",
     "start_time": "2023-05-31T22:08:38.220481Z"
    }
   },
   "outputs": [
    {
     "name": "stdout",
     "output_type": "stream",
     "text": [
      "              precision    recall  f1-score   support\n",
      "\n",
      "           0       0.95      1.00      0.97     10654\n",
      "           1       0.00      0.00      0.00       596\n",
      "\n",
      "    accuracy                           0.95     11250\n",
      "   macro avg       0.47      0.50      0.49     11250\n",
      "weighted avg       0.90      0.95      0.92     11250\n",
      "\n"
     ]
    },
    {
     "name": "stderr",
     "output_type": "stream",
     "text": [
      "C:\\Users\\david\\anaconda3\\envs\\learn-env\\lib\\site-packages\\sklearn\\metrics\\_classification.py:1221: UndefinedMetricWarning: Precision and F-score are ill-defined and being set to 0.0 in labels with no predicted samples. Use `zero_division` parameter to control this behavior.\n",
      "  _warn_prf(average, modifier, msg_start, len(result))\n"
     ]
    }
   ],
   "source": [
    "y_pred = dummy_model_pipe.predict(X_test)\n",
    "print(classification_report(y_test, y_pred))"
   ]
  },
  {
   "cell_type": "code",
   "execution_count": 36,
   "id": "9b459486",
   "metadata": {
    "ExecuteTime": {
     "end_time": "2023-05-31T22:08:40.908626Z",
     "start_time": "2023-05-31T22:08:40.735627Z"
    }
   },
   "outputs": [
    {
     "data": {
      "image/png": "[encoded data removed]",
      "text/plain": [
       "<Figure size 432x288 with 1 Axes>"
      ]
     },
     "metadata": {
      "needs_background": "light"
     },
     "output_type": "display_data"
    }
   ],
   "source": [
    "plot_roc_curve(dummy_model_pipe, X_test, y_test);"
   ]
  },
  {
   "cell_type": "code",
   "execution_count": 37,
   "id": "4336841d",
   "metadata": {
    "ExecuteTime": {
     "end_time": "2023-05-31T22:08:43.358745Z",
     "start_time": "2023-05-31T22:08:43.344746Z"
    }
   },
   "outputs": [],
   "source": [
    "# FSM!"
   ]
  },
  {
   "cell_type": "code",
   "execution_count": 43,
   "id": "47c8051d",
   "metadata": {
    "ExecuteTime": {
     "end_time": "2023-05-31T22:09:34.630707Z",
     "start_time": "2023-05-31T22:09:34.617709Z"
    }
   },
   "outputs": [],
   "source": [
    "base_log_reg_pipe = Pipeline(steps=[\n",
    "    ('ct',CT),\n",
    "    ('base_log_reg', LogisticRegression(random_state=42))\n",
    "])"
   ]
  },
  {
   "cell_type": "code",
   "execution_count": 44,
   "id": "e1787504",
   "metadata": {
    "ExecuteTime": {
     "end_time": "2023-05-31T22:09:37.352711Z",
     "start_time": "2023-05-31T22:09:37.047739Z"
    }
   },
   "outputs": [
    {
     "data": {
      "text/plain": [
       "Pipeline(steps=[('ct',\n",
       "                 ColumnTransformer(remainder='passthrough',\n",
       "                                   transformers=[('subpipe_num',\n",
       "                                                  Pipeline(steps=[('num_impute',\n",
       "                                                                   SimpleImputer(strategy='median')),\n",
       "                                                                  ('ss',\n",
       "                                                                   StandardScaler())]),\n",
       "                                                  <sklearn.compose._column_transformer.make_column_selector object at 0x0000020073EBAAF0>),\n",
       "                                                 ('subpipe_cat',\n",
       "                                                  Pipeline(steps=[('cat_impute',\n",
       "                                                                   SimpleImputer(strategy='most_frequent')),\n",
       "                                                                  ('ohe',\n",
       "                                                                   OneHotEncoder(handle_unknown='ignore',\n",
       "                                                                                 sparse=False))]),\n",
       "                                                  <sklearn.compose._column_transformer.make_column_selector object at 0x0000020073EBA6D0>)])),\n",
       "                ('base_log_reg', LogisticRegression(random_state=42))])"
      ]
     },
     "execution_count": 44,
     "metadata": {},
     "output_type": "execute_result"
    }
   ],
   "source": [
    "base_log_reg_pipe.fit(X_train, y_train)"
   ]
  },
  {
   "cell_type": "code",
   "execution_count": 45,
   "id": "5f599eb9",
   "metadata": {
    "ExecuteTime": {
     "end_time": "2023-05-31T22:09:41.767708Z",
     "start_time": "2023-05-31T22:09:39.742708Z"
    }
   },
   "outputs": [
    {
     "data": {
      "image/png": "[encoded data removed]",
      "text/plain": [
       "<Figure size 720x720 with 1 Axes>"
      ]
     },
     "metadata": {
      "needs_background": "light"
     },
     "output_type": "display_data"
    }
   ],
   "source": [
    "base_log_reg = ModelWithCV(\n",
    "    base_log_reg_pipe,\n",
    "    model_name='base_log_reg',\n",
    "    X=X_train,\n",
    "    y=y_train)\n",
    "fix, ax = plt.subplots(figsize=(10,10))\n",
    "\n",
    "base_log_reg.plot_cv(ax=ax);"
   ]
  },
  {
   "cell_type": "code",
   "execution_count": 46,
   "id": "502864fe",
   "metadata": {
    "ExecuteTime": {
     "end_time": "2023-05-31T22:09:44.188708Z",
     "start_time": "2023-05-31T22:09:44.175708Z"
    }
   },
   "outputs": [
    {
     "name": "stdout",
     "output_type": "stream",
     "text": [
      "CV Results for `base_log_reg` model:\n",
      "            0.95307 ± 0.00205 accuracy\n",
      "        \n"
     ]
    }
   ],
   "source": [
    "base_log_reg.print_cv_summary()"
   ]
  },
  {
   "cell_type": "code",
   "execution_count": 47,
   "id": "f407b4e9",
   "metadata": {
    "ExecuteTime": {
     "end_time": "2023-05-31T22:09:46.745707Z",
     "start_time": "2023-05-31T22:09:46.715707Z"
    }
   },
   "outputs": [
    {
     "data": {
      "text/plain": [
       "0.9550222222222222"
      ]
     },
     "execution_count": 47,
     "metadata": {},
     "output_type": "execute_result"
    }
   ],
   "source": [
    "base_log_reg_pipe.score(X_test, y_test)"
   ]
  },
  {
   "cell_type": "code",
   "execution_count": 48,
   "id": "81faf28c",
   "metadata": {
    "ExecuteTime": {
     "end_time": "2023-05-31T22:09:59.968478Z",
     "start_time": "2023-05-31T22:09:59.945477Z"
    }
   },
   "outputs": [],
   "source": [
    "y_pred = base_log_reg_pipe.predict(X_test)"
   ]
  },
  {
   "cell_type": "code",
   "execution_count": 49,
   "id": "5cf7bb06",
   "metadata": {
    "ExecuteTime": {
     "end_time": "2023-05-31T22:10:02.445478Z",
     "start_time": "2023-05-31T22:10:02.431506Z"
    }
   },
   "outputs": [
    {
     "name": "stdout",
     "output_type": "stream",
     "text": [
      "              precision    recall  f1-score   support\n",
      "\n",
      "           0       0.96      1.00      0.98     10654\n",
      "           1       0.85      0.18      0.30       596\n",
      "\n",
      "    accuracy                           0.96     11250\n",
      "   macro avg       0.90      0.59      0.64     11250\n",
      "weighted avg       0.95      0.96      0.94     11250\n",
      "\n"
     ]
    }
   ],
   "source": [
    "print(classification_report(y_test, y_pred))"
   ]
  },
  {
   "cell_type": "code",
   "execution_count": 50,
   "id": "e1df3348",
   "metadata": {
    "ExecuteTime": {
     "end_time": "2023-05-31T22:10:05.122476Z",
     "start_time": "2023-05-31T22:10:04.953478Z"
    }
   },
   "outputs": [
    {
     "data": {
      "text/plain": [
       "<sklearn.metrics._plot.confusion_matrix.ConfusionMatrixDisplay at 0x200780b88b0>"
      ]
     },
     "execution_count": 50,
     "metadata": {},
     "output_type": "execute_result"
    },
    {
     "data": {
      "image/png": "[encoded data removed]",
      "text/plain": [
       "<Figure size 432x288 with 2 Axes>"
      ]
     },
     "metadata": {
      "needs_background": "light"
     },
     "output_type": "display_data"
    }
   ],
   "source": [
    "plot_confusion_matrix(base_log_reg_pipe, X_test, y_test)"
   ]
  },
  {
   "cell_type": "code",
   "execution_count": 51,
   "id": "544bc19f",
   "metadata": {
    "ExecuteTime": {
     "end_time": "2023-05-31T22:10:07.770478Z",
     "start_time": "2023-05-31T22:10:07.603477Z"
    }
   },
   "outputs": [
    {
     "data": {
      "text/plain": [
       "<sklearn.metrics._plot.roc_curve.RocCurveDisplay at 0x200782d23d0>"
      ]
     },
     "execution_count": 51,
     "metadata": {},
     "output_type": "execute_result"
    },
    {
     "data": {
      "image/png": "[encoded data removed]",
      "text/plain": [
       "<Figure size 432x288 with 1 Axes>"
      ]
     },
     "metadata": {
      "needs_background": "light"
     },
     "output_type": "display_data"
    }
   ],
   "source": [
    "plot_roc_curve(base_log_reg_pipe, X_test, y_test)"
   ]
  },
  {
   "cell_type": "code",
   "execution_count": 52,
   "id": "2e171d3f",
   "metadata": {
    "ExecuteTime": {
     "end_time": "2023-05-31T22:10:15.708481Z",
     "start_time": "2023-05-31T22:10:15.692486Z"
    }
   },
   "outputs": [],
   "source": [
    "# DT\n",
    "base_dtc_pipe = Pipeline(steps=[\n",
    "    ('ct',CT),\n",
    "    ('base_dtc', DecisionTreeClassifier(random_state=42))\n",
    "])"
   ]
  },
  {
   "cell_type": "code",
   "execution_count": 53,
   "id": "67170b2f",
   "metadata": {
    "ExecuteTime": {
     "end_time": "2023-05-31T22:10:29.211340Z",
     "start_time": "2023-05-31T22:10:27.923341Z"
    }
   },
   "outputs": [
    {
     "data": {
      "text/plain": [
       "Pipeline(steps=[('ct',\n",
       "                 ColumnTransformer(remainder='passthrough',\n",
       "                                   transformers=[('subpipe_num',\n",
       "                                                  Pipeline(steps=[('num_impute',\n",
       "                                                                   SimpleImputer(strategy='median')),\n",
       "                                                                  ('ss',\n",
       "                                                                   StandardScaler())]),\n",
       "                                                  <sklearn.compose._column_transformer.make_column_selector object at 0x0000020073EBAAF0>),\n",
       "                                                 ('subpipe_cat',\n",
       "                                                  Pipeline(steps=[('cat_impute',\n",
       "                                                                   SimpleImputer(strategy='most_frequent')),\n",
       "                                                                  ('ohe',\n",
       "                                                                   OneHotEncoder(handle_unknown='ignore',\n",
       "                                                                                 sparse=False))]),\n",
       "                                                  <sklearn.compose._column_transformer.make_column_selector object at 0x0000020073EBA6D0>)])),\n",
       "                ('base_dtc', DecisionTreeClassifier(random_state=42))])"
      ]
     },
     "execution_count": 53,
     "metadata": {},
     "output_type": "execute_result"
    }
   ],
   "source": [
    "base_dtc_pipe.fit(X_train, y_train)"
   ]
  },
  {
   "cell_type": "code",
   "execution_count": 54,
   "id": "124cccc8",
   "metadata": {
    "ExecuteTime": {
     "end_time": "2023-05-31T22:10:45.782552Z",
     "start_time": "2023-05-31T22:10:35.395547Z"
    }
   },
   "outputs": [
    {
     "data": {
      "image/png": "[encoded data removed]",
      "text/plain": [
       "<Figure size 720x720 with 1 Axes>"
      ]
     },
     "metadata": {
      "needs_background": "light"
     },
     "output_type": "display_data"
    }
   ],
   "source": [
    "base_dtc = ModelWithCV(\n",
    "    base_dtc_pipe,\n",
    "    model_name='base_dtc',\n",
    "    X=X_train,\n",
    "    y=y_train)\n",
    "fix, ax = plt.subplots(figsize=(10,10))\n",
    "\n",
    "base_dtc.plot_cv(ax=ax);"
   ]
  },
  {
   "cell_type": "code",
   "execution_count": 55,
   "id": "03e42269",
   "metadata": {
    "ExecuteTime": {
     "end_time": "2023-05-31T22:10:51.988392Z",
     "start_time": "2023-05-31T22:10:51.971407Z"
    }
   },
   "outputs": [
    {
     "name": "stdout",
     "output_type": "stream",
     "text": [
      "CV Results for `base_dtc` model:\n",
      "            0.97105 ± 0.00237 accuracy\n",
      "        \n"
     ]
    }
   ],
   "source": [
    "base_dtc.print_cv_summary()"
   ]
  },
  {
   "cell_type": "code",
   "execution_count": 56,
   "id": "6cffe346",
   "metadata": {
    "ExecuteTime": {
     "end_time": "2023-05-31T22:10:55.338394Z",
     "start_time": "2023-05-31T22:10:55.308394Z"
    }
   },
   "outputs": [
    {
     "data": {
      "text/plain": [
       "0.9735111111111111"
      ]
     },
     "execution_count": 56,
     "metadata": {},
     "output_type": "execute_result"
    }
   ],
   "source": [
    "base_dtc_pipe.score(X_test, y_test)"
   ]
  },
  {
   "cell_type": "code",
   "execution_count": 57,
   "id": "2d4e8dbb",
   "metadata": {
    "ExecuteTime": {
     "end_time": "2023-05-31T22:11:09.405927Z",
     "start_time": "2023-05-31T22:11:09.372928Z"
    }
   },
   "outputs": [],
   "source": [
    "y_pred = base_dtc_pipe.predict(X_test)"
   ]
  },
  {
   "cell_type": "code",
   "execution_count": 58,
   "id": "50da9b32",
   "metadata": {
    "ExecuteTime": {
     "end_time": "2023-05-31T22:11:12.762926Z",
     "start_time": "2023-05-31T22:11:12.748956Z"
    }
   },
   "outputs": [
    {
     "name": "stdout",
     "output_type": "stream",
     "text": [
      "              precision    recall  f1-score   support\n",
      "\n",
      "           0       0.99      0.98      0.99     10654\n",
      "           1       0.73      0.79      0.76       596\n",
      "\n",
      "    accuracy                           0.97     11250\n",
      "   macro avg       0.86      0.89      0.87     11250\n",
      "weighted avg       0.97      0.97      0.97     11250\n",
      "\n"
     ]
    }
   ],
   "source": [
    "print(classification_report(y_test, y_pred))"
   ]
  },
  {
   "cell_type": "code",
   "execution_count": 59,
   "id": "dfe2d7c9",
   "metadata": {
    "ExecuteTime": {
     "end_time": "2023-05-31T22:11:16.239396Z",
     "start_time": "2023-05-31T22:11:16.069395Z"
    }
   },
   "outputs": [
    {
     "data": {
      "image/png": "[encoded data removed]",
      "text/plain": [
       "<Figure size 432x288 with 2 Axes>"
      ]
     },
     "metadata": {
      "needs_background": "light"
     },
     "output_type": "display_data"
    }
   ],
   "source": [
    "plot_confusion_matrix(base_dtc_pipe, X_test, y_test);"
   ]
  },
  {
   "cell_type": "code",
   "execution_count": 60,
   "id": "f508ab25",
   "metadata": {
    "ExecuteTime": {
     "end_time": "2023-05-31T22:11:19.763425Z",
     "start_time": "2023-05-31T22:11:19.611396Z"
    }
   },
   "outputs": [
    {
     "data": {
      "text/plain": [
       "<sklearn.metrics._plot.roc_curve.RocCurveDisplay at 0x20077890340>"
      ]
     },
     "execution_count": 60,
     "metadata": {},
     "output_type": "execute_result"
    },
    {
     "data": {
      "image/png": "[encoded data removed]",
      "text/plain": [
       "<Figure size 432x288 with 1 Axes>"
      ]
     },
     "metadata": {
      "needs_background": "light"
     },
     "output_type": "display_data"
    }
   ],
   "source": [
    "plot_roc_curve(base_dtc_pipe, X_test, y_test)"
   ]
  },
  {
   "cell_type": "code",
   "execution_count": null,
   "id": "a11972bf",
   "metadata": {
    "ExecuteTime": {
     "end_time": "2023-05-31T21:52:31.879170Z",
     "start_time": "2023-05-31T21:52:31.869170Z"
    }
   },
   "outputs": [],
   "source": [
    "# IMBPIPE!!!!"
   ]
  },
  {
   "cell_type": "code",
   "execution_count": 61,
   "id": "f1d45d8f",
   "metadata": {
    "ExecuteTime": {
     "end_time": "2023-05-31T22:12:06.828225Z",
     "start_time": "2023-05-31T22:12:06.816226Z"
    }
   },
   "outputs": [],
   "source": [
    "imb_pipe = ImPipeline(steps=[\n",
    "    ('ct',CT),\n",
    "    ('sm',SMOTE(random_state=42, sampling_strategy=.25)),\n",
    "    ('dtc',DecisionTreeClassifier(random_state=42))\n",
    "])"
   ]
  },
  {
   "cell_type": "code",
   "execution_count": 62,
   "id": "5771f788",
   "metadata": {
    "ExecuteTime": {
     "end_time": "2023-05-31T22:12:12.197224Z",
     "start_time": "2023-05-31T22:12:11.052224Z"
    }
   },
   "outputs": [
    {
     "data": {
      "text/plain": [
       "Pipeline(steps=[('ct',\n",
       "                 ColumnTransformer(remainder='passthrough',\n",
       "                                   transformers=[('subpipe_num',\n",
       "                                                  Pipeline(steps=[('num_impute',\n",
       "                                                                   SimpleImputer(strategy='median')),\n",
       "                                                                  ('ss',\n",
       "                                                                   StandardScaler())]),\n",
       "                                                  <sklearn.compose._column_transformer.make_column_selector object at 0x0000020073EBAAF0>),\n",
       "                                                 ('subpipe_cat',\n",
       "                                                  Pipeline(steps=[('cat_impute',\n",
       "                                                                   SimpleImputer(strategy='most_frequent')),\n",
       "                                                                  ('ohe',\n",
       "                                                                   OneHotEncoder(handle_unknown='ignore',\n",
       "                                                                                 sparse=False))]),\n",
       "                                                  <sklearn.compose._column_transformer.make_column_selector object at 0x0000020073EBA6D0>)])),\n",
       "                ('sm', SMOTE(random_state=42, sampling_strategy=0.25)),\n",
       "                ('dtc', DecisionTreeClassifier(random_state=42))])"
      ]
     },
     "execution_count": 62,
     "metadata": {},
     "output_type": "execute_result"
    }
   ],
   "source": [
    "imb_pipe.fit(X_train, y_train)"
   ]
  },
  {
   "cell_type": "code",
   "execution_count": 63,
   "id": "6c5590bf",
   "metadata": {
    "ExecuteTime": {
     "end_time": "2023-05-31T22:12:27.060386Z",
     "start_time": "2023-05-31T22:12:17.144417Z"
    }
   },
   "outputs": [
    {
     "data": {
      "image/png": "[encoded data removed]",
      "text/plain": [
       "<Figure size 720x720 with 1 Axes>"
      ]
     },
     "metadata": {
      "needs_background": "light"
     },
     "output_type": "display_data"
    }
   ],
   "source": [
    "base_imb = ModelWithCV(\n",
    "    imb_pipe,\n",
    "    model_name='base_imb',\n",
    "    X=X_train,\n",
    "    y=y_train)\n",
    "fix, ax = plt.subplots(figsize=(10,10))\n",
    "\n",
    "base_imb.plot_cv(ax=ax);"
   ]
  },
  {
   "cell_type": "code",
   "execution_count": 64,
   "id": "fec53a56",
   "metadata": {
    "ExecuteTime": {
     "end_time": "2023-05-31T22:12:31.367386Z",
     "start_time": "2023-05-31T22:12:31.353388Z"
    }
   },
   "outputs": [
    {
     "name": "stdout",
     "output_type": "stream",
     "text": [
      "CV Results for `base_imb` model:\n",
      "            0.95991 ± 0.00487 accuracy\n",
      "        \n"
     ]
    }
   ],
   "source": [
    "base_imb.print_cv_summary()"
   ]
  },
  {
   "cell_type": "code",
   "execution_count": 65,
   "id": "a4353032",
   "metadata": {
    "ExecuteTime": {
     "end_time": "2023-05-31T22:12:35.482386Z",
     "start_time": "2023-05-31T22:12:35.453389Z"
    }
   },
   "outputs": [
    {
     "data": {
      "text/plain": [
       "0.9616888888888889"
      ]
     },
     "execution_count": 65,
     "metadata": {},
     "output_type": "execute_result"
    }
   ],
   "source": [
    "imb_pipe.score(X_test, y_test)"
   ]
  },
  {
   "cell_type": "code",
   "execution_count": 78,
   "id": "7f93ffb1",
   "metadata": {
    "ExecuteTime": {
     "end_time": "2023-05-31T22:28:44.259400Z",
     "start_time": "2023-05-31T22:28:44.242400Z"
    }
   },
   "outputs": [],
   "source": [
    "parameters = {'dtc__criterion': ['gini', 'entropy'],\n",
    "          'dtc__min_samples_leaf': [10, 15, 20],\n",
    "          'sm__k_neighbors': [9, 11, 13]}\n",
    "\n",
    "gs = GridSearchCV(estimator=imb_pipe,\n",
    "                 param_grid=parameters,\n",
    "                 cv=5,\n",
    "                 verbose=2)"
   ]
  },
  {
   "cell_type": "code",
   "execution_count": 79,
   "id": "a4fbba51",
   "metadata": {
    "ExecuteTime": {
     "end_time": "2023-05-31T22:30:19.815399Z",
     "start_time": "2023-05-31T22:28:53.775399Z"
    },
    "scrolled": true
   },
   "outputs": [
    {
     "name": "stdout",
     "output_type": "stream",
     "text": [
      "Fitting 5 folds for each of 18 candidates, totalling 90 fits\n",
      "[CV] dtc__criterion=gini, dtc__min_samples_leaf=10, sm__k_neighbors=9 \n"
     ]
    },
    {
     "name": "stderr",
     "output_type": "stream",
     "text": [
      "[Parallel(n_jobs=1)]: Using backend SequentialBackend with 1 concurrent workers.\n"
     ]
    },
    {
     "name": "stdout",
     "output_type": "stream",
     "text": [
      "[CV]  dtc__criterion=gini, dtc__min_samples_leaf=10, sm__k_neighbors=9, total=   0.9s\n",
      "[CV] dtc__criterion=gini, dtc__min_samples_leaf=10, sm__k_neighbors=9 \n"
     ]
    },
    {
     "name": "stderr",
     "output_type": "stream",
     "text": [
      "[Parallel(n_jobs=1)]: Done   1 out of   1 | elapsed:    0.8s remaining:    0.0s\n"
     ]
    },
    {
     "name": "stdout",
     "output_type": "stream",
     "text": [
      "[CV]  dtc__criterion=gini, dtc__min_samples_leaf=10, sm__k_neighbors=9, total=   0.8s\n",
      "[CV] dtc__criterion=gini, dtc__min_samples_leaf=10, sm__k_neighbors=9 \n",
      "[CV]  dtc__criterion=gini, dtc__min_samples_leaf=10, sm__k_neighbors=9, total=   0.8s\n",
      "[CV] dtc__criterion=gini, dtc__min_samples_leaf=10, sm__k_neighbors=9 \n",
      "[CV]  dtc__criterion=gini, dtc__min_samples_leaf=10, sm__k_neighbors=9, total=   0.9s\n",
      "[CV] dtc__criterion=gini, dtc__min_samples_leaf=10, sm__k_neighbors=9 \n",
      "[CV]  dtc__criterion=gini, dtc__min_samples_leaf=10, sm__k_neighbors=9, total=   0.8s\n",
      "[CV] dtc__criterion=gini, dtc__min_samples_leaf=10, sm__k_neighbors=11 \n",
      "[CV]  dtc__criterion=gini, dtc__min_samples_leaf=10, sm__k_neighbors=11, total=   0.9s\n",
      "[CV] dtc__criterion=gini, dtc__min_samples_leaf=10, sm__k_neighbors=11 \n",
      "[CV]  dtc__criterion=gini, dtc__min_samples_leaf=10, sm__k_neighbors=11, total=   0.9s\n",
      "[CV] dtc__criterion=gini, dtc__min_samples_leaf=10, sm__k_neighbors=11 \n",
      "[CV]  dtc__criterion=gini, dtc__min_samples_leaf=10, sm__k_neighbors=11, total=   0.8s\n",
      "[CV] dtc__criterion=gini, dtc__min_samples_leaf=10, sm__k_neighbors=11 \n",
      "[CV]  dtc__criterion=gini, dtc__min_samples_leaf=10, sm__k_neighbors=11, total=   0.8s\n",
      "[CV] dtc__criterion=gini, dtc__min_samples_leaf=10, sm__k_neighbors=11 \n",
      "[CV]  dtc__criterion=gini, dtc__min_samples_leaf=10, sm__k_neighbors=11, total=   0.8s\n",
      "[CV] dtc__criterion=gini, dtc__min_samples_leaf=10, sm__k_neighbors=13 \n",
      "[CV]  dtc__criterion=gini, dtc__min_samples_leaf=10, sm__k_neighbors=13, total=   0.9s\n",
      "[CV] dtc__criterion=gini, dtc__min_samples_leaf=10, sm__k_neighbors=13 \n",
      "[CV]  dtc__criterion=gini, dtc__min_samples_leaf=10, sm__k_neighbors=13, total=   0.9s\n",
      "[CV] dtc__criterion=gini, dtc__min_samples_leaf=10, sm__k_neighbors=13 \n",
      "[CV]  dtc__criterion=gini, dtc__min_samples_leaf=10, sm__k_neighbors=13, total=   0.9s\n",
      "[CV] dtc__criterion=gini, dtc__min_samples_leaf=10, sm__k_neighbors=13 \n",
      "[CV]  dtc__criterion=gini, dtc__min_samples_leaf=10, sm__k_neighbors=13, total=   1.0s\n",
      "[CV] dtc__criterion=gini, dtc__min_samples_leaf=10, sm__k_neighbors=13 \n",
      "[CV]  dtc__criterion=gini, dtc__min_samples_leaf=10, sm__k_neighbors=13, total=   0.9s\n",
      "[CV] dtc__criterion=gini, dtc__min_samples_leaf=15, sm__k_neighbors=9 \n",
      "[CV]  dtc__criterion=gini, dtc__min_samples_leaf=15, sm__k_neighbors=9, total=   0.9s\n",
      "[CV] dtc__criterion=gini, dtc__min_samples_leaf=15, sm__k_neighbors=9 \n",
      "[CV]  dtc__criterion=gini, dtc__min_samples_leaf=15, sm__k_neighbors=9, total=   0.9s\n",
      "[CV] dtc__criterion=gini, dtc__min_samples_leaf=15, sm__k_neighbors=9 \n",
      "[CV]  dtc__criterion=gini, dtc__min_samples_leaf=15, sm__k_neighbors=9, total=   0.7s\n",
      "[CV] dtc__criterion=gini, dtc__min_samples_leaf=15, sm__k_neighbors=9 \n",
      "[CV]  dtc__criterion=gini, dtc__min_samples_leaf=15, sm__k_neighbors=9, total=   1.2s\n",
      "[CV] dtc__criterion=gini, dtc__min_samples_leaf=15, sm__k_neighbors=9 \n",
      "[CV]  dtc__criterion=gini, dtc__min_samples_leaf=15, sm__k_neighbors=9, total=   0.9s\n",
      "[CV] dtc__criterion=gini, dtc__min_samples_leaf=15, sm__k_neighbors=11 \n",
      "[CV]  dtc__criterion=gini, dtc__min_samples_leaf=15, sm__k_neighbors=11, total=   0.9s\n",
      "[CV] dtc__criterion=gini, dtc__min_samples_leaf=15, sm__k_neighbors=11 \n",
      "[CV]  dtc__criterion=gini, dtc__min_samples_leaf=15, sm__k_neighbors=11, total=   1.0s\n",
      "[CV] dtc__criterion=gini, dtc__min_samples_leaf=15, sm__k_neighbors=11 \n",
      "[CV]  dtc__criterion=gini, dtc__min_samples_leaf=15, sm__k_neighbors=11, total=   0.9s\n",
      "[CV] dtc__criterion=gini, dtc__min_samples_leaf=15, sm__k_neighbors=11 \n",
      "[CV]  dtc__criterion=gini, dtc__min_samples_leaf=15, sm__k_neighbors=11, total=   1.1s\n",
      "[CV] dtc__criterion=gini, dtc__min_samples_leaf=15, sm__k_neighbors=11 \n",
      "[CV]  dtc__criterion=gini, dtc__min_samples_leaf=15, sm__k_neighbors=11, total=   1.0s\n",
      "[CV] dtc__criterion=gini, dtc__min_samples_leaf=15, sm__k_neighbors=13 \n",
      "[CV]  dtc__criterion=gini, dtc__min_samples_leaf=15, sm__k_neighbors=13, total=   1.2s\n",
      "[CV] dtc__criterion=gini, dtc__min_samples_leaf=15, sm__k_neighbors=13 \n",
      "[CV]  dtc__criterion=gini, dtc__min_samples_leaf=15, sm__k_neighbors=13, total=   1.1s\n",
      "[CV] dtc__criterion=gini, dtc__min_samples_leaf=15, sm__k_neighbors=13 \n",
      "[CV]  dtc__criterion=gini, dtc__min_samples_leaf=15, sm__k_neighbors=13, total=   1.0s\n",
      "[CV] dtc__criterion=gini, dtc__min_samples_leaf=15, sm__k_neighbors=13 \n",
      "[CV]  dtc__criterion=gini, dtc__min_samples_leaf=15, sm__k_neighbors=13, total=   0.9s\n",
      "[CV] dtc__criterion=gini, dtc__min_samples_leaf=15, sm__k_neighbors=13 \n",
      "[CV]  dtc__criterion=gini, dtc__min_samples_leaf=15, sm__k_neighbors=13, total=   0.9s\n",
      "[CV] dtc__criterion=gini, dtc__min_samples_leaf=20, sm__k_neighbors=9 \n",
      "[CV]  dtc__criterion=gini, dtc__min_samples_leaf=20, sm__k_neighbors=9, total=   0.9s\n",
      "[CV] dtc__criterion=gini, dtc__min_samples_leaf=20, sm__k_neighbors=9 \n",
      "[CV]  dtc__criterion=gini, dtc__min_samples_leaf=20, sm__k_neighbors=9, total=   0.9s\n",
      "[CV] dtc__criterion=gini, dtc__min_samples_leaf=20, sm__k_neighbors=9 \n",
      "[CV]  dtc__criterion=gini, dtc__min_samples_leaf=20, sm__k_neighbors=9, total=   0.9s\n",
      "[CV] dtc__criterion=gini, dtc__min_samples_leaf=20, sm__k_neighbors=9 \n",
      "[CV]  dtc__criterion=gini, dtc__min_samples_leaf=20, sm__k_neighbors=9, total=   0.9s\n",
      "[CV] dtc__criterion=gini, dtc__min_samples_leaf=20, sm__k_neighbors=9 \n",
      "[CV]  dtc__criterion=gini, dtc__min_samples_leaf=20, sm__k_neighbors=9, total=   0.9s\n",
      "[CV] dtc__criterion=gini, dtc__min_samples_leaf=20, sm__k_neighbors=11 \n",
      "[CV]  dtc__criterion=gini, dtc__min_samples_leaf=20, sm__k_neighbors=11, total=   0.9s\n",
      "[CV] dtc__criterion=gini, dtc__min_samples_leaf=20, sm__k_neighbors=11 \n",
      "[CV]  dtc__criterion=gini, dtc__min_samples_leaf=20, sm__k_neighbors=11, total=   0.9s\n",
      "[CV] dtc__criterion=gini, dtc__min_samples_leaf=20, sm__k_neighbors=11 \n",
      "[CV]  dtc__criterion=gini, dtc__min_samples_leaf=20, sm__k_neighbors=11, total=   0.9s\n",
      "[CV] dtc__criterion=gini, dtc__min_samples_leaf=20, sm__k_neighbors=11 \n",
      "[CV]  dtc__criterion=gini, dtc__min_samples_leaf=20, sm__k_neighbors=11, total=   0.9s\n",
      "[CV] dtc__criterion=gini, dtc__min_samples_leaf=20, sm__k_neighbors=11 \n",
      "[CV]  dtc__criterion=gini, dtc__min_samples_leaf=20, sm__k_neighbors=11, total=   0.8s\n",
      "[CV] dtc__criterion=gini, dtc__min_samples_leaf=20, sm__k_neighbors=13 \n",
      "[CV]  dtc__criterion=gini, dtc__min_samples_leaf=20, sm__k_neighbors=13, total=   0.9s\n",
      "[CV] dtc__criterion=gini, dtc__min_samples_leaf=20, sm__k_neighbors=13 \n",
      "[CV]  dtc__criterion=gini, dtc__min_samples_leaf=20, sm__k_neighbors=13, total=   0.9s\n",
      "[CV] dtc__criterion=gini, dtc__min_samples_leaf=20, sm__k_neighbors=13 \n",
      "[CV]  dtc__criterion=gini, dtc__min_samples_leaf=20, sm__k_neighbors=13, total=   0.9s\n",
      "[CV] dtc__criterion=gini, dtc__min_samples_leaf=20, sm__k_neighbors=13 \n",
      "[CV]  dtc__criterion=gini, dtc__min_samples_leaf=20, sm__k_neighbors=13, total=   0.9s\n",
      "[CV] dtc__criterion=gini, dtc__min_samples_leaf=20, sm__k_neighbors=13 \n",
      "[CV]  dtc__criterion=gini, dtc__min_samples_leaf=20, sm__k_neighbors=13, total=   0.8s\n",
      "[CV] dtc__criterion=entropy, dtc__min_samples_leaf=10, sm__k_neighbors=9 \n",
      "[CV]  dtc__criterion=entropy, dtc__min_samples_leaf=10, sm__k_neighbors=9, total=   1.0s\n",
      "[CV] dtc__criterion=entropy, dtc__min_samples_leaf=10, sm__k_neighbors=9 \n",
      "[CV]  dtc__criterion=entropy, dtc__min_samples_leaf=10, sm__k_neighbors=9, total=   1.0s\n",
      "[CV] dtc__criterion=entropy, dtc__min_samples_leaf=10, sm__k_neighbors=9 \n",
      "[CV]  dtc__criterion=entropy, dtc__min_samples_leaf=10, sm__k_neighbors=9, total=   1.0s\n",
      "[CV] dtc__criterion=entropy, dtc__min_samples_leaf=10, sm__k_neighbors=9 \n",
      "[CV]  dtc__criterion=entropy, dtc__min_samples_leaf=10, sm__k_neighbors=9, total=   1.1s\n",
      "[CV] dtc__criterion=entropy, dtc__min_samples_leaf=10, sm__k_neighbors=9 \n",
      "[CV]  dtc__criterion=entropy, dtc__min_samples_leaf=10, sm__k_neighbors=9, total=   1.0s\n",
      "[CV] dtc__criterion=entropy, dtc__min_samples_leaf=10, sm__k_neighbors=11 \n",
      "[CV]  dtc__criterion=entropy, dtc__min_samples_leaf=10, sm__k_neighbors=11, total=   1.0s\n",
      "[CV] dtc__criterion=entropy, dtc__min_samples_leaf=10, sm__k_neighbors=11 \n",
      "[CV]  dtc__criterion=entropy, dtc__min_samples_leaf=10, sm__k_neighbors=11, total=   0.9s\n",
      "[CV] dtc__criterion=entropy, dtc__min_samples_leaf=10, sm__k_neighbors=11 \n",
      "[CV]  dtc__criterion=entropy, dtc__min_samples_leaf=10, sm__k_neighbors=11, total=   1.0s\n",
      "[CV] dtc__criterion=entropy, dtc__min_samples_leaf=10, sm__k_neighbors=11 \n"
     ]
    },
    {
     "name": "stdout",
     "output_type": "stream",
     "text": [
      "[CV]  dtc__criterion=entropy, dtc__min_samples_leaf=10, sm__k_neighbors=11, total=   1.0s\n",
      "[CV] dtc__criterion=entropy, dtc__min_samples_leaf=10, sm__k_neighbors=11 \n",
      "[CV]  dtc__criterion=entropy, dtc__min_samples_leaf=10, sm__k_neighbors=11, total=   0.9s\n",
      "[CV] dtc__criterion=entropy, dtc__min_samples_leaf=10, sm__k_neighbors=13 \n",
      "[CV]  dtc__criterion=entropy, dtc__min_samples_leaf=10, sm__k_neighbors=13, total=   1.0s\n",
      "[CV] dtc__criterion=entropy, dtc__min_samples_leaf=10, sm__k_neighbors=13 \n",
      "[CV]  dtc__criterion=entropy, dtc__min_samples_leaf=10, sm__k_neighbors=13, total=   0.9s\n",
      "[CV] dtc__criterion=entropy, dtc__min_samples_leaf=10, sm__k_neighbors=13 \n",
      "[CV]  dtc__criterion=entropy, dtc__min_samples_leaf=10, sm__k_neighbors=13, total=   0.9s\n",
      "[CV] dtc__criterion=entropy, dtc__min_samples_leaf=10, sm__k_neighbors=13 \n",
      "[CV]  dtc__criterion=entropy, dtc__min_samples_leaf=10, sm__k_neighbors=13, total=   0.9s\n",
      "[CV] dtc__criterion=entropy, dtc__min_samples_leaf=10, sm__k_neighbors=13 \n",
      "[CV]  dtc__criterion=entropy, dtc__min_samples_leaf=10, sm__k_neighbors=13, total=   0.9s\n",
      "[CV] dtc__criterion=entropy, dtc__min_samples_leaf=15, sm__k_neighbors=9 \n",
      "[CV]  dtc__criterion=entropy, dtc__min_samples_leaf=15, sm__k_neighbors=9, total=   1.0s\n",
      "[CV] dtc__criterion=entropy, dtc__min_samples_leaf=15, sm__k_neighbors=9 \n",
      "[CV]  dtc__criterion=entropy, dtc__min_samples_leaf=15, sm__k_neighbors=9, total=   0.9s\n",
      "[CV] dtc__criterion=entropy, dtc__min_samples_leaf=15, sm__k_neighbors=9 \n",
      "[CV]  dtc__criterion=entropy, dtc__min_samples_leaf=15, sm__k_neighbors=9, total=   0.9s\n",
      "[CV] dtc__criterion=entropy, dtc__min_samples_leaf=15, sm__k_neighbors=9 \n",
      "[CV]  dtc__criterion=entropy, dtc__min_samples_leaf=15, sm__k_neighbors=9, total=   1.0s\n",
      "[CV] dtc__criterion=entropy, dtc__min_samples_leaf=15, sm__k_neighbors=9 \n",
      "[CV]  dtc__criterion=entropy, dtc__min_samples_leaf=15, sm__k_neighbors=9, total=   0.9s\n",
      "[CV] dtc__criterion=entropy, dtc__min_samples_leaf=15, sm__k_neighbors=11 \n",
      "[CV]  dtc__criterion=entropy, dtc__min_samples_leaf=15, sm__k_neighbors=11, total=   0.9s\n",
      "[CV] dtc__criterion=entropy, dtc__min_samples_leaf=15, sm__k_neighbors=11 \n",
      "[CV]  dtc__criterion=entropy, dtc__min_samples_leaf=15, sm__k_neighbors=11, total=   0.9s\n",
      "[CV] dtc__criterion=entropy, dtc__min_samples_leaf=15, sm__k_neighbors=11 \n",
      "[CV]  dtc__criterion=entropy, dtc__min_samples_leaf=15, sm__k_neighbors=11, total=   0.9s\n",
      "[CV] dtc__criterion=entropy, dtc__min_samples_leaf=15, sm__k_neighbors=11 \n",
      "[CV]  dtc__criterion=entropy, dtc__min_samples_leaf=15, sm__k_neighbors=11, total=   0.9s\n",
      "[CV] dtc__criterion=entropy, dtc__min_samples_leaf=15, sm__k_neighbors=11 \n",
      "[CV]  dtc__criterion=entropy, dtc__min_samples_leaf=15, sm__k_neighbors=11, total=   1.0s\n",
      "[CV] dtc__criterion=entropy, dtc__min_samples_leaf=15, sm__k_neighbors=13 \n",
      "[CV]  dtc__criterion=entropy, dtc__min_samples_leaf=15, sm__k_neighbors=13, total=   0.9s\n",
      "[CV] dtc__criterion=entropy, dtc__min_samples_leaf=15, sm__k_neighbors=13 \n",
      "[CV]  dtc__criterion=entropy, dtc__min_samples_leaf=15, sm__k_neighbors=13, total=   0.9s\n",
      "[CV] dtc__criterion=entropy, dtc__min_samples_leaf=15, sm__k_neighbors=13 \n",
      "[CV]  dtc__criterion=entropy, dtc__min_samples_leaf=15, sm__k_neighbors=13, total=   1.0s\n",
      "[CV] dtc__criterion=entropy, dtc__min_samples_leaf=15, sm__k_neighbors=13 \n",
      "[CV]  dtc__criterion=entropy, dtc__min_samples_leaf=15, sm__k_neighbors=13, total=   0.9s\n",
      "[CV] dtc__criterion=entropy, dtc__min_samples_leaf=15, sm__k_neighbors=13 \n",
      "[CV]  dtc__criterion=entropy, dtc__min_samples_leaf=15, sm__k_neighbors=13, total=   0.8s\n",
      "[CV] dtc__criterion=entropy, dtc__min_samples_leaf=20, sm__k_neighbors=9 \n",
      "[CV]  dtc__criterion=entropy, dtc__min_samples_leaf=20, sm__k_neighbors=9, total=   0.9s\n",
      "[CV] dtc__criterion=entropy, dtc__min_samples_leaf=20, sm__k_neighbors=9 \n",
      "[CV]  dtc__criterion=entropy, dtc__min_samples_leaf=20, sm__k_neighbors=9, total=   1.0s\n",
      "[CV] dtc__criterion=entropy, dtc__min_samples_leaf=20, sm__k_neighbors=9 \n",
      "[CV]  dtc__criterion=entropy, dtc__min_samples_leaf=20, sm__k_neighbors=9, total=   1.0s\n",
      "[CV] dtc__criterion=entropy, dtc__min_samples_leaf=20, sm__k_neighbors=9 \n",
      "[CV]  dtc__criterion=entropy, dtc__min_samples_leaf=20, sm__k_neighbors=9, total=   1.0s\n",
      "[CV] dtc__criterion=entropy, dtc__min_samples_leaf=20, sm__k_neighbors=9 \n",
      "[CV]  dtc__criterion=entropy, dtc__min_samples_leaf=20, sm__k_neighbors=9, total=   0.9s\n",
      "[CV] dtc__criterion=entropy, dtc__min_samples_leaf=20, sm__k_neighbors=11 \n",
      "[CV]  dtc__criterion=entropy, dtc__min_samples_leaf=20, sm__k_neighbors=11, total=   1.0s\n",
      "[CV] dtc__criterion=entropy, dtc__min_samples_leaf=20, sm__k_neighbors=11 \n",
      "[CV]  dtc__criterion=entropy, dtc__min_samples_leaf=20, sm__k_neighbors=11, total=   1.0s\n",
      "[CV] dtc__criterion=entropy, dtc__min_samples_leaf=20, sm__k_neighbors=11 \n",
      "[CV]  dtc__criterion=entropy, dtc__min_samples_leaf=20, sm__k_neighbors=11, total=   1.0s\n",
      "[CV] dtc__criterion=entropy, dtc__min_samples_leaf=20, sm__k_neighbors=11 \n",
      "[CV]  dtc__criterion=entropy, dtc__min_samples_leaf=20, sm__k_neighbors=11, total=   0.9s\n",
      "[CV] dtc__criterion=entropy, dtc__min_samples_leaf=20, sm__k_neighbors=11 \n",
      "[CV]  dtc__criterion=entropy, dtc__min_samples_leaf=20, sm__k_neighbors=11, total=   1.0s\n",
      "[CV] dtc__criterion=entropy, dtc__min_samples_leaf=20, sm__k_neighbors=13 \n",
      "[CV]  dtc__criterion=entropy, dtc__min_samples_leaf=20, sm__k_neighbors=13, total=   0.9s\n",
      "[CV] dtc__criterion=entropy, dtc__min_samples_leaf=20, sm__k_neighbors=13 \n",
      "[CV]  dtc__criterion=entropy, dtc__min_samples_leaf=20, sm__k_neighbors=13, total=   0.9s\n",
      "[CV] dtc__criterion=entropy, dtc__min_samples_leaf=20, sm__k_neighbors=13 \n",
      "[CV]  dtc__criterion=entropy, dtc__min_samples_leaf=20, sm__k_neighbors=13, total=   1.0s\n",
      "[CV] dtc__criterion=entropy, dtc__min_samples_leaf=20, sm__k_neighbors=13 \n",
      "[CV]  dtc__criterion=entropy, dtc__min_samples_leaf=20, sm__k_neighbors=13, total=   0.9s\n",
      "[CV] dtc__criterion=entropy, dtc__min_samples_leaf=20, sm__k_neighbors=13 \n",
      "[CV]  dtc__criterion=entropy, dtc__min_samples_leaf=20, sm__k_neighbors=13, total=   1.0s\n"
     ]
    },
    {
     "name": "stderr",
     "output_type": "stream",
     "text": [
      "[Parallel(n_jobs=1)]: Done  90 out of  90 | elapsed:  1.4min finished\n"
     ]
    },
    {
     "data": {
      "text/plain": [
       "GridSearchCV(cv=5,\n",
       "             estimator=Pipeline(steps=[('ct',\n",
       "                                        ColumnTransformer(remainder='passthrough',\n",
       "                                                          transformers=[('subpipe_num',\n",
       "                                                                         Pipeline(steps=[('num_impute',\n",
       "                                                                                          SimpleImputer(strategy='median')),\n",
       "                                                                                         ('ss',\n",
       "                                                                                          StandardScaler())]),\n",
       "                                                                         <sklearn.compose._column_transformer.make_column_selector object at 0x0000020073EBAAF0>),\n",
       "                                                                        ('subpipe_cat',\n",
       "                                                                         Pipeline(steps=[('cat_impute',\n",
       "                                                                                          SimpleIm...\n",
       "                                                                                          OneHotEncoder(handle_unknown='ignore',\n",
       "                                                                                                        sparse=False))]),\n",
       "                                                                         <sklearn.compose._column_transformer.make_column_selector object at 0x0000020073EBA6D0>)])),\n",
       "                                       ('sm',\n",
       "                                        SMOTE(random_state=42,\n",
       "                                              sampling_strategy=0.25)),\n",
       "                                       ('dtc',\n",
       "                                        DecisionTreeClassifier(random_state=42))]),\n",
       "             param_grid={'dtc__criterion': ['gini', 'entropy'],\n",
       "                         'dtc__min_samples_leaf': [10, 15, 20],\n",
       "                         'sm__k_neighbors': [9, 11, 13]},\n",
       "             verbose=2)"
      ]
     },
     "execution_count": 79,
     "metadata": {},
     "output_type": "execute_result"
    }
   ],
   "source": [
    "gs.fit(X_train, y_train)"
   ]
  },
  {
   "cell_type": "code",
   "execution_count": 80,
   "id": "c2c1661a",
   "metadata": {
    "ExecuteTime": {
     "end_time": "2023-05-31T22:30:33.290400Z",
     "start_time": "2023-05-31T22:30:33.282402Z"
    }
   },
   "outputs": [
    {
     "data": {
      "text/plain": [
       "{'dtc__criterion': 'gini', 'dtc__min_samples_leaf': 20, 'sm__k_neighbors': 13}"
      ]
     },
     "execution_count": 80,
     "metadata": {},
     "output_type": "execute_result"
    }
   ],
   "source": [
    "gs.best_params_"
   ]
  },
  {
   "cell_type": "code",
   "execution_count": 68,
   "id": "ec95fb90",
   "metadata": {
    "ExecuteTime": {
     "end_time": "2023-05-31T22:14:35.943419Z",
     "start_time": "2023-05-31T22:14:35.931420Z"
    }
   },
   "outputs": [
    {
     "data": {
      "text/plain": [
       "{'dtc__criterion': 'gini', 'dtc__min_samples_leaf': 10, 'sm__k_neighbors': 9}"
      ]
     },
     "execution_count": 68,
     "metadata": {},
     "output_type": "execute_result"
    }
   ],
   "source": [
    "gs.best_params_"
   ]
  },
  {
   "cell_type": "code",
   "execution_count": 81,
   "id": "86b42556",
   "metadata": {
    "ExecuteTime": {
     "end_time": "2023-05-31T22:30:43.756423Z",
     "start_time": "2023-05-31T22:30:43.745401Z"
    }
   },
   "outputs": [
    {
     "data": {
      "text/plain": [
       "0.9729777777777777"
      ]
     },
     "execution_count": 81,
     "metadata": {},
     "output_type": "execute_result"
    }
   ],
   "source": [
    "gs.best_score_"
   ]
  },
  {
   "cell_type": "code",
   "execution_count": 82,
   "id": "18a1f4c1",
   "metadata": {
    "ExecuteTime": {
     "end_time": "2023-05-31T22:30:52.746429Z",
     "start_time": "2023-05-31T22:30:52.717401Z"
    }
   },
   "outputs": [
    {
     "data": {
      "text/plain": [
       "0.9754666666666667"
      ]
     },
     "execution_count": 82,
     "metadata": {},
     "output_type": "execute_result"
    }
   ],
   "source": [
    "gs.best_estimator_.score(X_test, y_test)"
   ]
  },
  {
   "cell_type": "code",
   "execution_count": 71,
   "id": "8379b46b",
   "metadata": {
    "ExecuteTime": {
     "end_time": "2023-05-31T22:15:14.544373Z",
     "start_time": "2023-05-31T22:15:14.531374Z"
    }
   },
   "outputs": [],
   "source": [
    "final_model = gs.best_estimator_"
   ]
  },
  {
   "cell_type": "code",
   "execution_count": 72,
   "id": "2690583d",
   "metadata": {
    "ExecuteTime": {
     "end_time": "2023-05-31T22:15:23.781229Z",
     "start_time": "2023-05-31T22:15:23.674202Z"
    }
   },
   "outputs": [
    {
     "data": {
      "text/plain": [
       "Pipeline(steps=[('ct',\n",
       "                 ColumnTransformer(remainder='passthrough',\n",
       "                                   transformers=[('subpipe_num',\n",
       "                                                  Pipeline(steps=[('num_impute',\n",
       "                                                                   SimpleImputer(strategy='median')),\n",
       "                                                                  ('ss',\n",
       "                                                                   StandardScaler())]),\n",
       "                                                  <sklearn.compose._column_transformer.make_column_selector object at 0x0000020078FF56A0>),\n",
       "                                                 ('subpipe_cat',\n",
       "                                                  Pipeline(steps=[('cat_impute',\n",
       "                                                                   SimpleImputer(strategy='most_frequent')),\n",
       "                                                                  ('ohe',\n",
       "                                                                   OneHotEncoder(handle_unknown='ignore',\n",
       "                                                                                 sparse=False))]),\n",
       "                                                  <sklearn.compose._column_transformer.make_column_selector object at 0x0000020078FF5F10>)])),\n",
       "                ('sm',\n",
       "                 SMOTE(k_neighbors=9, random_state=42, sampling_strategy=0.25)),\n",
       "                ('dtc',\n",
       "                 DecisionTreeClassifier(min_samples_leaf=10, random_state=42))])"
      ]
     },
     "execution_count": 72,
     "metadata": {},
     "output_type": "execute_result"
    }
   ],
   "source": [
    "final_model"
   ]
  },
  {
   "cell_type": "code",
   "execution_count": 73,
   "id": "d8c65ddd",
   "metadata": {
    "ExecuteTime": {
     "end_time": "2023-05-31T22:16:41.069067Z",
     "start_time": "2023-05-31T22:16:39.292070Z"
    }
   },
   "outputs": [
    {
     "data": {
      "text/plain": [
       "Pipeline(steps=[('ct',\n",
       "                 ColumnTransformer(remainder='passthrough',\n",
       "                                   transformers=[('subpipe_num',\n",
       "                                                  Pipeline(steps=[('num_impute',\n",
       "                                                                   SimpleImputer(strategy='median')),\n",
       "                                                                  ('ss',\n",
       "                                                                   StandardScaler())]),\n",
       "                                                  <sklearn.compose._column_transformer.make_column_selector object at 0x0000020078FF56A0>),\n",
       "                                                 ('subpipe_cat',\n",
       "                                                  Pipeline(steps=[('cat_impute',\n",
       "                                                                   SimpleImputer(strategy='most_frequent')),\n",
       "                                                                  ('ohe',\n",
       "                                                                   OneHotEncoder(handle_unknown='ignore',\n",
       "                                                                                 sparse=False))]),\n",
       "                                                  <sklearn.compose._column_transformer.make_column_selector object at 0x0000020078FF5F10>)])),\n",
       "                ('sm',\n",
       "                 SMOTE(k_neighbors=9, random_state=42, sampling_strategy=0.25)),\n",
       "                ('dtc',\n",
       "                 DecisionTreeClassifier(min_samples_leaf=10, random_state=42))])"
      ]
     },
     "execution_count": 73,
     "metadata": {},
     "output_type": "execute_result"
    }
   ],
   "source": [
    "# Train with our combined train/test\n",
    "\n",
    "final_model.fit(X_train_both, y_train_both)"
   ]
  },
  {
   "cell_type": "code",
   "execution_count": 74,
   "id": "4c7dc7c4",
   "metadata": {
    "ExecuteTime": {
     "end_time": "2023-05-31T22:17:14.582659Z",
     "start_time": "2023-05-31T22:16:59.786659Z"
    },
    "collapsed": true
   },
   "outputs": [
    {
     "data": {
      "image/png": "[encoded data removed]",
      "text/plain": [
       "<Figure size 720x720 with 1 Axes>"
      ]
     },
     "metadata": {
      "needs_background": "light"
     },
     "output_type": "display_data"
    }
   ],
   "source": [
    "final_model_check = ModelWithCV(\n",
    "    final_model,\n",
    "    model_name='final_model',\n",
    "    X=X_train_both,\n",
    "    y=y_train_both)\n",
    "fig, ax = plt.subplots(figsize=(10,10))\n",
    "\n",
    "final_model_check.plot_cv(ax=ax);"
   ]
  },
  {
   "cell_type": "code",
   "execution_count": 75,
   "id": "77706ab3",
   "metadata": {
    "ExecuteTime": {
     "end_time": "2023-05-31T22:17:24.456659Z",
     "start_time": "2023-05-31T22:17:24.443659Z"
    }
   },
   "outputs": [
    {
     "name": "stdout",
     "output_type": "stream",
     "text": [
      "CV Results for `final_model` model:\n",
      "            0.97436 ± 0.00269 accuracy\n",
      "        \n"
     ]
    }
   ],
   "source": [
    "final_model_check.print_cv_summary()"
   ]
  },
  {
   "cell_type": "code",
   "execution_count": 76,
   "id": "b4c450b7",
   "metadata": {
    "ExecuteTime": {
     "end_time": "2023-05-31T22:17:34.402659Z",
     "start_time": "2023-05-31T22:17:34.376660Z"
    }
   },
   "outputs": [
    {
     "data": {
      "text/plain": [
       "0.9776"
      ]
     },
     "execution_count": 76,
     "metadata": {},
     "output_type": "execute_result"
    }
   ],
   "source": [
    "# Score against validation/hold out\n",
    "\n",
    "final_model.score(X_val, y_val)"
   ]
  },
  {
   "cell_type": "code",
   "execution_count": null,
   "id": "2947342c",
   "metadata": {},
   "outputs": [],
   "source": []
  },
  {
   "cell_type": "code",
   "execution_count": 77,
   "id": "e93f910e",
   "metadata": {
    "ExecuteTime": {
     "end_time": "2023-05-31T22:18:23.173702Z",
     "start_time": "2023-05-31T22:18:21.331960Z"
    }
   },
   "outputs": [
    {
     "data": {
      "text/plain": [
       "Pipeline(steps=[('ct',\n",
       "                 ColumnTransformer(remainder='passthrough',\n",
       "                                   transformers=[('subpipe_num',\n",
       "                                                  Pipeline(steps=[('num_impute',\n",
       "                                                                   SimpleImputer(strategy='median')),\n",
       "                                                                  ('ss',\n",
       "                                                                   StandardScaler())]),\n",
       "                                                  <sklearn.compose._column_transformer.make_column_selector object at 0x0000020078FF56A0>),\n",
       "                                                 ('subpipe_cat',\n",
       "                                                  Pipeline(steps=[('cat_impute',\n",
       "                                                                   SimpleImputer(strategy='most_frequent')),\n",
       "                                                                  ('ohe',\n",
       "                                                                   OneHotEncoder(handle_unknown='ignore',\n",
       "                                                                                 sparse=False))]),\n",
       "                                                  <sklearn.compose._column_transformer.make_column_selector object at 0x0000020078FF5F10>)])),\n",
       "                ('sm',\n",
       "                 SMOTE(k_neighbors=9, random_state=42, sampling_strategy=0.25)),\n",
       "                ('dtc',\n",
       "                 DecisionTreeClassifier(min_samples_leaf=10, random_state=42))])"
      ]
     },
     "execution_count": 77,
     "metadata": {},
     "output_type": "execute_result"
    }
   ],
   "source": [
    "# production model\n",
    "final_model.fit(X,y)"
   ]
  }
 ],
 "metadata": {
  "kernelspec": {
   "display_name": "learn-env",
   "language": "python",
   "name": "learn-env"
  },
  "language_info": {
   "codemirror_mode": {
    "name": "ipython",
    "version": 3
   },
   "file_extension": ".py",
   "mimetype": "text/x-python",
   "name": "python",
   "nbconvert_exporter": "python",
   "pygments_lexer": "ipython3",
   "version": "3.8.5"
  },
  "toc": {
   "base_numbering": 1,
   "nav_menu": {},
   "number_sections": true,
   "sideBar": true,
   "skip_h1_title": false,
   "title_cell": "Table of Contents",
   "title_sidebar": "Contents",
   "toc_cell": false,
   "toc_position": {},
   "toc_section_display": true,
   "toc_window_display": false
  },
  "varInspector": {
   "cols": {
    "lenName": 16,
    "lenType": 16,
    "lenVar": 40
   },
   "kernels_config": {
    "python": {
     "delete_cmd_postfix": "",
     "delete_cmd_prefix": "del ",
     "library": "var_list.py",
     "varRefreshCmd": "print(var_dic_list())"
    },
    "r": {
     "delete_cmd_postfix": ") ",
     "delete_cmd_prefix": "rm(",
     "library": "var_list.r",
     "varRefreshCmd": "cat(var_dic_list()) "
    }
   },
   "types_to_exclude": [
    "module",
    "function",
    "builtin_function_or_method",
    "instance",
    "_Feature"
   ],
   "window_display": false
  }
 },
 "nbformat": 4,
 "nbformat_minor": 5
}
