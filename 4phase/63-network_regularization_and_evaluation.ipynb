{
 "cells": [
  {
   "cell_type": "markdown",
   "metadata": {
    "slideshow": {
     "slide_type": "slide"
    }
   },
   "source": [
    "# Regularization and Evaluation of Neural Networks"
   ]
  },
  {
   "cell_type": "markdown",
   "metadata": {},
   "source": [
    "<a href=\"https://colab.research.google.com/github/flatiron-school/NTL01-DTSC-LIVE-040323/blob/main/4phase/63-network_regularization_and_evaluation.ipynb\" \n",
    "target=\"_parent\"><img src=\"https://colab.research.google.com/assets/colab-badge.svg\" alt=\"Open In Colab\"/></a>"
   ]
  },
  {
   "cell_type": "code",
   "execution_count": 55,
   "metadata": {
    "ExecuteTime": {
     "end_time": "2023-06-13T15:45:53.684123Z",
     "start_time": "2023-06-13T15:45:53.541122Z"
    },
    "scrolled": true
   },
   "outputs": [
    {
     "name": "stdout",
     "output_type": "stream",
     "text": [
      "The autoreload extension is already loaded. To reload it, use:\n",
      "  %reload_ext autoreload\n"
     ]
    }
   ],
   "source": [
    "from sklearn.datasets import load_sample_images\n",
    "from sklearn.datasets import load_digits\n",
    "from sklearn.model_selection import train_test_split, cross_val_score\n",
    "from sklearn.preprocessing import OneHotEncoder\n",
    "from sklearn.metrics import accuracy_score, confusion_matrix\n",
    "import matplotlib.pyplot as plt\n",
    "import matplotlib.image as mpimg\n",
    "import numpy as np\n",
    "import seaborn as sns\n",
    "\n",
    "\n",
    "from tensorflow.keras.models import Sequential\n",
    "from tensorflow.keras.layers import Dense, Dropout\n",
    "from tensorflow.keras.regularizers import l2\n",
    "from tensorflow.keras.optimizers import SGD\n",
    "from tensorflow.keras.wrappers import scikit_learn\n",
    "from tensorflow.keras.callbacks import EarlyStopping\n",
    "from tensorflow.keras.metrics import Precision\n",
    "\n",
    "from scikeras.wrappers import KerasClassifier\n",
    "\n",
    "import os\n",
    "import sys\n",
    "module_path = os.path.abspath(os.path.join(os.pardir, os.pardir))\n",
    "if module_path not in sys.path:\n",
    "    sys.path.append(module_path)\n",
    "    \n",
    "%load_ext autoreload\n",
    "%autoreload 2"
   ]
  },
  {
   "cell_type": "code",
   "execution_count": null,
   "metadata": {},
   "outputs": [],
   "source": [
    "# !pip install scikeras"
   ]
  },
  {
   "cell_type": "code",
   "execution_count": 2,
   "metadata": {
    "ExecuteTime": {
     "end_time": "2023-06-13T15:14:16.188128Z",
     "start_time": "2023-06-13T15:14:15.946127Z"
    }
   },
   "outputs": [
    {
     "name": "stdout",
     "output_type": "stream",
     "text": [
      "Num GPUs Available:  1\n"
     ]
    }
   ],
   "source": [
    "import tensorflow as tf\n",
    "print(\"Num GPUs Available: \", len(tf.config.list_physical_devices('GPU')))"
   ]
  },
  {
   "cell_type": "markdown",
   "metadata": {},
   "source": [
    "## Learning Objectives\n",
    "\n",
    "- use `keras` to code up a neural network model;\n",
    "- explain dropout and early stopping as distinctive forms of regularization in neural networks;\n",
    "- use wrappers inside `keras` to make models that can jibe with `sklearn`."
   ]
  },
  {
   "cell_type": "markdown",
   "metadata": {},
   "source": [
    "### From last time"
   ]
  },
  {
   "cell_type": "code",
   "execution_count": 3,
   "metadata": {
    "ExecuteTime": {
     "end_time": "2023-06-13T15:14:23.333126Z",
     "start_time": "2023-06-13T15:14:23.117128Z"
    }
   },
   "outputs": [],
   "source": [
    "digits = load_digits()\n",
    "X = digits.data.astype('float32')\n",
    "y = digits.target.astype('float32')\n",
    "\n",
    "y_binary = y % 2"
   ]
  },
  {
   "cell_type": "code",
   "execution_count": 4,
   "metadata": {
    "ExecuteTime": {
     "end_time": "2023-06-13T15:15:31.396127Z",
     "start_time": "2023-06-13T15:14:38.180128Z"
    },
    "scrolled": false
   },
   "outputs": [
    {
     "name": "stdout",
     "output_type": "stream",
     "text": [
      "Epoch 1/50\n",
      "180/180 [==============================] - 4s 5ms/step - loss: 0.6288 - accuracy: 0.6962\n",
      "Epoch 2/50\n",
      "180/180 [==============================] - 1s 5ms/step - loss: 0.3106 - accuracy: 0.8642: 0s - loss: 0\n",
      "Epoch 3/50\n",
      "180/180 [==============================] - 1s 6ms/step - loss: 0.2264 - accuracy: 0.8943\n",
      "Epoch 4/50\n",
      "180/180 [==============================] - 1s 5ms/step - loss: 0.1801 - accuracy: 0.9204\n",
      "Epoch 5/50\n",
      "180/180 [==============================] - 1s 5ms/step - loss: 0.1466 - accuracy: 0.9377\n",
      "Epoch 6/50\n",
      "180/180 [==============================] - 1s 5ms/step - loss: 0.1267 - accuracy: 0.9449\n",
      "Epoch 7/50\n",
      "180/180 [==============================] - 1s 5ms/step - loss: 0.1096 - accuracy: 0.9544\n",
      "Epoch 8/50\n",
      "180/180 [==============================] - 1s 5ms/step - loss: 0.0940 - accuracy: 0.9605\n",
      "Epoch 9/50\n",
      "180/180 [==============================] - 1s 5ms/step - loss: 0.0795 - accuracy: 0.9610: 0s - loss: 0\n",
      "Epoch 10/50\n",
      "180/180 [==============================] - 1s 5ms/step - loss: 0.0746 - accuracy: 0.9699: 0s - loss: 0.0722 - accura\n",
      "Epoch 11/50\n",
      "180/180 [==============================] - 1s 5ms/step - loss: 0.0706 - accuracy: 0.9705\n",
      "Epoch 12/50\n",
      "180/180 [==============================] - 1s 5ms/step - loss: 0.0593 - accuracy: 0.9761\n",
      "Epoch 13/50\n",
      "180/180 [==============================] - 1s 5ms/step - loss: 0.0541 - accuracy: 0.9794\n",
      "Epoch 14/50\n",
      "180/180 [==============================] - 1s 4ms/step - loss: 0.0506 - accuracy: 0.9822\n",
      "Epoch 15/50\n",
      "180/180 [==============================] - 1s 5ms/step - loss: 0.0455 - accuracy: 0.9816: 0s - loss: 0.0475 - accuracy\n",
      "Epoch 16/50\n",
      "180/180 [==============================] - 1s 5ms/step - loss: 0.0424 - accuracy: 0.9789\n",
      "Epoch 17/50\n",
      "180/180 [==============================] - 1s 7ms/step - loss: 0.0377 - accuracy: 0.9855\n",
      "Epoch 18/50\n",
      "180/180 [==============================] - 1s 7ms/step - loss: 0.0364 - accuracy: 0.9844: 1s - loss: 0.0147 - accuracy: 0. - ETA: \n",
      "Epoch 19/50\n",
      "180/180 [==============================] - 1s 5ms/step - loss: 0.0335 - accuracy: 0.9861\n",
      "Epoch 20/50\n",
      "180/180 [==============================] - 1s 4ms/step - loss: 0.0312 - accuracy: 0.9889\n",
      "Epoch 21/50\n",
      "180/180 [==============================] - 1s 5ms/step - loss: 0.0281 - accuracy: 0.9905: 0s - loss: 0.034\n",
      "Epoch 22/50\n",
      "180/180 [==============================] - 1s 5ms/step - loss: 0.0258 - accuracy: 0.9900\n",
      "Epoch 23/50\n",
      "180/180 [==============================] - 1s 5ms/step - loss: 0.0236 - accuracy: 0.9894\n",
      "Epoch 24/50\n",
      "180/180 [==============================] - 1s 5ms/step - loss: 0.0253 - accuracy: 0.9889\n",
      "Epoch 25/50\n",
      "180/180 [==============================] - 1s 5ms/step - loss: 0.0211 - accuracy: 0.9917\n",
      "Epoch 26/50\n",
      "180/180 [==============================] - 1s 5ms/step - loss: 0.0177 - accuracy: 0.9933\n",
      "Epoch 27/50\n",
      "180/180 [==============================] - 1s 5ms/step - loss: 0.0182 - accuracy: 0.9939\n",
      "Epoch 28/50\n",
      "180/180 [==============================] - 1s 5ms/step - loss: 0.0189 - accuracy: 0.9911\n",
      "Epoch 29/50\n",
      "180/180 [==============================] - 1s 5ms/step - loss: 0.0132 - accuracy: 0.9950: 0s - loss: 0.0153 - accu\n",
      "Epoch 30/50\n",
      "180/180 [==============================] - 1s 5ms/step - loss: 0.0135 - accuracy: 0.9955: 0s - loss:\n",
      "Epoch 31/50\n",
      "180/180 [==============================] - 1s 5ms/step - loss: 0.0146 - accuracy: 0.9928\n",
      "Epoch 32/50\n",
      "180/180 [==============================] - 1s 5ms/step - loss: 0.0125 - accuracy: 0.9955\n",
      "Epoch 33/50\n",
      "180/180 [==============================] - 1s 5ms/step - loss: 0.0119 - accuracy: 0.9955: 0s - los\n",
      "Epoch 34/50\n",
      "180/180 [==============================] - 1s 5ms/step - loss: 0.0105 - accuracy: 0.9955\n",
      "Epoch 35/50\n",
      "180/180 [==============================] - 1s 5ms/step - loss: 0.0121 - accuracy: 0.9961\n",
      "Epoch 36/50\n",
      "180/180 [==============================] - 1s 5ms/step - loss: 0.0086 - accuracy: 0.9961\n",
      "Epoch 37/50\n",
      "180/180 [==============================] - 1s 5ms/step - loss: 0.0101 - accuracy: 0.9955\n",
      "Epoch 38/50\n",
      "180/180 [==============================] - 1s 5ms/step - loss: 0.0090 - accuracy: 0.9944\n",
      "Epoch 39/50\n",
      "180/180 [==============================] - 1s 5ms/step - loss: 0.0079 - accuracy: 0.9972: 0s - loss: 0.0090 - ac\n",
      "Epoch 40/50\n",
      "180/180 [==============================] - 1s 5ms/step - loss: 0.0066 - accuracy: 0.9972\n",
      "Epoch 41/50\n",
      "180/180 [==============================] - 1s 5ms/step - loss: 0.0084 - accuracy: 0.9967\n",
      "Epoch 42/50\n",
      "180/180 [==============================] - 1s 5ms/step - loss: 0.0046 - accuracy: 0.9989 ETA: 0s - loss:\n",
      "Epoch 43/50\n",
      "180/180 [==============================] - 1s 5ms/step - loss: 0.0060 - accuracy: 0.9978\n",
      "Epoch 44/50\n",
      "180/180 [==============================] - 1s 5ms/step - loss: 0.0037 - accuracy: 0.9989\n",
      "Epoch 45/50\n",
      "180/180 [==============================] - 1s 5ms/step - loss: 0.0045 - accuracy: 0.9989: 0s - loss: 0.0043 -  - ETA: 0s - loss: 0.0048 - accuracy: 0.\n",
      "Epoch 46/50\n",
      "180/180 [==============================] - 1s 5ms/step - loss: 0.0045 - accuracy: 0.9989\n",
      "Epoch 47/50\n",
      "180/180 [==============================] - 1s 5ms/step - loss: 0.0032 - accuracy: 0.9994\n",
      "Epoch 48/50\n",
      "180/180 [==============================] - 1s 5ms/step - loss: 0.0038 - accuracy: 0.9989\n",
      "Epoch 49/50\n",
      "180/180 [==============================] - 1s 5ms/step - loss: 0.0046 - accuracy: 0.9978: 0s - loss: 0.0048 - accura\n",
      "Epoch 50/50\n",
      "180/180 [==============================] - 1s 5ms/step - loss: 0.0021 - accuracy: 0.9994\n"
     ]
    },
    {
     "data": {
      "text/plain": [
       "<keras.callbacks.History at 0x17988c4f820>"
      ]
     },
     "execution_count": 4,
     "metadata": {},
     "output_type": "execute_result"
    }
   ],
   "source": [
    "model = Sequential()\n",
    "model.add(Dense(12, activation='relu', input_dim=64))\n",
    "model.add(Dense(8, activation='relu'))\n",
    "model.add(Dense(1, activation='sigmoid'))\n",
    "\n",
    "model.compile(optimizer='rmsprop',\n",
    "              loss='binary_crossentropy',\n",
    "              metrics=['accuracy'])\n",
    "\n",
    "model.fit(X, y_binary, epochs=50, batch_size=10)"
   ]
  },
  {
   "cell_type": "markdown",
   "metadata": {},
   "source": [
    "### Things to know:\n",
    "\n",
    "- The data and labels in `fit()` need to be numpy arrays, not `pandas` dfs.\n",
    "- Scaling your data will have a large impact on your model.\n",
    "   > For our traditional input features, we would use a scaler object. For images, as long as the minimum value is 0, we can simply divide through by the maximum pixel intensity."
   ]
  },
  {
   "cell_type": "markdown",
   "metadata": {},
   "source": [
    "#### Getting data ready for modeling\n",
    "**Preprocessing**:\n",
    "\n",
    "- use train_test_split to create X_train, y_train, X_test, and y_test\n",
    "- Split training data into pure_train and validation sets.\n",
    "- Scale the pixel intensity to a value between 0 and 1."
   ]
  },
  {
   "cell_type": "markdown",
   "metadata": {},
   "source": [
    "Scaling our input variables will help speed up our neural network.\n",
    "\n",
    "Since our minimum intensity is 0, we can normalize the inputs by dividing each value by the max value (16)."
   ]
  },
  {
   "cell_type": "code",
   "execution_count": 5,
   "metadata": {
    "ExecuteTime": {
     "end_time": "2023-06-13T15:16:11.543128Z",
     "start_time": "2023-06-13T15:16:11.388126Z"
    }
   },
   "outputs": [],
   "source": [
    "X_train, X_test, y_train, y_test =\\\n",
    "    train_test_split(X, y_binary, random_state=42, test_size=0.2)\n",
    "\n",
    "X_pure_train, X_val, y_pure_train, y_val =\\\n",
    "    train_test_split(X_train, y_train, random_state=42, test_size=0.2)\n",
    "\n",
    "X_pure_train, X_val, X_test = X_pure_train/16, X_val/16, X_test/16"
   ]
  },
  {
   "cell_type": "markdown",
   "metadata": {},
   "source": [
    "For activation, let's start with the familiar sigmoid function, and see how it performs."
   ]
  },
  {
   "cell_type": "code",
   "execution_count": 6,
   "metadata": {
    "ExecuteTime": {
     "end_time": "2023-06-13T15:16:50.857131Z",
     "start_time": "2023-06-13T15:16:49.625127Z"
    }
   },
   "outputs": [
    {
     "name": "stdout",
     "output_type": "stream",
     "text": [
      "Epoch 1/10\n",
      "12/12 [==============================] - 0s 5ms/step - loss: 0.6964 - accuracy: 0.4961\n",
      "Epoch 2/10\n",
      "12/12 [==============================] - 0s 5ms/step - loss: 0.6960 - accuracy: 0.4961\n",
      "Epoch 3/10\n",
      "12/12 [==============================] - 0s 5ms/step - loss: 0.6956 - accuracy: 0.4961\n",
      "Epoch 4/10\n",
      "12/12 [==============================] - 0s 5ms/step - loss: 0.6953 - accuracy: 0.4978\n",
      "Epoch 5/10\n",
      "12/12 [==============================] - 0s 4ms/step - loss: 0.6951 - accuracy: 0.5013\n",
      "Epoch 6/10\n",
      "12/12 [==============================] - 0s 4ms/step - loss: 0.6949 - accuracy: 0.5013\n",
      "Epoch 7/10\n",
      "12/12 [==============================] - 0s 6ms/step - loss: 0.6947 - accuracy: 0.5048\n",
      "Epoch 8/10\n",
      "12/12 [==============================] - 0s 5ms/step - loss: 0.6945 - accuracy: 0.5083\n",
      "Epoch 9/10\n",
      "12/12 [==============================] - 0s 6ms/step - loss: 0.6943 - accuracy: 0.4900\n",
      "Epoch 10/10\n",
      "12/12 [==============================] - 0s 6ms/step - loss: 0.6942 - accuracy: 0.4900\n"
     ]
    }
   ],
   "source": [
    "model = Sequential()\n",
    "# We will start with our trusty sigmoid function.\n",
    "# What does input dimension correspond to?\n",
    "model.add(Dense(12, activation='sigmoid', input_dim=64))\n",
    "model.add(Dense(8, activation='sigmoid'))\n",
    "model.add(Dense(1, activation='sigmoid'))\n",
    "\n",
    "model.compile(optimizer='SGD' ,\n",
    "              # We use binary_crossentropy for a binary loss function\n",
    "              loss='binary_crossentropy',\n",
    "              metrics=['accuracy'])\n",
    "\n",
    "# Assign the variable history to store the results,\n",
    "# and set verbose=1 so we can see the output. To see\n",
    "# only the metrics at the end of each epoch, set verbose=2.\n",
    "results = model.fit(X_pure_train, y_pure_train, epochs=10, batch_size=100, verbose=1)"
   ]
  },
  {
   "cell_type": "markdown",
   "metadata": {},
   "source": [
    "We can access the history of our model via `results.history`.\n",
    "Use __dict__ to take a tour."
   ]
  },
  {
   "cell_type": "code",
   "execution_count": 7,
   "metadata": {
    "ExecuteTime": {
     "end_time": "2023-06-13T15:17:00.319128Z",
     "start_time": "2023-06-13T15:17:00.141127Z"
    }
   },
   "outputs": [
    {
     "data": {
      "text/plain": [
       "{'validation_data': None,\n",
       " 'model': <keras.engine.sequential.Sequential at 0x179c21bd0a0>,\n",
       " '_chief_worker_only': None,\n",
       " '_supports_tf_logs': False,\n",
       " 'history': {'loss': [0.6964426636695862,\n",
       "   0.6959898471832275,\n",
       "   0.6956378221511841,\n",
       "   0.6953132152557373,\n",
       "   0.6950796246528625,\n",
       "   0.6948687434196472,\n",
       "   0.6946531534194946,\n",
       "   0.6945031881332397,\n",
       "   0.694327175617218,\n",
       "   0.694161057472229],\n",
       "  'accuracy': [0.4960835576057434,\n",
       "   0.4960835576057434,\n",
       "   0.4960835576057434,\n",
       "   0.49782419204711914,\n",
       "   0.5013054609298706,\n",
       "   0.5013054609298706,\n",
       "   0.5047867894172668,\n",
       "   0.5082680583000183,\n",
       "   0.48999130725860596,\n",
       "   0.48999130725860596]},\n",
       " 'params': {'verbose': 1, 'epochs': 10, 'steps': 12},\n",
       " 'epoch': [0, 1, 2, 3, 4, 5, 6, 7, 8, 9]}"
      ]
     },
     "execution_count": 7,
     "metadata": {},
     "output_type": "execute_result"
    }
   ],
   "source": [
    "results.__dict__"
   ]
  },
  {
   "cell_type": "code",
   "execution_count": 8,
   "metadata": {
    "ExecuteTime": {
     "end_time": "2023-06-13T15:17:18.308125Z",
     "start_time": "2023-06-13T15:17:17.899128Z"
    }
   },
   "outputs": [
    {
     "data": {
      "image/png": "[encoded data removed]",
      "text/plain": [
       "<Figure size 720x360 with 2 Axes>"
      ]
     },
     "metadata": {
      "needs_background": "light"
     },
     "output_type": "display_data"
    }
   ],
   "source": [
    "sigmoid_loss = results.history['loss']\n",
    "sigmoid_accuracy = results.history['accuracy']\n",
    "\n",
    "fig, (ax1, ax2) = plt.subplots(1, 2, figsize=(10, 5))\n",
    "sns.lineplot(x=results.epoch, y=sigmoid_loss, ax=ax1, label='loss')\n",
    "sns.lineplot(x=results.epoch, y=sigmoid_accuracy, ax=ax2, label='accuracy');"
   ]
  },
  {
   "cell_type": "markdown",
   "metadata": {},
   "source": [
    "We have two plots above both relating to the quality of our model.  The left-hand plot is our loss. It uses the probabilities associated with our predictions to judge how well our prediction fits reality. We want it to decrease as far as possible.\n",
    "\n",
    "The accuracy judges how well the predictions are after applying the threshold at the output layer.  We want accuracy to increase."
   ]
  },
  {
   "cell_type": "markdown",
   "metadata": {},
   "source": [
    "If we look at our loss, it is still decreasing. That is a signal that our model is **still learning**. If our model is still learning, we can allow it to get better by turning a few dials.\n",
    "\n",
    "Let's:\n",
    "- increase the number of epochs;\n",
    "- change sigmoid activation in the hidden layers to ReLU; and\n",
    "- decrease the batch size."
   ]
  },
  {
   "cell_type": "code",
   "execution_count": 9,
   "metadata": {
    "ExecuteTime": {
     "end_time": "2023-06-13T15:18:20.345130Z",
     "start_time": "2023-06-13T15:18:20.181127Z"
    }
   },
   "outputs": [
    {
     "data": {
      "text/plain": [
       "1149"
      ]
     },
     "execution_count": 9,
     "metadata": {},
     "output_type": "execute_result"
    }
   ],
   "source": [
    "X_pure_train.shape[0]"
   ]
  },
  {
   "cell_type": "code",
   "execution_count": 10,
   "metadata": {
    "ExecuteTime": {
     "end_time": "2023-06-13T15:18:40.753126Z",
     "start_time": "2023-06-13T15:18:22.765128Z"
    }
   },
   "outputs": [
    {
     "name": "stdout",
     "output_type": "stream",
     "text": [
      "Epoch 1/100\n",
      "36/36 [==============================] - 1s 5ms/step - loss: 0.7167 - accuracy: 0.5004\n",
      "Epoch 2/100\n",
      "36/36 [==============================] - 0s 4ms/step - loss: 0.6880 - accuracy: 0.5335\n",
      "Epoch 3/100\n",
      "36/36 [==============================] - 0s 5ms/step - loss: 0.6706 - accuracy: 0.5744\n",
      "Epoch 4/100\n",
      "36/36 [==============================] - 0s 4ms/step - loss: 0.6557 - accuracy: 0.6171\n",
      "Epoch 5/100\n",
      "36/36 [==============================] - 0s 4ms/step - loss: 0.6415 - accuracy: 0.6519\n",
      "Epoch 6/100\n",
      "36/36 [==============================] - 0s 4ms/step - loss: 0.6265 - accuracy: 0.6797\n",
      "Epoch 7/100\n",
      "36/36 [==============================] - 0s 4ms/step - loss: 0.6124 - accuracy: 0.6971\n",
      "Epoch 8/100\n",
      "36/36 [==============================] - 0s 6ms/step - loss: 0.5987 - accuracy: 0.7267\n",
      "Epoch 9/100\n",
      "36/36 [==============================] - 0s 4ms/step - loss: 0.5845 - accuracy: 0.7476\n",
      "Epoch 10/100\n",
      "36/36 [==============================] - 0s 4ms/step - loss: 0.5690 - accuracy: 0.7641\n",
      "Epoch 11/100\n",
      "36/36 [==============================] - 0s 4ms/step - loss: 0.5516 - accuracy: 0.7859\n",
      "Epoch 12/100\n",
      "36/36 [==============================] - 0s 4ms/step - loss: 0.5318 - accuracy: 0.7963\n",
      "Epoch 13/100\n",
      "36/36 [==============================] - 0s 4ms/step - loss: 0.5123 - accuracy: 0.8146\n",
      "Epoch 14/100\n",
      "36/36 [==============================] - 0s 4ms/step - loss: 0.4916 - accuracy: 0.8329\n",
      "Epoch 15/100\n",
      "36/36 [==============================] - 0s 5ms/step - loss: 0.4715 - accuracy: 0.8372\n",
      "Epoch 16/100\n",
      "36/36 [==============================] - 0s 5ms/step - loss: 0.4512 - accuracy: 0.8451\n",
      "Epoch 17/100\n",
      "36/36 [==============================] - 0s 4ms/step - loss: 0.4316 - accuracy: 0.8520\n",
      "Epoch 18/100\n",
      "36/36 [==============================] - 0s 5ms/step - loss: 0.4131 - accuracy: 0.8573\n",
      "Epoch 19/100\n",
      "36/36 [==============================] - 0s 5ms/step - loss: 0.3959 - accuracy: 0.8642\n",
      "Epoch 20/100\n",
      "36/36 [==============================] - 0s 5ms/step - loss: 0.3802 - accuracy: 0.8677\n",
      "Epoch 21/100\n",
      "36/36 [==============================] - ETA: 0s - loss: 0.3716 - accuracy: 0.86 - 0s 5ms/step - loss: 0.3660 - accuracy: 0.8686\n",
      "Epoch 22/100\n",
      "36/36 [==============================] - 0s 6ms/step - loss: 0.3533 - accuracy: 0.8764\n",
      "Epoch 23/100\n",
      "36/36 [==============================] - 0s 5ms/step - loss: 0.3416 - accuracy: 0.8782\n",
      "Epoch 24/100\n",
      "36/36 [==============================] - 0s 5ms/step - loss: 0.3320 - accuracy: 0.8816\n",
      "Epoch 25/100\n",
      "36/36 [==============================] - 0s 4ms/step - loss: 0.3233 - accuracy: 0.8825\n",
      "Epoch 26/100\n",
      "36/36 [==============================] - 0s 4ms/step - loss: 0.3145 - accuracy: 0.8851\n",
      "Epoch 27/100\n",
      "36/36 [==============================] - 0s 4ms/step - loss: 0.3084 - accuracy: 0.8851\n",
      "Epoch 28/100\n",
      "36/36 [==============================] - 0s 4ms/step - loss: 0.3009 - accuracy: 0.8851\n",
      "Epoch 29/100\n",
      "36/36 [==============================] - 0s 4ms/step - loss: 0.2946 - accuracy: 0.8895\n",
      "Epoch 30/100\n",
      "36/36 [==============================] - 0s 6ms/step - loss: 0.2899 - accuracy: 0.8903\n",
      "Epoch 31/100\n",
      "36/36 [==============================] - 0s 5ms/step - loss: 0.2848 - accuracy: 0.8930\n",
      "Epoch 32/100\n",
      "36/36 [==============================] - 0s 4ms/step - loss: 0.2801 - accuracy: 0.8947\n",
      "Epoch 33/100\n",
      "36/36 [==============================] - 0s 4ms/step - loss: 0.2755 - accuracy: 0.8956\n",
      "Epoch 34/100\n",
      "36/36 [==============================] - 0s 4ms/step - loss: 0.2699 - accuracy: 0.8964\n",
      "Epoch 35/100\n",
      "36/36 [==============================] - 0s 4ms/step - loss: 0.2665 - accuracy: 0.8956\n",
      "Epoch 36/100\n",
      "36/36 [==============================] - 0s 4ms/step - loss: 0.2617 - accuracy: 0.8956\n",
      "Epoch 37/100\n",
      "36/36 [==============================] - 0s 4ms/step - loss: 0.2596 - accuracy: 0.8964\n",
      "Epoch 38/100\n",
      "36/36 [==============================] - 0s 4ms/step - loss: 0.2560 - accuracy: 0.8982\n",
      "Epoch 39/100\n",
      "36/36 [==============================] - 0s 5ms/step - loss: 0.2538 - accuracy: 0.8973\n",
      "Epoch 40/100\n",
      "36/36 [==============================] - 0s 4ms/step - loss: 0.2510 - accuracy: 0.8973\n",
      "Epoch 41/100\n",
      "36/36 [==============================] - 0s 5ms/step - loss: 0.2486 - accuracy: 0.8999\n",
      "Epoch 42/100\n",
      "36/36 [==============================] - 0s 4ms/step - loss: 0.2449 - accuracy: 0.9017\n",
      "Epoch 43/100\n",
      "36/36 [==============================] - 0s 4ms/step - loss: 0.2430 - accuracy: 0.8990\n",
      "Epoch 44/100\n",
      "36/36 [==============================] - 0s 5ms/step - loss: 0.2396 - accuracy: 0.9008\n",
      "Epoch 45/100\n",
      "36/36 [==============================] - 0s 5ms/step - loss: 0.2372 - accuracy: 0.9025\n",
      "Epoch 46/100\n",
      "36/36 [==============================] - 0s 8ms/step - loss: 0.2351 - accuracy: 0.9043\n",
      "Epoch 47/100\n",
      "36/36 [==============================] - 0s 6ms/step - loss: 0.2346 - accuracy: 0.9017\n",
      "Epoch 48/100\n",
      "36/36 [==============================] - 0s 5ms/step - loss: 0.2303 - accuracy: 0.9069\n",
      "Epoch 49/100\n",
      "36/36 [==============================] - 0s 5ms/step - loss: 0.2274 - accuracy: 0.9017\n",
      "Epoch 50/100\n",
      "36/36 [==============================] - 0s 7ms/step - loss: 0.2266 - accuracy: 0.9095\n",
      "Epoch 51/100\n",
      "36/36 [==============================] - 0s 7ms/step - loss: 0.2254 - accuracy: 0.9043\n",
      "Epoch 52/100\n",
      "36/36 [==============================] - 0s 6ms/step - loss: 0.2231 - accuracy: 0.9138\n",
      "Epoch 53/100\n",
      "36/36 [==============================] - 0s 6ms/step - loss: 0.2220 - accuracy: 0.9112\n",
      "Epoch 54/100\n",
      "36/36 [==============================] - 0s 5ms/step - loss: 0.2183 - accuracy: 0.9060\n",
      "Epoch 55/100\n",
      "36/36 [==============================] - 0s 5ms/step - loss: 0.2177 - accuracy: 0.9138\n",
      "Epoch 56/100\n",
      "36/36 [==============================] - 0s 5ms/step - loss: 0.2160 - accuracy: 0.9147\n",
      "Epoch 57/100\n",
      "36/36 [==============================] - 0s 6ms/step - loss: 0.2147 - accuracy: 0.9130\n",
      "Epoch 58/100\n",
      "36/36 [==============================] - 0s 5ms/step - loss: 0.2124 - accuracy: 0.9147\n",
      "Epoch 59/100\n",
      "36/36 [==============================] - 0s 4ms/step - loss: 0.2106 - accuracy: 0.9147\n",
      "Epoch 60/100\n",
      "36/36 [==============================] - 0s 5ms/step - loss: 0.2085 - accuracy: 0.9147\n",
      "Epoch 61/100\n",
      "36/36 [==============================] - 0s 5ms/step - loss: 0.2081 - accuracy: 0.9147\n",
      "Epoch 62/100\n",
      "36/36 [==============================] - 0s 5ms/step - loss: 0.2061 - accuracy: 0.9182\n",
      "Epoch 63/100\n",
      "36/36 [==============================] - 0s 6ms/step - loss: 0.2051 - accuracy: 0.9138\n",
      "Epoch 64/100\n",
      "36/36 [==============================] - 0s 7ms/step - loss: 0.2031 - accuracy: 0.9147\n",
      "Epoch 65/100\n",
      "36/36 [==============================] - 0s 5ms/step - loss: 0.2010 - accuracy: 0.9182\n",
      "Epoch 66/100\n",
      "36/36 [==============================] - 0s 5ms/step - loss: 0.2009 - accuracy: 0.9173\n",
      "Epoch 67/100\n",
      "36/36 [==============================] - 0s 5ms/step - loss: 0.1984 - accuracy: 0.9173\n",
      "Epoch 68/100\n",
      "36/36 [==============================] - 0s 6ms/step - loss: 0.1969 - accuracy: 0.9191\n",
      "Epoch 69/100\n",
      "36/36 [==============================] - 0s 5ms/step - loss: 0.1972 - accuracy: 0.9173\n",
      "Epoch 70/100\n",
      "36/36 [==============================] - 0s 6ms/step - loss: 0.1946 - accuracy: 0.9199\n",
      "Epoch 71/100\n",
      "36/36 [==============================] - 0s 4ms/step - loss: 0.1932 - accuracy: 0.9225\n",
      "Epoch 72/100\n",
      "36/36 [==============================] - 0s 4ms/step - loss: 0.1917 - accuracy: 0.9164\n",
      "Epoch 73/100\n",
      "36/36 [==============================] - 0s 5ms/step - loss: 0.1910 - accuracy: 0.9147\n",
      "Epoch 74/100\n",
      "36/36 [==============================] - 0s 4ms/step - loss: 0.1891 - accuracy: 0.9173\n",
      "Epoch 75/100\n",
      "36/36 [==============================] - 0s 6ms/step - loss: 0.1870 - accuracy: 0.9199\n",
      "Epoch 76/100\n",
      "36/36 [==============================] - 0s 4ms/step - loss: 0.1860 - accuracy: 0.9173\n",
      "Epoch 77/100\n",
      "36/36 [==============================] - 0s 6ms/step - loss: 0.1848 - accuracy: 0.9217\n",
      "Epoch 78/100\n",
      "36/36 [==============================] - 0s 4ms/step - loss: 0.1836 - accuracy: 0.9199\n",
      "Epoch 79/100\n",
      "36/36 [==============================] - 0s 4ms/step - loss: 0.1826 - accuracy: 0.9199\n",
      "Epoch 80/100\n",
      "36/36 [==============================] - 0s 4ms/step - loss: 0.1808 - accuracy: 0.9208\n",
      "Epoch 81/100\n",
      "36/36 [==============================] - 0s 4ms/step - loss: 0.1798 - accuracy: 0.9234\n",
      "Epoch 82/100\n"
     ]
    },
    {
     "name": "stdout",
     "output_type": "stream",
     "text": [
      "36/36 [==============================] - 0s 5ms/step - loss: 0.1789 - accuracy: 0.9234\n",
      "Epoch 83/100\n",
      "36/36 [==============================] - 0s 4ms/step - loss: 0.1768 - accuracy: 0.9234\n",
      "Epoch 84/100\n",
      "36/36 [==============================] - 0s 4ms/step - loss: 0.1748 - accuracy: 0.9208\n",
      "Epoch 85/100\n",
      "36/36 [==============================] - 0s 5ms/step - loss: 0.1734 - accuracy: 0.9225\n",
      "Epoch 86/100\n",
      "36/36 [==============================] - 0s 4ms/step - loss: 0.1732 - accuracy: 0.9208\n",
      "Epoch 87/100\n",
      "36/36 [==============================] - 0s 4ms/step - loss: 0.1711 - accuracy: 0.9252\n",
      "Epoch 88/100\n",
      "36/36 [==============================] - 0s 4ms/step - loss: 0.1703 - accuracy: 0.9269\n",
      "Epoch 89/100\n",
      "36/36 [==============================] - 0s 4ms/step - loss: 0.1690 - accuracy: 0.9225\n",
      "Epoch 90/100\n",
      "36/36 [==============================] - 0s 4ms/step - loss: 0.1678 - accuracy: 0.9286\n",
      "Epoch 91/100\n",
      "36/36 [==============================] - 0s 4ms/step - loss: 0.1659 - accuracy: 0.9252\n",
      "Epoch 92/100\n",
      "36/36 [==============================] - 0s 5ms/step - loss: 0.1654 - accuracy: 0.9260\n",
      "Epoch 93/100\n",
      "36/36 [==============================] - 0s 4ms/step - loss: 0.1640 - accuracy: 0.9286\n",
      "Epoch 94/100\n",
      "36/36 [==============================] - 0s 4ms/step - loss: 0.1623 - accuracy: 0.9278\n",
      "Epoch 95/100\n",
      "36/36 [==============================] - 0s 4ms/step - loss: 0.1622 - accuracy: 0.9295\n",
      "Epoch 96/100\n",
      "36/36 [==============================] - 0s 4ms/step - loss: 0.1600 - accuracy: 0.9330\n",
      "Epoch 97/100\n",
      "36/36 [==============================] - 0s 4ms/step - loss: 0.1590 - accuracy: 0.9278\n",
      "Epoch 98/100\n",
      "36/36 [==============================] - 0s 5ms/step - loss: 0.1573 - accuracy: 0.9347\n",
      "Epoch 99/100\n",
      "36/36 [==============================] - 0s 5ms/step - loss: 0.1566 - accuracy: 0.9286\n",
      "Epoch 100/100\n",
      "36/36 [==============================] - 0s 5ms/step - loss: 0.1548 - accuracy: 0.9339\n"
     ]
    }
   ],
   "source": [
    "model = Sequential()\n",
    "model.add(Dense(12, activation='relu', input_dim=64))\n",
    "model.add(Dense(8, activation='relu'))\n",
    "model.add(Dense(1, activation='sigmoid'))\n",
    "\n",
    "model.compile(optimizer='SGD',\n",
    "              loss='binary_crossentropy',\n",
    "              metrics=['accuracy'])\n",
    "\n",
    "# Assign the variable history to store the results,\n",
    "# and set verbose=1 so we can see the output.\n",
    "results = model.fit(X_pure_train, y_pure_train, epochs=100, batch_size=None, verbose=1)"
   ]
  },
  {
   "cell_type": "code",
   "execution_count": 11,
   "metadata": {
    "ExecuteTime": {
     "end_time": "2023-06-13T15:18:45.397127Z",
     "start_time": "2023-06-13T15:18:45.044126Z"
    }
   },
   "outputs": [
    {
     "data": {
      "image/png": "[encoded data removed]",
      "text/plain": [
       "<Figure size 720x360 with 2 Axes>"
      ]
     },
     "metadata": {
      "needs_background": "light"
     },
     "output_type": "display_data"
    }
   ],
   "source": [
    "sigmoid_loss = results.history['loss']\n",
    "sigmoid_accuracy = results.history['accuracy']\n",
    "\n",
    "fig, (ax1, ax2) = plt.subplots(1, 2, figsize=(10, 5))\n",
    "sns.lineplot(x=results.epoch, y=sigmoid_loss, ax=ax1, label='loss')\n",
    "sns.lineplot(x=results.epoch, y=sigmoid_accuracy, ax=ax2, label='accuracy');"
   ]
  },
  {
   "cell_type": "markdown",
   "metadata": {},
   "source": [
    "If we increase the learning rate to a very high number, we see that our model overshoots the minimum, and starts bouncing all around."
   ]
  },
  {
   "cell_type": "code",
   "execution_count": 13,
   "metadata": {
    "ExecuteTime": {
     "end_time": "2023-06-13T15:21:02.184128Z",
     "start_time": "2023-06-13T15:20:46.151127Z"
    }
   },
   "outputs": [
    {
     "name": "stdout",
     "output_type": "stream",
     "text": [
      "Epoch 1/30\n",
      "115/115 [==============================] - 1s 4ms/step - loss: 50.3543 - accuracy: 0.4970\n",
      "Epoch 2/30\n",
      "115/115 [==============================] - 0s 4ms/step - loss: 1.0363 - accuracy: 0.4935\n",
      "Epoch 3/30\n",
      "115/115 [==============================] - 0s 4ms/step - loss: 1.0368 - accuracy: 0.4970\n",
      "Epoch 4/30\n",
      "115/115 [==============================] - 0s 4ms/step - loss: 1.0512 - accuracy: 0.4813\n",
      "Epoch 5/30\n",
      "115/115 [==============================] - 0s 4ms/step - loss: 0.9706 - accuracy: 0.5187\n",
      "Epoch 6/30\n",
      "115/115 [==============================] - 0s 4ms/step - loss: 0.9667 - accuracy: 0.5004\n",
      "Epoch 7/30\n",
      "115/115 [==============================] - 0s 4ms/step - loss: 0.9636 - accuracy: 0.4952\n",
      "Epoch 8/30\n",
      "115/115 [==============================] - 0s 4ms/step - loss: 1.0755 - accuracy: 0.4700\n",
      "Epoch 9/30\n",
      "115/115 [==============================] - 0s 4ms/step - loss: 1.0294 - accuracy: 0.5013\n",
      "Epoch 10/30\n",
      "115/115 [==============================] - 0s 4ms/step - loss: 1.0534 - accuracy: 0.4804\n",
      "Epoch 11/30\n",
      "115/115 [==============================] - ETA: 0s - loss: 1.0593 - accuracy: 0.49 - 0s 4ms/step - loss: 1.0425 - accuracy: 0.4961\n",
      "Epoch 12/30\n",
      "115/115 [==============================] - 1s 5ms/step - loss: 0.9213 - accuracy: 0.5257\n",
      "Epoch 13/30\n",
      "115/115 [==============================] - 0s 4ms/step - loss: 1.0075 - accuracy: 0.4883: 0s - loss: 1.0982 \n",
      "Epoch 14/30\n",
      "115/115 [==============================] - 1s 4ms/step - loss: 1.0501 - accuracy: 0.5022\n",
      "Epoch 15/30\n",
      "115/115 [==============================] - 1s 5ms/step - loss: 0.9415 - accuracy: 0.5144\n",
      "Epoch 16/30\n",
      "115/115 [==============================] - 0s 4ms/step - loss: 0.9284 - accuracy: 0.5013\n",
      "Epoch 17/30\n",
      "115/115 [==============================] - 1s 5ms/step - loss: 1.0499 - accuracy: 0.4865\n",
      "Epoch 18/30\n",
      "115/115 [==============================] - 0s 4ms/step - loss: 0.9698 - accuracy: 0.5344\n",
      "Epoch 19/30\n",
      "115/115 [==============================] - 1s 4ms/step - loss: 0.9965 - accuracy: 0.4926: 0s - loss: 1.0249 \n",
      "Epoch 20/30\n",
      "115/115 [==============================] - 1s 5ms/step - loss: 1.0276 - accuracy: 0.4830\n",
      "Epoch 21/30\n",
      "115/115 [==============================] - 0s 4ms/step - loss: 0.9175 - accuracy: 0.5300\n",
      "Epoch 22/30\n",
      "115/115 [==============================] - 1s 4ms/step - loss: 0.9548 - accuracy: 0.5126: 0s - loss: 0.9532 - accuracy: \n",
      "Epoch 23/30\n",
      "115/115 [==============================] - 0s 4ms/step - loss: 0.9609 - accuracy: 0.5152\n",
      "Epoch 24/30\n",
      "115/115 [==============================] - 0s 4ms/step - loss: 1.1427 - accuracy: 0.4691\n",
      "Epoch 25/30\n",
      "115/115 [==============================] - 0s 4ms/step - loss: 0.9685 - accuracy: 0.5004\n",
      "Epoch 26/30\n",
      "115/115 [==============================] - 0s 4ms/step - loss: 1.0523 - accuracy: 0.4891\n",
      "Epoch 27/30\n",
      "115/115 [==============================] - 0s 4ms/step - loss: 0.8958 - accuracy: 0.5152\n",
      "Epoch 28/30\n",
      "115/115 [==============================] - 0s 4ms/step - loss: 0.9867 - accuracy: 0.4961\n",
      "Epoch 29/30\n",
      "115/115 [==============================] - 1s 7ms/step - loss: 1.0051 - accuracy: 0.4804: 0s - loss: 1.0125 - accuracy: 0.\n",
      "Epoch 30/30\n",
      "115/115 [==============================] - 1s 7ms/step - loss: 1.0415 - accuracy: 0.4787\n"
     ]
    },
    {
     "data": {
      "image/png": "[encoded data removed]",
      "text/plain": [
       "<Figure size 720x360 with 2 Axes>"
      ]
     },
     "metadata": {
      "needs_background": "light"
     },
     "output_type": "display_data"
    }
   ],
   "source": [
    "model = Sequential()\n",
    "\n",
    "# sgd = SGD(learning_rate=9)\n",
    "model.add(Dense(12, activation='relu', input_dim=64))\n",
    "model.add(Dense(8, activation='relu'))\n",
    "model.add(Dense(1, activation='sigmoid'))\n",
    "\n",
    "model.compile(optimizer=SGD(learning_rate=9),\n",
    "              loss='binary_crossentropy',\n",
    "              metrics=['accuracy'])\n",
    "\n",
    "results = model.fit(X_pure_train, y_pure_train,\n",
    "                    epochs=30, batch_size=10, verbose=1)\n",
    "\n",
    "relu_loss = results.history['loss']\n",
    "relu_accuracy = results.history['accuracy']\n",
    "\n",
    "fig, (ax1, ax2) = plt.subplots(1, 2, figsize=(10, 5))\n",
    "sns.lineplot(x=results.epoch, y=relu_loss, ax=ax1, label='loss')\n",
    "sns.lineplot(x=results.epoch, y=relu_accuracy, ax=ax2, label='accuracy');"
   ]
  },
  {
   "cell_type": "markdown",
   "metadata": {},
   "source": [
    "### Exercise\n",
    "\n",
    "We have been looking only at our training set. Let's add in our validation set to the picture. Check the docstring for the `.fit()` method and add in our validation data."
   ]
  },
  {
   "cell_type": "code",
   "execution_count": 14,
   "metadata": {
    "ExecuteTime": {
     "end_time": "2023-06-13T15:22:26.626964Z",
     "start_time": "2023-06-13T15:22:26.436966Z"
    }
   },
   "outputs": [],
   "source": [
    "model = Sequential()\n",
    "model.add(Dense(12, activation='relu', input_dim=64))\n",
    "model.add(Dense(8, activation='relu'))\n",
    "model.add(Dense(4, activation='relu'))\n",
    "model.add(Dense(1, activation='sigmoid'))\n",
    "\n",
    "model.compile(optimizer='adam',\n",
    "              loss='binary_crossentropy',\n",
    "              metrics=['accuracy'])"
   ]
  },
  {
   "cell_type": "code",
   "execution_count": 15,
   "metadata": {
    "ExecuteTime": {
     "end_time": "2023-06-13T15:22:48.278965Z",
     "start_time": "2023-06-13T15:22:27.761966Z"
    },
    "scrolled": false
   },
   "outputs": [
    {
     "name": "stdout",
     "output_type": "stream",
     "text": [
      "Epoch 1/30\n",
      "115/115 [==============================] - 1s 8ms/step - loss: 0.6552 - accuracy: 0.5344 - val_loss: 0.5859 - val_accuracy: 0.6944\n",
      "Epoch 2/30\n",
      "115/115 [==============================] - 1s 6ms/step - loss: 0.5174 - accuracy: 0.8129 - val_loss: 0.4406 - val_accuracy: 0.8750\n",
      "Epoch 3/30\n",
      "115/115 [==============================] - 1s 7ms/step - loss: 0.3665 - accuracy: 0.8842 - val_loss: 0.2881 - val_accuracy: 0.9028\n",
      "Epoch 4/30\n",
      "115/115 [==============================] - 1s 6ms/step - loss: 0.2479 - accuracy: 0.9138 - val_loss: 0.2435 - val_accuracy: 0.9167\n",
      "Epoch 5/30\n",
      "115/115 [==============================] - 1s 6ms/step - loss: 0.1936 - accuracy: 0.9295 - val_loss: 0.1837 - val_accuracy: 0.9271\n",
      "Epoch 6/30\n",
      "115/115 [==============================] - 1s 6ms/step - loss: 0.1582 - accuracy: 0.9434 - val_loss: 0.1503 - val_accuracy: 0.9479\n",
      "Epoch 7/30\n",
      "115/115 [==============================] - 1s 5ms/step - loss: 0.1369 - accuracy: 0.9478 - val_loss: 0.1221 - val_accuracy: 0.9479\n",
      "Epoch 8/30\n",
      "115/115 [==============================] - 1s 6ms/step - loss: 0.1145 - accuracy: 0.9608 - val_loss: 0.1024 - val_accuracy: 0.9722\n",
      "Epoch 9/30\n",
      "115/115 [==============================] - 1s 6ms/step - loss: 0.1074 - accuracy: 0.9591 - val_loss: 0.0962 - val_accuracy: 0.9688\n",
      "Epoch 10/30\n",
      "115/115 [==============================] - 1s 6ms/step - loss: 0.0929 - accuracy: 0.9652 - val_loss: 0.0985 - val_accuracy: 0.9549\n",
      "Epoch 11/30\n",
      "115/115 [==============================] - 1s 6ms/step - loss: 0.0810 - accuracy: 0.9774 - val_loss: 0.0815 - val_accuracy: 0.9688\n",
      "Epoch 12/30\n",
      "115/115 [==============================] - 1s 5ms/step - loss: 0.0745 - accuracy: 0.9739 - val_loss: 0.0844 - val_accuracy: 0.9618\n",
      "Epoch 13/30\n",
      "115/115 [==============================] - 1s 5ms/step - loss: 0.0681 - accuracy: 0.9765 - val_loss: 0.0714 - val_accuracy: 0.9757\n",
      "Epoch 14/30\n",
      "115/115 [==============================] - 1s 6ms/step - loss: 0.0612 - accuracy: 0.9791 - val_loss: 0.0678 - val_accuracy: 0.9757\n",
      "Epoch 15/30\n",
      "115/115 [==============================] - 1s 5ms/step - loss: 0.0555 - accuracy: 0.9835 - val_loss: 0.0664 - val_accuracy: 0.9757\n",
      "Epoch 16/30\n",
      "115/115 [==============================] - 1s 5ms/step - loss: 0.0520 - accuracy: 0.9843 - val_loss: 0.0564 - val_accuracy: 0.9792\n",
      "Epoch 17/30\n",
      "115/115 [==============================] - 1s 5ms/step - loss: 0.0467 - accuracy: 0.9835 - val_loss: 0.0671 - val_accuracy: 0.9826\n",
      "Epoch 18/30\n",
      "115/115 [==============================] - 1s 5ms/step - loss: 0.0397 - accuracy: 0.9887 - val_loss: 0.0678 - val_accuracy: 0.9792\n",
      "Epoch 19/30\n",
      "115/115 [==============================] - 1s 5ms/step - loss: 0.0383 - accuracy: 0.9878 - val_loss: 0.0589 - val_accuracy: 0.9792\n",
      "Epoch 20/30\n",
      "115/115 [==============================] - 1s 6ms/step - loss: 0.0330 - accuracy: 0.9913 - val_loss: 0.0784 - val_accuracy: 0.9792\n",
      "Epoch 21/30\n",
      "115/115 [==============================] - 1s 6ms/step - loss: 0.0327 - accuracy: 0.9896 - val_loss: 0.0544 - val_accuracy: 0.9826\n",
      "Epoch 22/30\n",
      "115/115 [==============================] - 1s 5ms/step - loss: 0.0289 - accuracy: 0.9930 - val_loss: 0.0554 - val_accuracy: 0.9792\n",
      "Epoch 23/30\n",
      "115/115 [==============================] - 1s 6ms/step - loss: 0.0253 - accuracy: 0.9974 - val_loss: 0.0563 - val_accuracy: 0.9826\n",
      "Epoch 24/30\n",
      "115/115 [==============================] - 1s 5ms/step - loss: 0.0222 - accuracy: 0.9965 - val_loss: 0.0671 - val_accuracy: 0.9826\n",
      "Epoch 25/30\n",
      "115/115 [==============================] - 1s 6ms/step - loss: 0.0259 - accuracy: 0.9896 - val_loss: 0.0651 - val_accuracy: 0.9722\n",
      "Epoch 26/30\n",
      "115/115 [==============================] - 1s 5ms/step - loss: 0.0189 - accuracy: 0.9974 - val_loss: 0.0516 - val_accuracy: 0.9826\n",
      "Epoch 27/30\n",
      "115/115 [==============================] - 1s 6ms/step - loss: 0.0190 - accuracy: 0.9974 - val_loss: 0.0522 - val_accuracy: 0.9861\n",
      "Epoch 28/30\n",
      "115/115 [==============================] - 1s 5ms/step - loss: 0.0151 - accuracy: 0.9991 - val_loss: 0.0515 - val_accuracy: 0.9861\n",
      "Epoch 29/30\n",
      "115/115 [==============================] - 1s 6ms/step - loss: 0.0142 - accuracy: 0.9983 - val_loss: 0.0522 - val_accuracy: 0.9826\n",
      "Epoch 30/30\n",
      "115/115 [==============================] - 1s 5ms/step - loss: 0.0146 - accuracy: 0.9974 - val_loss: 0.0575 - val_accuracy: 0.9826\n"
     ]
    }
   ],
   "source": [
    "results = model.fit(X_pure_train, y_pure_train,\n",
    "                   validation_data=(X_val, y_val),\n",
    "                   epochs=30, batch_size=10)"
   ]
  },
  {
   "cell_type": "code",
   "execution_count": 16,
   "metadata": {
    "ExecuteTime": {
     "end_time": "2023-06-13T15:22:59.261965Z",
     "start_time": "2023-06-13T15:22:58.840965Z"
    }
   },
   "outputs": [
    {
     "data": {
      "image/png": "[encoded data removed]",
      "text/plain": [
       "<Figure size 720x360 with 2 Axes>"
      ]
     },
     "metadata": {
      "needs_background": "light"
     },
     "output_type": "display_data"
    }
   ],
   "source": [
    "train_loss = results.history['loss']\n",
    "train_acc = results.history['accuracy']\n",
    "val_loss = results.history['val_loss']\n",
    "val_acc = results.history['val_accuracy']\n",
    "\n",
    "fig, (ax1, ax2) = plt.subplots(1, 2, figsize=(10, 5))\n",
    "sns.lineplot(x=results.epoch, y=train_loss, ax=ax1, label='train_loss')\n",
    "sns.lineplot(x=results.epoch, y=train_acc, ax=ax2, label='train_accuracy')\n",
    "\n",
    "sns.lineplot(x=results.epoch, y=val_loss, ax=ax1, label='val_loss')\n",
    "sns.lineplot(x=results.epoch, y=val_acc, ax=ax2, label='val_accuracy');"
   ]
  },
  {
   "cell_type": "markdown",
   "metadata": {},
   "source": [
    "<details>\n",
    "    <summary>One answer here</summary>\n",
    "<code>model = Sequential()\n",
    "model.add(Dense(12, activation='relu', input_dim=64))\n",
    "model.add(Dense(8, activation='relu'))\n",
    "model.add(Dense(4, activation='relu'))\n",
    "model.add(Dense(1, activation='sigmoid'))\n",
    "model.compile(optimizer='adam',\n",
    "              loss='binary_crossentropy',\n",
    "              metrics=['accuracy'])\n",
    "results = model.fit(X_pure_train, y_pure_train,\n",
    "                   validation_data=(X_val, y_val),\n",
    "                   epochs=30, batch_size=10)\n",
    "train_loss = results.history['loss']\n",
    "train_acc = results.history['accuracy']\n",
    "val_loss = results.history['val_loss']\n",
    "val_acc = results.history['val_accuracy']\n",
    "fig, (ax1, ax2) = plt.subplots(1, 2, figsize=(10, 5))\n",
    "sns.lineplot(x=results.epoch, y=train_loss, ax=ax1, label='train_loss')\n",
    "sns.lineplot(x=results.epoch, y=train_acc, ax=ax2, label='train_accuracy')\n",
    "sns.lineplot(x=results.epoch, y=val_loss, ax=ax1, label='val_loss')\n",
    "sns.lineplot(x=results.epoch, y=val_acc, ax=ax2, label='val_accuracy');</code>\n",
    "</details>"
   ]
  },
  {
   "cell_type": "code",
   "execution_count": 17,
   "metadata": {
    "ExecuteTime": {
     "end_time": "2023-06-13T15:23:17.633968Z",
     "start_time": "2023-06-13T15:23:17.519965Z"
    }
   },
   "outputs": [
    {
     "data": {
      "text/plain": [
       "0.9826388955116272"
      ]
     },
     "execution_count": 17,
     "metadata": {},
     "output_type": "execute_result"
    }
   ],
   "source": [
    "results.history['val_accuracy'][-1]"
   ]
  },
  {
   "cell_type": "code",
   "execution_count": 18,
   "metadata": {
    "ExecuteTime": {
     "end_time": "2023-06-13T15:23:27.566966Z",
     "start_time": "2023-06-13T15:23:27.429968Z"
    }
   },
   "outputs": [
    {
     "data": {
      "text/plain": [
       "0.997389018535614"
      ]
     },
     "execution_count": 18,
     "metadata": {},
     "output_type": "execute_result"
    }
   ],
   "source": [
    "results.history['accuracy'][-1]"
   ]
  },
  {
   "cell_type": "markdown",
   "metadata": {},
   "source": [
    "## Connecting with `sklearn`\n",
    "\n",
    "The `keras.wrappers` submodule means that we can turn `keras` models into estimators that `sklearn` tools will recognize."
   ]
  },
  {
   "cell_type": "code",
   "execution_count": 19,
   "metadata": {
    "ExecuteTime": {
     "end_time": "2023-06-13T15:24:27.958123Z",
     "start_time": "2023-06-13T15:24:26.916121Z"
    }
   },
   "outputs": [
    {
     "ename": "TypeError",
     "evalue": "If no scoring is specified, the estimator passed should have a 'score' method. The estimator <keras.engine.sequential.Sequential object at 0x00000179977AF940> does not.",
     "output_type": "error",
     "traceback": [
      "\u001b[1;31m---------------------------------------------------------------------------\u001b[0m",
      "\u001b[1;31mTypeError\u001b[0m                                 Traceback (most recent call last)",
      "\u001b[1;32m~\\AppData\\Local\\Temp/ipykernel_43916/1197616762.py\u001b[0m in \u001b[0;36m<module>\u001b[1;34m\u001b[0m\n\u001b[0;32m      1\u001b[0m \u001b[1;31m# This will throw an error.\u001b[0m\u001b[1;33m\u001b[0m\u001b[1;33m\u001b[0m\u001b[0m\n\u001b[0;32m      2\u001b[0m \u001b[1;33m\u001b[0m\u001b[0m\n\u001b[1;32m----> 3\u001b[1;33m \u001b[0mcross_val_score\u001b[0m\u001b[1;33m(\u001b[0m\u001b[0mmodel\u001b[0m\u001b[1;33m,\u001b[0m \u001b[0mX_pure_train\u001b[0m\u001b[1;33m,\u001b[0m \u001b[0my_pure_train\u001b[0m\u001b[1;33m)\u001b[0m\u001b[1;33m\u001b[0m\u001b[1;33m\u001b[0m\u001b[0m\n\u001b[0m",
      "\u001b[1;32mE:\\python-envs\\tf-gpu\\lib\\site-packages\\sklearn\\model_selection\\_validation.py\u001b[0m in \u001b[0;36mcross_val_score\u001b[1;34m(estimator, X, y, groups, scoring, cv, n_jobs, verbose, fit_params, pre_dispatch, error_score)\u001b[0m\n\u001b[0;32m    505\u001b[0m     \"\"\"\n\u001b[0;32m    506\u001b[0m     \u001b[1;31m# To ensure multimetric format is not supported\u001b[0m\u001b[1;33m\u001b[0m\u001b[1;33m\u001b[0m\u001b[0m\n\u001b[1;32m--> 507\u001b[1;33m     \u001b[0mscorer\u001b[0m \u001b[1;33m=\u001b[0m \u001b[0mcheck_scoring\u001b[0m\u001b[1;33m(\u001b[0m\u001b[0mestimator\u001b[0m\u001b[1;33m,\u001b[0m \u001b[0mscoring\u001b[0m\u001b[1;33m=\u001b[0m\u001b[0mscoring\u001b[0m\u001b[1;33m)\u001b[0m\u001b[1;33m\u001b[0m\u001b[1;33m\u001b[0m\u001b[0m\n\u001b[0m\u001b[0;32m    508\u001b[0m \u001b[1;33m\u001b[0m\u001b[0m\n\u001b[0;32m    509\u001b[0m     cv_results = cross_validate(\n",
      "\u001b[1;32mE:\\python-envs\\tf-gpu\\lib\\site-packages\\sklearn\\metrics\\_scorer.py\u001b[0m in \u001b[0;36mcheck_scoring\u001b[1;34m(estimator, scoring, allow_none)\u001b[0m\n\u001b[0;32m    475\u001b[0m             \u001b[1;32mreturn\u001b[0m \u001b[1;32mNone\u001b[0m\u001b[1;33m\u001b[0m\u001b[1;33m\u001b[0m\u001b[0m\n\u001b[0;32m    476\u001b[0m         \u001b[1;32melse\u001b[0m\u001b[1;33m:\u001b[0m\u001b[1;33m\u001b[0m\u001b[1;33m\u001b[0m\u001b[0m\n\u001b[1;32m--> 477\u001b[1;33m             raise TypeError(\n\u001b[0m\u001b[0;32m    478\u001b[0m                 \u001b[1;34m\"If no scoring is specified, the estimator passed should \"\u001b[0m\u001b[1;33m\u001b[0m\u001b[1;33m\u001b[0m\u001b[0m\n\u001b[0;32m    479\u001b[0m                 \u001b[1;34m\"have a 'score' method. The estimator %r does not.\"\u001b[0m \u001b[1;33m%\u001b[0m \u001b[0mestimator\u001b[0m\u001b[1;33m\u001b[0m\u001b[1;33m\u001b[0m\u001b[0m\n",
      "\u001b[1;31mTypeError\u001b[0m: If no scoring is specified, the estimator passed should have a 'score' method. The estimator <keras.engine.sequential.Sequential object at 0x00000179977AF940> does not."
     ]
    }
   ],
   "source": [
    "# This will throw an error.\n",
    "\n",
    "cross_val_score(model, X_pure_train, y_pure_train)"
   ]
  },
  {
   "cell_type": "code",
   "execution_count": null,
   "metadata": {},
   "outputs": [],
   "source": [
    "model."
   ]
  },
  {
   "cell_type": "code",
   "execution_count": 21,
   "metadata": {
    "ExecuteTime": {
     "end_time": "2023-06-13T15:25:34.257122Z",
     "start_time": "2023-06-13T15:25:34.119122Z"
    }
   },
   "outputs": [],
   "source": [
    "def build_model():\n",
    "    model = Sequential()\n",
    "    model.add(Dense(12, activation='relu', input_dim=64))\n",
    "    model.add(Dense(8, activation='relu'))\n",
    "    model.add(Dense(4, activation='relu'))\n",
    "    model.add(Dense(1, activation = 'sigmoid'))\n",
    "\n",
    "    model.compile(optimizer='adam',\n",
    "                  loss='binary_crossentropy',\n",
    "                  metrics=['accuracy'])\n",
    "    return model"
   ]
  },
  {
   "cell_type": "code",
   "execution_count": 22,
   "metadata": {
    "ExecuteTime": {
     "end_time": "2023-06-13T15:25:34.788123Z",
     "start_time": "2023-06-13T15:25:34.651124Z"
    }
   },
   "outputs": [],
   "source": [
    "keras_model = KerasClassifier(build_model,\n",
    "                                          epochs=50,\n",
    "                                          batch_size=32,\n",
    "                                          verbose=2)"
   ]
  },
  {
   "cell_type": "code",
   "execution_count": 23,
   "metadata": {
    "ExecuteTime": {
     "end_time": "2023-06-13T15:25:37.680123Z",
     "start_time": "2023-06-13T15:25:37.554123Z"
    }
   },
   "outputs": [
    {
     "data": {
      "text/plain": [
       "scikeras.wrappers.KerasClassifier"
      ]
     },
     "execution_count": 23,
     "metadata": {},
     "output_type": "execute_result"
    }
   ],
   "source": [
    "type(keras_model)"
   ]
  },
  {
   "cell_type": "code",
   "execution_count": 24,
   "metadata": {
    "ExecuteTime": {
     "end_time": "2023-06-13T15:26:22.295122Z",
     "start_time": "2023-06-13T15:25:45.388124Z"
    }
   },
   "outputs": [
    {
     "name": "stdout",
     "output_type": "stream",
     "text": [
      "Epoch 1/50\n",
      "29/29 - 1s - loss: 0.6876 - accuracy: 0.5267 - 636ms/epoch - 22ms/step\n",
      "Epoch 2/50\n",
      "29/29 - 0s - loss: 0.6622 - accuracy: 0.6616 - 147ms/epoch - 5ms/step\n",
      "Epoch 3/50\n",
      "29/29 - 0s - loss: 0.6249 - accuracy: 0.7922 - 151ms/epoch - 5ms/step\n",
      "Epoch 4/50\n",
      "29/29 - 0s - loss: 0.5651 - accuracy: 0.8324 - 126ms/epoch - 4ms/step\n",
      "Epoch 5/50\n",
      "29/29 - 0s - loss: 0.4863 - accuracy: 0.8738 - 113ms/epoch - 4ms/step\n",
      "Epoch 6/50\n",
      "29/29 - 0s - loss: 0.4003 - accuracy: 0.8749 - 116ms/epoch - 4ms/step\n",
      "Epoch 7/50\n",
      "29/29 - 0s - loss: 0.3301 - accuracy: 0.8803 - 109ms/epoch - 4ms/step\n",
      "Epoch 8/50\n",
      "29/29 - 0s - loss: 0.2871 - accuracy: 0.8901 - 106ms/epoch - 4ms/step\n",
      "Epoch 9/50\n",
      "29/29 - 0s - loss: 0.2583 - accuracy: 0.9064 - 135ms/epoch - 5ms/step\n",
      "Epoch 10/50\n",
      "29/29 - 0s - loss: 0.2368 - accuracy: 0.9108 - 126ms/epoch - 4ms/step\n",
      "Epoch 11/50\n",
      "29/29 - 0s - loss: 0.2172 - accuracy: 0.9195 - 132ms/epoch - 5ms/step\n",
      "Epoch 12/50\n",
      "29/29 - 0s - loss: 0.2012 - accuracy: 0.9217 - 121ms/epoch - 4ms/step\n",
      "Epoch 13/50\n",
      "29/29 - 0s - loss: 0.1907 - accuracy: 0.9271 - 118ms/epoch - 4ms/step\n",
      "Epoch 14/50\n",
      "29/29 - 0s - loss: 0.1781 - accuracy: 0.9358 - 129ms/epoch - 4ms/step\n",
      "Epoch 15/50\n",
      "29/29 - 0s - loss: 0.1713 - accuracy: 0.9314 - 184ms/epoch - 6ms/step\n",
      "Epoch 16/50\n",
      "29/29 - 0s - loss: 0.1581 - accuracy: 0.9380 - 146ms/epoch - 5ms/step\n",
      "Epoch 17/50\n",
      "29/29 - 0s - loss: 0.1581 - accuracy: 0.9358 - 140ms/epoch - 5ms/step\n",
      "Epoch 18/50\n",
      "29/29 - 0s - loss: 0.1446 - accuracy: 0.9434 - 123ms/epoch - 4ms/step\n",
      "Epoch 19/50\n",
      "29/29 - 0s - loss: 0.1362 - accuracy: 0.9478 - 109ms/epoch - 4ms/step\n",
      "Epoch 20/50\n",
      "29/29 - 0s - loss: 0.1332 - accuracy: 0.9499 - 125ms/epoch - 4ms/step\n",
      "Epoch 21/50\n",
      "29/29 - 0s - loss: 0.1283 - accuracy: 0.9543 - 112ms/epoch - 4ms/step\n",
      "Epoch 22/50\n",
      "29/29 - 0s - loss: 0.1187 - accuracy: 0.9532 - 111ms/epoch - 4ms/step\n",
      "Epoch 23/50\n",
      "29/29 - 0s - loss: 0.1133 - accuracy: 0.9565 - 123ms/epoch - 4ms/step\n",
      "Epoch 24/50\n",
      "29/29 - 0s - loss: 0.1081 - accuracy: 0.9587 - 135ms/epoch - 5ms/step\n",
      "Epoch 25/50\n",
      "29/29 - 0s - loss: 0.1084 - accuracy: 0.9587 - 111ms/epoch - 4ms/step\n",
      "Epoch 26/50\n",
      "29/29 - 0s - loss: 0.1005 - accuracy: 0.9619 - 104ms/epoch - 4ms/step\n",
      "Epoch 27/50\n",
      "29/29 - 0s - loss: 0.0967 - accuracy: 0.9619 - 145ms/epoch - 5ms/step\n",
      "Epoch 28/50\n",
      "29/29 - 0s - loss: 0.0899 - accuracy: 0.9652 - 127ms/epoch - 4ms/step\n",
      "Epoch 29/50\n",
      "29/29 - 0s - loss: 0.0894 - accuracy: 0.9695 - 114ms/epoch - 4ms/step\n",
      "Epoch 30/50\n",
      "29/29 - 0s - loss: 0.0838 - accuracy: 0.9717 - 109ms/epoch - 4ms/step\n",
      "Epoch 31/50\n",
      "29/29 - 0s - loss: 0.0817 - accuracy: 0.9717 - 116ms/epoch - 4ms/step\n",
      "Epoch 32/50\n",
      "29/29 - 0s - loss: 0.0770 - accuracy: 0.9728 - 114ms/epoch - 4ms/step\n",
      "Epoch 33/50\n",
      "29/29 - 0s - loss: 0.0784 - accuracy: 0.9706 - 137ms/epoch - 5ms/step\n",
      "Epoch 34/50\n",
      "29/29 - 0s - loss: 0.0719 - accuracy: 0.9739 - 125ms/epoch - 4ms/step\n",
      "Epoch 35/50\n",
      "29/29 - 0s - loss: 0.0687 - accuracy: 0.9739 - 106ms/epoch - 4ms/step\n",
      "Epoch 36/50\n",
      "29/29 - 0s - loss: 0.0726 - accuracy: 0.9717 - 104ms/epoch - 4ms/step\n",
      "Epoch 37/50\n",
      "29/29 - 0s - loss: 0.0689 - accuracy: 0.9739 - 134ms/epoch - 5ms/step\n",
      "Epoch 38/50\n",
      "29/29 - 0s - loss: 0.0632 - accuracy: 0.9771 - 110ms/epoch - 4ms/step\n",
      "Epoch 39/50\n",
      "29/29 - 0s - loss: 0.0611 - accuracy: 0.9761 - 101ms/epoch - 3ms/step\n",
      "Epoch 40/50\n",
      "29/29 - 0s - loss: 0.0579 - accuracy: 0.9771 - 98ms/epoch - 3ms/step\n",
      "Epoch 41/50\n",
      "29/29 - 0s - loss: 0.0555 - accuracy: 0.9815 - 112ms/epoch - 4ms/step\n",
      "Epoch 42/50\n",
      "29/29 - 0s - loss: 0.0553 - accuracy: 0.9804 - 109ms/epoch - 4ms/step\n",
      "Epoch 43/50\n",
      "29/29 - 0s - loss: 0.0534 - accuracy: 0.9826 - 116ms/epoch - 4ms/step\n",
      "Epoch 44/50\n",
      "29/29 - 0s - loss: 0.0541 - accuracy: 0.9859 - 134ms/epoch - 5ms/step\n",
      "Epoch 45/50\n",
      "29/29 - 0s - loss: 0.0505 - accuracy: 0.9815 - 109ms/epoch - 4ms/step\n",
      "Epoch 46/50\n",
      "29/29 - 0s - loss: 0.0528 - accuracy: 0.9815 - 115ms/epoch - 4ms/step\n",
      "Epoch 47/50\n",
      "29/29 - 0s - loss: 0.0504 - accuracy: 0.9815 - 143ms/epoch - 5ms/step\n",
      "Epoch 48/50\n",
      "29/29 - 0s - loss: 0.0450 - accuracy: 0.9869 - 114ms/epoch - 4ms/step\n",
      "Epoch 49/50\n",
      "29/29 - 0s - loss: 0.0453 - accuracy: 0.9848 - 119ms/epoch - 4ms/step\n",
      "Epoch 50/50\n",
      "29/29 - 0s - loss: 0.0414 - accuracy: 0.9859 - 121ms/epoch - 4ms/step\n",
      "8/8 - 0s - 106ms/epoch - 13ms/step\n",
      "Epoch 1/50\n",
      "29/29 - 1s - loss: 0.6769 - accuracy: 0.5647 - 534ms/epoch - 18ms/step\n",
      "Epoch 2/50\n",
      "29/29 - 0s - loss: 0.6173 - accuracy: 0.6855 - 131ms/epoch - 5ms/step\n",
      "Epoch 3/50\n",
      "29/29 - 0s - loss: 0.5506 - accuracy: 0.8009 - 134ms/epoch - 5ms/step\n",
      "Epoch 4/50\n",
      "29/29 - 0s - loss: 0.4735 - accuracy: 0.8368 - 149ms/epoch - 5ms/step\n",
      "Epoch 5/50\n",
      "29/29 - 0s - loss: 0.3982 - accuracy: 0.8509 - 121ms/epoch - 4ms/step\n",
      "Epoch 6/50\n",
      "29/29 - 0s - loss: 0.3402 - accuracy: 0.8585 - 127ms/epoch - 4ms/step\n",
      "Epoch 7/50\n",
      "29/29 - 0s - loss: 0.2938 - accuracy: 0.8781 - 125ms/epoch - 4ms/step\n",
      "Epoch 8/50\n",
      "29/29 - 0s - loss: 0.2667 - accuracy: 0.8912 - 105ms/epoch - 4ms/step\n",
      "Epoch 9/50\n",
      "29/29 - 0s - loss: 0.2475 - accuracy: 0.8901 - 115ms/epoch - 4ms/step\n",
      "Epoch 10/50\n",
      "29/29 - 0s - loss: 0.2220 - accuracy: 0.8999 - 108ms/epoch - 4ms/step\n",
      "Epoch 11/50\n",
      "29/29 - 0s - loss: 0.2050 - accuracy: 0.9097 - 106ms/epoch - 4ms/step\n",
      "Epoch 12/50\n",
      "29/29 - 0s - loss: 0.1896 - accuracy: 0.9173 - 111ms/epoch - 4ms/step\n",
      "Epoch 13/50\n",
      "29/29 - 0s - loss: 0.1813 - accuracy: 0.9206 - 120ms/epoch - 4ms/step\n",
      "Epoch 14/50\n",
      "29/29 - 0s - loss: 0.1710 - accuracy: 0.9260 - 113ms/epoch - 4ms/step\n",
      "Epoch 15/50\n",
      "29/29 - 0s - loss: 0.1540 - accuracy: 0.9347 - 121ms/epoch - 4ms/step\n",
      "Epoch 16/50\n",
      "29/29 - 0s - loss: 0.1475 - accuracy: 0.9391 - 125ms/epoch - 4ms/step\n",
      "Epoch 17/50\n",
      "29/29 - 0s - loss: 0.1396 - accuracy: 0.9402 - 111ms/epoch - 4ms/step\n",
      "Epoch 18/50\n",
      "29/29 - 0s - loss: 0.1319 - accuracy: 0.9467 - 116ms/epoch - 4ms/step\n",
      "Epoch 19/50\n",
      "29/29 - 0s - loss: 0.1256 - accuracy: 0.9587 - 124ms/epoch - 4ms/step\n",
      "Epoch 20/50\n",
      "29/29 - 0s - loss: 0.1205 - accuracy: 0.9478 - 117ms/epoch - 4ms/step\n",
      "Epoch 21/50\n",
      "29/29 - 0s - loss: 0.1141 - accuracy: 0.9532 - 119ms/epoch - 4ms/step\n",
      "Epoch 22/50\n",
      "29/29 - 0s - loss: 0.1103 - accuracy: 0.9543 - 124ms/epoch - 4ms/step\n",
      "Epoch 23/50\n",
      "29/29 - 0s - loss: 0.1029 - accuracy: 0.9619 - 142ms/epoch - 5ms/step\n",
      "Epoch 24/50\n",
      "29/29 - 0s - loss: 0.1040 - accuracy: 0.9619 - 115ms/epoch - 4ms/step\n",
      "Epoch 25/50\n",
      "29/29 - 0s - loss: 0.0930 - accuracy: 0.9684 - 121ms/epoch - 4ms/step\n",
      "Epoch 26/50\n",
      "29/29 - 0s - loss: 0.0910 - accuracy: 0.9695 - 133ms/epoch - 5ms/step\n",
      "Epoch 27/50\n",
      "29/29 - 0s - loss: 0.0871 - accuracy: 0.9684 - 117ms/epoch - 4ms/step\n",
      "Epoch 28/50\n",
      "29/29 - 0s - loss: 0.0865 - accuracy: 0.9684 - 111ms/epoch - 4ms/step\n",
      "Epoch 29/50\n",
      "29/29 - 0s - loss: 0.0837 - accuracy: 0.9695 - 118ms/epoch - 4ms/step\n",
      "Epoch 30/50\n",
      "29/29 - 0s - loss: 0.0840 - accuracy: 0.9695 - 117ms/epoch - 4ms/step\n",
      "Epoch 31/50\n",
      "29/29 - 0s - loss: 0.0740 - accuracy: 0.9761 - 112ms/epoch - 4ms/step\n",
      "Epoch 32/50\n",
      "29/29 - 0s - loss: 0.0733 - accuracy: 0.9728 - 151ms/epoch - 5ms/step\n",
      "Epoch 33/50\n",
      "29/29 - 0s - loss: 0.0709 - accuracy: 0.9771 - 125ms/epoch - 4ms/step\n",
      "Epoch 34/50\n",
      "29/29 - 0s - loss: 0.0688 - accuracy: 0.9771 - 148ms/epoch - 5ms/step\n",
      "Epoch 35/50\n",
      "29/29 - 0s - loss: 0.0661 - accuracy: 0.9771 - 152ms/epoch - 5ms/step\n",
      "Epoch 36/50\n",
      "29/29 - 0s - loss: 0.0672 - accuracy: 0.9750 - 114ms/epoch - 4ms/step\n",
      "Epoch 37/50\n",
      "29/29 - 0s - loss: 0.0643 - accuracy: 0.9771 - 108ms/epoch - 4ms/step\n",
      "Epoch 38/50\n",
      "29/29 - 0s - loss: 0.0604 - accuracy: 0.9815 - 118ms/epoch - 4ms/step\n",
      "Epoch 39/50\n",
      "29/29 - 0s - loss: 0.0584 - accuracy: 0.9826 - 117ms/epoch - 4ms/step\n",
      "Epoch 40/50\n",
      "29/29 - 0s - loss: 0.0674 - accuracy: 0.9717 - 112ms/epoch - 4ms/step\n",
      "Epoch 41/50\n",
      "29/29 - 0s - loss: 0.0597 - accuracy: 0.9782 - 123ms/epoch - 4ms/step\n",
      "Epoch 42/50\n",
      "29/29 - 0s - loss: 0.0532 - accuracy: 0.9826 - 131ms/epoch - 5ms/step\n",
      "Epoch 43/50\n",
      "29/29 - 0s - loss: 0.0522 - accuracy: 0.9804 - 122ms/epoch - 4ms/step\n",
      "Epoch 44/50\n",
      "29/29 - 0s - loss: 0.0528 - accuracy: 0.9826 - 141ms/epoch - 5ms/step\n",
      "Epoch 45/50\n",
      "29/29 - 0s - loss: 0.0602 - accuracy: 0.9771 - 133ms/epoch - 5ms/step\n",
      "Epoch 46/50\n",
      "29/29 - 0s - loss: 0.0495 - accuracy: 0.9848 - 171ms/epoch - 6ms/step\n",
      "Epoch 47/50\n",
      "29/29 - 0s - loss: 0.0495 - accuracy: 0.9859 - 175ms/epoch - 6ms/step\n",
      "Epoch 48/50\n",
      "29/29 - 0s - loss: 0.0466 - accuracy: 0.9848 - 132ms/epoch - 5ms/step\n",
      "Epoch 49/50\n",
      "29/29 - 0s - loss: 0.0459 - accuracy: 0.9869 - 141ms/epoch - 5ms/step\n",
      "Epoch 50/50\n",
      "29/29 - 0s - loss: 0.0456 - accuracy: 0.9848 - 143ms/epoch - 5ms/step\n"
     ]
    },
    {
     "name": "stdout",
     "output_type": "stream",
     "text": [
      "8/8 - 0s - 82ms/epoch - 10ms/step\n",
      "Epoch 1/50\n",
      "29/29 - 1s - loss: 0.6898 - accuracy: 0.5952 - 1s/epoch - 37ms/step\n",
      "Epoch 2/50\n",
      "29/29 - 0s - loss: 0.6652 - accuracy: 0.6790 - 158ms/epoch - 5ms/step\n",
      "Epoch 3/50\n",
      "29/29 - 0s - loss: 0.6131 - accuracy: 0.7758 - 142ms/epoch - 5ms/step\n",
      "Epoch 4/50\n",
      "29/29 - 0s - loss: 0.5318 - accuracy: 0.8281 - 141ms/epoch - 5ms/step\n",
      "Epoch 5/50\n",
      "29/29 - 0s - loss: 0.4471 - accuracy: 0.8509 - 207ms/epoch - 7ms/step\n",
      "Epoch 6/50\n",
      "29/29 - 0s - loss: 0.3767 - accuracy: 0.8596 - 162ms/epoch - 6ms/step\n",
      "Epoch 7/50\n",
      "29/29 - 0s - loss: 0.3269 - accuracy: 0.8792 - 164ms/epoch - 6ms/step\n",
      "Epoch 8/50\n",
      "29/29 - 0s - loss: 0.2940 - accuracy: 0.8803 - 188ms/epoch - 6ms/step\n",
      "Epoch 9/50\n",
      "29/29 - 0s - loss: 0.2762 - accuracy: 0.8868 - 160ms/epoch - 6ms/step\n",
      "Epoch 10/50\n",
      "29/29 - 0s - loss: 0.2545 - accuracy: 0.8912 - 168ms/epoch - 6ms/step\n",
      "Epoch 11/50\n",
      "29/29 - 0s - loss: 0.2400 - accuracy: 0.9086 - 117ms/epoch - 4ms/step\n",
      "Epoch 12/50\n",
      "29/29 - 0s - loss: 0.2265 - accuracy: 0.9064 - 118ms/epoch - 4ms/step\n",
      "Epoch 13/50\n",
      "29/29 - 0s - loss: 0.2154 - accuracy: 0.9064 - 135ms/epoch - 5ms/step\n",
      "Epoch 14/50\n",
      "29/29 - 0s - loss: 0.2096 - accuracy: 0.9097 - 112ms/epoch - 4ms/step\n",
      "Epoch 15/50\n",
      "29/29 - 0s - loss: 0.2025 - accuracy: 0.9097 - 120ms/epoch - 4ms/step\n",
      "Epoch 16/50\n",
      "29/29 - 0s - loss: 0.2017 - accuracy: 0.9184 - 127ms/epoch - 4ms/step\n",
      "Epoch 17/50\n",
      "29/29 - 0s - loss: 0.1964 - accuracy: 0.9217 - 119ms/epoch - 4ms/step\n",
      "Epoch 18/50\n",
      "29/29 - 0s - loss: 0.1896 - accuracy: 0.9195 - 127ms/epoch - 4ms/step\n",
      "Epoch 19/50\n",
      "29/29 - 0s - loss: 0.1848 - accuracy: 0.9206 - 135ms/epoch - 5ms/step\n",
      "Epoch 20/50\n",
      "29/29 - 0s - loss: 0.1785 - accuracy: 0.9260 - 118ms/epoch - 4ms/step\n",
      "Epoch 21/50\n",
      "29/29 - 0s - loss: 0.1802 - accuracy: 0.9195 - 113ms/epoch - 4ms/step\n",
      "Epoch 22/50\n",
      "29/29 - 0s - loss: 0.1737 - accuracy: 0.9260 - 110ms/epoch - 4ms/step\n",
      "Epoch 23/50\n",
      "29/29 - 0s - loss: 0.1674 - accuracy: 0.9293 - 121ms/epoch - 4ms/step\n",
      "Epoch 24/50\n",
      "29/29 - 0s - loss: 0.1659 - accuracy: 0.9304 - 104ms/epoch - 4ms/step\n",
      "Epoch 25/50\n",
      "29/29 - 0s - loss: 0.1604 - accuracy: 0.9358 - 122ms/epoch - 4ms/step\n",
      "Epoch 26/50\n",
      "29/29 - 0s - loss: 0.1601 - accuracy: 0.9293 - 126ms/epoch - 4ms/step\n",
      "Epoch 27/50\n",
      "29/29 - 0s - loss: 0.1530 - accuracy: 0.9358 - 112ms/epoch - 4ms/step\n",
      "Epoch 28/50\n",
      "29/29 - 0s - loss: 0.1541 - accuracy: 0.9282 - 129ms/epoch - 4ms/step\n",
      "Epoch 29/50\n",
      "29/29 - 0s - loss: 0.1496 - accuracy: 0.9369 - 151ms/epoch - 5ms/step\n",
      "Epoch 30/50\n",
      "29/29 - 0s - loss: 0.1497 - accuracy: 0.9369 - 127ms/epoch - 4ms/step\n",
      "Epoch 31/50\n",
      "29/29 - 0s - loss: 0.1454 - accuracy: 0.9423 - 126ms/epoch - 4ms/step\n",
      "Epoch 32/50\n",
      "29/29 - 0s - loss: 0.1441 - accuracy: 0.9445 - 120ms/epoch - 4ms/step\n",
      "Epoch 33/50\n",
      "29/29 - 0s - loss: 0.1417 - accuracy: 0.9423 - 128ms/epoch - 4ms/step\n",
      "Epoch 34/50\n",
      "29/29 - 0s - loss: 0.1349 - accuracy: 0.9499 - 111ms/epoch - 4ms/step\n",
      "Epoch 35/50\n",
      "29/29 - 0s - loss: 0.1366 - accuracy: 0.9423 - 117ms/epoch - 4ms/step\n",
      "Epoch 36/50\n",
      "29/29 - 0s - loss: 0.1289 - accuracy: 0.9521 - 130ms/epoch - 4ms/step\n",
      "Epoch 37/50\n",
      "29/29 - 0s - loss: 0.1311 - accuracy: 0.9456 - 127ms/epoch - 4ms/step\n",
      "Epoch 38/50\n",
      "29/29 - 0s - loss: 0.1273 - accuracy: 0.9467 - 118ms/epoch - 4ms/step\n",
      "Epoch 39/50\n",
      "29/29 - 0s - loss: 0.1287 - accuracy: 0.9467 - 82ms/epoch - 3ms/step\n",
      "Epoch 40/50\n",
      "29/29 - 0s - loss: 0.1248 - accuracy: 0.9532 - 81ms/epoch - 3ms/step\n",
      "Epoch 41/50\n",
      "29/29 - 0s - loss: 0.1252 - accuracy: 0.9478 - 85ms/epoch - 3ms/step\n",
      "Epoch 42/50\n",
      "29/29 - 0s - loss: 0.1213 - accuracy: 0.9543 - 85ms/epoch - 3ms/step\n",
      "Epoch 43/50\n",
      "29/29 - 0s - loss: 0.1173 - accuracy: 0.9543 - 91ms/epoch - 3ms/step\n",
      "Epoch 44/50\n",
      "29/29 - 0s - loss: 0.1131 - accuracy: 0.9521 - 109ms/epoch - 4ms/step\n",
      "Epoch 45/50\n",
      "29/29 - 0s - loss: 0.1144 - accuracy: 0.9543 - 138ms/epoch - 5ms/step\n",
      "Epoch 46/50\n",
      "29/29 - 0s - loss: 0.1128 - accuracy: 0.9521 - 121ms/epoch - 4ms/step\n",
      "Epoch 47/50\n",
      "29/29 - 0s - loss: 0.1134 - accuracy: 0.9597 - 117ms/epoch - 4ms/step\n",
      "Epoch 48/50\n",
      "29/29 - 0s - loss: 0.1067 - accuracy: 0.9576 - 140ms/epoch - 5ms/step\n",
      "Epoch 49/50\n",
      "29/29 - 0s - loss: 0.1057 - accuracy: 0.9576 - 130ms/epoch - 4ms/step\n",
      "Epoch 50/50\n",
      "29/29 - 0s - loss: 0.1058 - accuracy: 0.9543 - 140ms/epoch - 5ms/step\n",
      "8/8 - 0s - 69ms/epoch - 9ms/step\n",
      "Epoch 1/50\n",
      "29/29 - 1s - loss: 0.6936 - accuracy: 0.5158 - 672ms/epoch - 23ms/step\n",
      "Epoch 2/50\n",
      "29/29 - 0s - loss: 0.6864 - accuracy: 0.5919 - 127ms/epoch - 4ms/step\n",
      "Epoch 3/50\n",
      "29/29 - 0s - loss: 0.6676 - accuracy: 0.6605 - 107ms/epoch - 4ms/step\n",
      "Epoch 4/50\n",
      "29/29 - 0s - loss: 0.6203 - accuracy: 0.7106 - 116ms/epoch - 4ms/step\n",
      "Epoch 5/50\n",
      "29/29 - 0s - loss: 0.5582 - accuracy: 0.7911 - 110ms/epoch - 4ms/step\n",
      "Epoch 6/50\n",
      "29/29 - 0s - loss: 0.4941 - accuracy: 0.8411 - 112ms/epoch - 4ms/step\n",
      "Epoch 7/50\n",
      "29/29 - 0s - loss: 0.4294 - accuracy: 0.8672 - 111ms/epoch - 4ms/step\n",
      "Epoch 8/50\n",
      "29/29 - 0s - loss: 0.3686 - accuracy: 0.8781 - 129ms/epoch - 4ms/step\n",
      "Epoch 9/50\n",
      "29/29 - 0s - loss: 0.3181 - accuracy: 0.8923 - 117ms/epoch - 4ms/step\n",
      "Epoch 10/50\n",
      "29/29 - 0s - loss: 0.2800 - accuracy: 0.9021 - 128ms/epoch - 4ms/step\n",
      "Epoch 11/50\n",
      "29/29 - 0s - loss: 0.2509 - accuracy: 0.9053 - 150ms/epoch - 5ms/step\n",
      "Epoch 12/50\n",
      "29/29 - 0s - loss: 0.2244 - accuracy: 0.9129 - 120ms/epoch - 4ms/step\n",
      "Epoch 13/50\n",
      "29/29 - 0s - loss: 0.2062 - accuracy: 0.9195 - 113ms/epoch - 4ms/step\n",
      "Epoch 14/50\n",
      "29/29 - 0s - loss: 0.1903 - accuracy: 0.9304 - 119ms/epoch - 4ms/step\n",
      "Epoch 15/50\n",
      "29/29 - 0s - loss: 0.1797 - accuracy: 0.9271 - 113ms/epoch - 4ms/step\n",
      "Epoch 16/50\n",
      "29/29 - 0s - loss: 0.1649 - accuracy: 0.9336 - 122ms/epoch - 4ms/step\n",
      "Epoch 17/50\n",
      "29/29 - 0s - loss: 0.1591 - accuracy: 0.9369 - 123ms/epoch - 4ms/step\n",
      "Epoch 18/50\n",
      "29/29 - 0s - loss: 0.1579 - accuracy: 0.9336 - 114ms/epoch - 4ms/step\n",
      "Epoch 19/50\n",
      "29/29 - 0s - loss: 0.1406 - accuracy: 0.9402 - 114ms/epoch - 4ms/step\n",
      "Epoch 20/50\n",
      "29/29 - 0s - loss: 0.1334 - accuracy: 0.9402 - 111ms/epoch - 4ms/step\n",
      "Epoch 21/50\n",
      "29/29 - 0s - loss: 0.1323 - accuracy: 0.9478 - 132ms/epoch - 5ms/step\n",
      "Epoch 22/50\n",
      "29/29 - 0s - loss: 0.1189 - accuracy: 0.9499 - 119ms/epoch - 4ms/step\n",
      "Epoch 23/50\n",
      "29/29 - 0s - loss: 0.1132 - accuracy: 0.9521 - 124ms/epoch - 4ms/step\n",
      "Epoch 24/50\n",
      "29/29 - 0s - loss: 0.1065 - accuracy: 0.9576 - 138ms/epoch - 5ms/step\n",
      "Epoch 25/50\n",
      "29/29 - 0s - loss: 0.0976 - accuracy: 0.9619 - 122ms/epoch - 4ms/step\n",
      "Epoch 26/50\n",
      "29/29 - 0s - loss: 0.0926 - accuracy: 0.9663 - 156ms/epoch - 5ms/step\n",
      "Epoch 27/50\n",
      "29/29 - 0s - loss: 0.0912 - accuracy: 0.9695 - 153ms/epoch - 5ms/step\n",
      "Epoch 28/50\n",
      "29/29 - 0s - loss: 0.0841 - accuracy: 0.9717 - 113ms/epoch - 4ms/step\n",
      "Epoch 29/50\n",
      "29/29 - 0s - loss: 0.0785 - accuracy: 0.9728 - 130ms/epoch - 4ms/step\n",
      "Epoch 30/50\n",
      "29/29 - 0s - loss: 0.0802 - accuracy: 0.9706 - 127ms/epoch - 4ms/step\n",
      "Epoch 31/50\n",
      "29/29 - 0s - loss: 0.0733 - accuracy: 0.9750 - 123ms/epoch - 4ms/step\n",
      "Epoch 32/50\n",
      "29/29 - 0s - loss: 0.0699 - accuracy: 0.9782 - 113ms/epoch - 4ms/step\n",
      "Epoch 33/50\n",
      "29/29 - 0s - loss: 0.0717 - accuracy: 0.9717 - 171ms/epoch - 6ms/step\n",
      "Epoch 34/50\n",
      "29/29 - 0s - loss: 0.0624 - accuracy: 0.9771 - 132ms/epoch - 5ms/step\n",
      "Epoch 35/50\n",
      "29/29 - 0s - loss: 0.0585 - accuracy: 0.9793 - 155ms/epoch - 5ms/step\n",
      "Epoch 36/50\n",
      "29/29 - 0s - loss: 0.0578 - accuracy: 0.9848 - 136ms/epoch - 5ms/step\n",
      "Epoch 37/50\n",
      "29/29 - 0s - loss: 0.0576 - accuracy: 0.9815 - 106ms/epoch - 4ms/step\n",
      "Epoch 38/50\n",
      "29/29 - 0s - loss: 0.0515 - accuracy: 0.9848 - 121ms/epoch - 4ms/step\n",
      "Epoch 39/50\n",
      "29/29 - 0s - loss: 0.0502 - accuracy: 0.9826 - 115ms/epoch - 4ms/step\n",
      "Epoch 40/50\n",
      "29/29 - 0s - loss: 0.0462 - accuracy: 0.9869 - 147ms/epoch - 5ms/step\n",
      "Epoch 41/50\n",
      "29/29 - 0s - loss: 0.0436 - accuracy: 0.9891 - 136ms/epoch - 5ms/step\n",
      "Epoch 42/50\n",
      "29/29 - 0s - loss: 0.0424 - accuracy: 0.9902 - 131ms/epoch - 5ms/step\n",
      "Epoch 43/50\n",
      "29/29 - 0s - loss: 0.0391 - accuracy: 0.9935 - 117ms/epoch - 4ms/step\n",
      "Epoch 44/50\n",
      "29/29 - 0s - loss: 0.0378 - accuracy: 0.9935 - 129ms/epoch - 4ms/step\n",
      "Epoch 45/50\n",
      "29/29 - 0s - loss: 0.0361 - accuracy: 0.9946 - 133ms/epoch - 5ms/step\n",
      "Epoch 46/50\n",
      "29/29 - 0s - loss: 0.0356 - accuracy: 0.9902 - 117ms/epoch - 4ms/step\n",
      "Epoch 47/50\n",
      "29/29 - 0s - loss: 0.0331 - accuracy: 0.9946 - 142ms/epoch - 5ms/step\n",
      "Epoch 48/50\n",
      "29/29 - 0s - loss: 0.0327 - accuracy: 0.9935 - 118ms/epoch - 4ms/step\n",
      "Epoch 49/50\n",
      "29/29 - 0s - loss: 0.0321 - accuracy: 0.9935 - 108ms/epoch - 4ms/step\n",
      "Epoch 50/50\n",
      "29/29 - 0s - loss: 0.0297 - accuracy: 0.9967 - 119ms/epoch - 4ms/step\n"
     ]
    },
    {
     "name": "stdout",
     "output_type": "stream",
     "text": [
      "8/8 - 0s - 69ms/epoch - 9ms/step\n",
      "Epoch 1/50\n",
      "29/29 - 1s - loss: 0.6562 - accuracy: 0.6446 - 683ms/epoch - 24ms/step\n",
      "Epoch 2/50\n",
      "29/29 - 0s - loss: 0.6034 - accuracy: 0.7380 - 99ms/epoch - 3ms/step\n",
      "Epoch 3/50\n",
      "29/29 - 0s - loss: 0.5358 - accuracy: 0.7707 - 116ms/epoch - 4ms/step\n",
      "Epoch 4/50\n",
      "29/29 - 0s - loss: 0.4590 - accuracy: 0.7891 - 112ms/epoch - 4ms/step\n",
      "Epoch 5/50\n",
      "29/29 - 0s - loss: 0.3963 - accuracy: 0.8141 - 103ms/epoch - 4ms/step\n",
      "Epoch 6/50\n",
      "29/29 - 0s - loss: 0.3435 - accuracy: 0.8630 - 116ms/epoch - 4ms/step\n",
      "Epoch 7/50\n",
      "29/29 - 0s - loss: 0.3018 - accuracy: 0.8793 - 125ms/epoch - 4ms/step\n",
      "Epoch 8/50\n",
      "29/29 - 0s - loss: 0.2696 - accuracy: 0.8946 - 128ms/epoch - 4ms/step\n",
      "Epoch 9/50\n",
      "29/29 - 0s - loss: 0.2487 - accuracy: 0.9022 - 107ms/epoch - 4ms/step\n",
      "Epoch 10/50\n",
      "29/29 - 0s - loss: 0.2270 - accuracy: 0.9065 - 116ms/epoch - 4ms/step\n",
      "Epoch 11/50\n",
      "29/29 - 0s - loss: 0.2138 - accuracy: 0.9109 - 119ms/epoch - 4ms/step\n",
      "Epoch 12/50\n",
      "29/29 - 0s - loss: 0.2051 - accuracy: 0.9152 - 110ms/epoch - 4ms/step\n",
      "Epoch 13/50\n",
      "29/29 - 0s - loss: 0.1910 - accuracy: 0.9185 - 100ms/epoch - 3ms/step\n",
      "Epoch 14/50\n",
      "29/29 - 0s - loss: 0.1797 - accuracy: 0.9283 - 115ms/epoch - 4ms/step\n",
      "Epoch 15/50\n",
      "29/29 - 0s - loss: 0.1779 - accuracy: 0.9293 - 106ms/epoch - 4ms/step\n",
      "Epoch 16/50\n",
      "29/29 - 0s - loss: 0.1661 - accuracy: 0.9348 - 110ms/epoch - 4ms/step\n",
      "Epoch 17/50\n",
      "29/29 - 0s - loss: 0.1544 - accuracy: 0.9435 - 136ms/epoch - 5ms/step\n",
      "Epoch 18/50\n",
      "29/29 - 0s - loss: 0.1493 - accuracy: 0.9435 - 120ms/epoch - 4ms/step\n",
      "Epoch 19/50\n",
      "29/29 - 0s - loss: 0.1385 - accuracy: 0.9457 - 121ms/epoch - 4ms/step\n",
      "Epoch 20/50\n",
      "29/29 - 0s - loss: 0.1304 - accuracy: 0.9489 - 119ms/epoch - 4ms/step\n",
      "Epoch 21/50\n",
      "29/29 - 0s - loss: 0.1190 - accuracy: 0.9565 - 114ms/epoch - 4ms/step\n",
      "Epoch 22/50\n",
      "29/29 - 0s - loss: 0.1143 - accuracy: 0.9598 - 114ms/epoch - 4ms/step\n",
      "Epoch 23/50\n",
      "29/29 - 0s - loss: 0.1128 - accuracy: 0.9620 - 119ms/epoch - 4ms/step\n",
      "Epoch 24/50\n",
      "29/29 - 0s - loss: 0.1009 - accuracy: 0.9620 - 125ms/epoch - 4ms/step\n",
      "Epoch 25/50\n",
      "29/29 - 0s - loss: 0.0985 - accuracy: 0.9707 - 125ms/epoch - 4ms/step\n",
      "Epoch 26/50\n",
      "29/29 - 0s - loss: 0.0917 - accuracy: 0.9674 - 113ms/epoch - 4ms/step\n",
      "Epoch 27/50\n",
      "29/29 - 0s - loss: 0.0890 - accuracy: 0.9717 - 144ms/epoch - 5ms/step\n",
      "Epoch 28/50\n",
      "29/29 - 0s - loss: 0.0829 - accuracy: 0.9717 - 121ms/epoch - 4ms/step\n",
      "Epoch 29/50\n",
      "29/29 - 0s - loss: 0.0806 - accuracy: 0.9707 - 141ms/epoch - 5ms/step\n",
      "Epoch 30/50\n",
      "29/29 - 0s - loss: 0.0823 - accuracy: 0.9717 - 186ms/epoch - 6ms/step\n",
      "Epoch 31/50\n",
      "29/29 - 0s - loss: 0.0732 - accuracy: 0.9772 - 127ms/epoch - 4ms/step\n",
      "Epoch 32/50\n",
      "29/29 - 0s - loss: 0.0692 - accuracy: 0.9761 - 143ms/epoch - 5ms/step\n",
      "Epoch 33/50\n",
      "29/29 - 0s - loss: 0.0684 - accuracy: 0.9793 - 136ms/epoch - 5ms/step\n",
      "Epoch 34/50\n",
      "29/29 - 0s - loss: 0.0643 - accuracy: 0.9826 - 117ms/epoch - 4ms/step\n",
      "Epoch 35/50\n",
      "29/29 - 0s - loss: 0.0600 - accuracy: 0.9815 - 137ms/epoch - 5ms/step\n",
      "Epoch 36/50\n",
      "29/29 - 0s - loss: 0.0605 - accuracy: 0.9837 - 127ms/epoch - 4ms/step\n",
      "Epoch 37/50\n",
      "29/29 - 0s - loss: 0.0547 - accuracy: 0.9837 - 125ms/epoch - 4ms/step\n",
      "Epoch 38/50\n",
      "29/29 - 0s - loss: 0.0545 - accuracy: 0.9826 - 122ms/epoch - 4ms/step\n",
      "Epoch 39/50\n",
      "29/29 - 0s - loss: 0.0510 - accuracy: 0.9848 - 131ms/epoch - 5ms/step\n",
      "Epoch 40/50\n",
      "29/29 - 0s - loss: 0.0477 - accuracy: 0.9891 - 124ms/epoch - 4ms/step\n",
      "Epoch 41/50\n",
      "29/29 - 0s - loss: 0.0463 - accuracy: 0.9880 - 105ms/epoch - 4ms/step\n",
      "Epoch 42/50\n",
      "29/29 - 0s - loss: 0.0462 - accuracy: 0.9870 - 108ms/epoch - 4ms/step\n",
      "Epoch 43/50\n",
      "29/29 - 0s - loss: 0.0441 - accuracy: 0.9859 - 106ms/epoch - 4ms/step\n",
      "Epoch 44/50\n",
      "29/29 - 0s - loss: 0.0480 - accuracy: 0.9848 - 114ms/epoch - 4ms/step\n",
      "Epoch 45/50\n",
      "29/29 - 0s - loss: 0.0401 - accuracy: 0.9891 - 145ms/epoch - 5ms/step\n",
      "Epoch 46/50\n",
      "29/29 - 0s - loss: 0.0385 - accuracy: 0.9924 - 109ms/epoch - 4ms/step\n",
      "Epoch 47/50\n",
      "29/29 - 0s - loss: 0.0364 - accuracy: 0.9935 - 105ms/epoch - 4ms/step\n",
      "Epoch 48/50\n",
      "29/29 - 0s - loss: 0.0368 - accuracy: 0.9880 - 139ms/epoch - 5ms/step\n",
      "Epoch 49/50\n",
      "29/29 - 0s - loss: 0.0365 - accuracy: 0.9913 - 163ms/epoch - 6ms/step\n",
      "Epoch 50/50\n",
      "29/29 - 0s - loss: 0.0335 - accuracy: 0.9924 - 110ms/epoch - 4ms/step\n",
      "8/8 - 0s - 65ms/epoch - 8ms/step\n"
     ]
    },
    {
     "data": {
      "text/plain": [
       "array([0.95652174, 0.94782609, 0.94347826, 0.97826087, 0.95196507])"
      ]
     },
     "execution_count": 24,
     "metadata": {},
     "output_type": "execute_result"
    }
   ],
   "source": [
    "cross_val_score(keras_model, X_pure_train, y_pure_train)"
   ]
  },
  {
   "cell_type": "markdown",
   "metadata": {},
   "source": [
    "## Regularization"
   ]
  },
  {
   "cell_type": "markdown",
   "metadata": {},
   "source": [
    "Does regularization make sense in the context of neural networks? <br/>\n",
    "\n",
    "Yes! We still have all of the salient ingredients: a loss function, overfitting vs. underfitting, and coefficients (weights) that could get too large.\n",
    "\n",
    "But there are now a few different flavors besides L1 and L2 regularization. (Note that L1 regularization is not common in the context of  neural networks.)\n",
    "\n",
    "We'll add a few more layers to give regularization a better chance of making a difference!"
   ]
  },
  {
   "cell_type": "code",
   "execution_count": 25,
   "metadata": {
    "ExecuteTime": {
     "end_time": "2023-06-13T15:28:49.242121Z",
     "start_time": "2023-06-13T15:28:43.095121Z"
    }
   },
   "outputs": [
    {
     "data": {
      "image/png": "[encoded data removed]",
      "text/plain": [
       "<Figure size 720x360 with 2 Axes>"
      ]
     },
     "metadata": {
      "needs_background": "light"
     },
     "output_type": "display_data"
    }
   ],
   "source": [
    "model = Sequential()\n",
    "model.add(Dense(30, activation='relu', input_dim=64))\n",
    "\n",
    "# We can add L2 (or L1) regularization right into\n",
    "# the layer with the kernel_regularizer parameter.\n",
    "\n",
    "model.add(Dense(20, activation='relu',\n",
    "                kernel_regularizer=l2(l2=0.05)))\n",
    "\n",
    "# Note that there is also a bias_regularizer,\n",
    "# but this tends to have less effect.\n",
    "\n",
    "model.add(Dense(12, activation='relu'))\n",
    "model.add(Dense(12, activation='relu'))\n",
    "model.add(Dense(12, activation='relu'))\n",
    "model.add(Dense(8, activation='relu'))\n",
    "model.add(Dense(4, activation='relu'))\n",
    "model.add(Dense(1, activation ='sigmoid'))\n",
    "\n",
    "model.compile(optimizer='adam',\n",
    "              loss='binary_crossentropy',\n",
    "              metrics=['accuracy'])\n",
    "\n",
    "results = model.fit(X_pure_train, y_pure_train, epochs=20, batch_size=32,\n",
    "                    verbose=0, validation_data=(X_val, y_val))\n",
    "\n",
    "train_loss = results.history['loss']\n",
    "train_acc = results.history['accuracy']\n",
    "val_loss = results.history['val_loss']\n",
    "val_acc = results.history['val_accuracy']\n",
    "\n",
    "\n",
    "fig, (ax1, ax2) = plt.subplots(1, 2, figsize=(10, 5))\n",
    "sns.lineplot(x=results.epoch, y=train_loss, ax=ax1, label='train_loss')\n",
    "sns.lineplot(x=results.epoch, y=train_acc, ax=ax2, label='train_accuracy')\n",
    "\n",
    "sns.lineplot(x=results.epoch, y=val_loss, ax=ax1, label='val_loss')\n",
    "sns.lineplot(x=results.epoch, y=val_acc, ax=ax2, label='val_accuracy');"
   ]
  },
  {
   "cell_type": "markdown",
   "metadata": {},
   "source": [
    "Adding L2 to multiple layers:"
   ]
  },
  {
   "cell_type": "code",
   "execution_count": 26,
   "metadata": {
    "ExecuteTime": {
     "end_time": "2023-06-13T15:29:12.594122Z",
     "start_time": "2023-06-13T15:29:06.091124Z"
    }
   },
   "outputs": [
    {
     "data": {
      "image/png": "[encoded data removed]",
      "text/plain": [
       "<Figure size 720x360 with 2 Axes>"
      ]
     },
     "metadata": {
      "needs_background": "light"
     },
     "output_type": "display_data"
    }
   ],
   "source": [
    "model = Sequential()\n",
    "model.add(Dense(30, activation='relu',\n",
    "                input_dim=64))\n",
    "model.add(Dense(20, activation='relu',\n",
    "                kernel_regularizer=l2(l2=0.01)))\n",
    "\n",
    "model.add(Dense(12, activation='relu',\n",
    "                kernel_regularizer=l2(l2=0.01)))\n",
    "model.add(Dense(12, activation='relu',\n",
    "                kernel_regularizer=l2(l2=0.01)))\n",
    "model.add(Dense(12, activation='relu',\n",
    "                kernel_regularizer=l2(l2=0.01)))\n",
    "model.add(Dense(8, activation='relu',\n",
    "                kernel_regularizer=l2(l2=0.01)))\n",
    "model.add(Dense(4, activation='relu',\n",
    "                kernel_regularizer=l2(l2=0.01)))\n",
    "model.add(Dense(1, activation='sigmoid'))\n",
    "\n",
    "model.compile(optimizer='adam',\n",
    "              loss='binary_crossentropy',\n",
    "              metrics=['accuracy'])\n",
    "\n",
    "results = model.fit(X_pure_train, y_pure_train, epochs=20, batch_size=32,\n",
    "                    verbose=0, validation_data=(X_val, y_val))\n",
    "\n",
    "train_loss = results.history['loss']\n",
    "train_acc = results.history['accuracy']\n",
    "val_loss = results.history['val_loss']\n",
    "val_acc = results.history['val_accuracy']\n",
    "\n",
    "\n",
    "fig, (ax1, ax2) = plt.subplots(1, 2, figsize=(10, 5))\n",
    "sns.lineplot(x=results.epoch, y=train_loss, ax=ax1, label='train_loss')\n",
    "sns.lineplot(x=results.epoch, y=train_acc, ax=ax2, label='train_accuracy')\n",
    "\n",
    "sns.lineplot(x=results.epoch, y=val_loss, ax=ax1, label='val_loss')\n",
    "sns.lineplot(x=results.epoch, y=val_acc, ax=ax2, label='val_accuracy');"
   ]
  },
  {
   "cell_type": "markdown",
   "metadata": {},
   "source": [
    "### Dropout\n",
    "\n",
    "We can also specify a dropout layer in keras, which randomly shuts off different nodes during training. This can help to prevent overfitting.\n",
    "\n",
    "![drop_out](images/drop_out.png)"
   ]
  },
  {
   "cell_type": "markdown",
   "metadata": {},
   "source": [
    "### Exercise\n",
    "\n",
    "To add dropout to a `keras` network, simply add it as though it were a layer. It will apply to the immediately preceding layer.\n",
    "\n",
    "Add Dropout to one or more layers below."
   ]
  },
  {
   "cell_type": "code",
   "execution_count": 27,
   "metadata": {
    "ExecuteTime": {
     "end_time": "2023-06-13T15:33:11.320123Z",
     "start_time": "2023-06-13T15:32:57.653122Z"
    },
    "scrolled": false
   },
   "outputs": [
    {
     "data": {
      "image/png": "[encoded data removed]",
      "text/plain": [
       "<Figure size 720x360 with 2 Axes>"
      ]
     },
     "metadata": {
      "needs_background": "light"
     },
     "output_type": "display_data"
    }
   ],
   "source": [
    "# model.add(Dropout(0.5))\n",
    "\n",
    "model = Sequential()\n",
    "model.add(Dense(30, activation='relu', input_dim=64))\n",
    "model.add(Dense(20, activation='relu'))\n",
    "\n",
    "model.add(Dropout(0.5))\n",
    "\n",
    "model.add(Dense(12, activation='relu'))\n",
    "\n",
    "model.add(Dropout(0.2))\n",
    "\n",
    "model.add(Dense(12, activation='relu'))\n",
    "model.add(Dense(12, activation='relu'))\n",
    "model.add(Dense(8, activation='relu'))\n",
    "model.add(Dense(4, activation='relu'))\n",
    "model.add(Dense(1, activation ='sigmoid'))\n",
    "\n",
    "model.compile(optimizer='adam',\n",
    "              loss='binary_crossentropy',\n",
    "              metrics=['accuracy'])\n",
    "\n",
    "results = model.fit(X_pure_train, y_pure_train, epochs=50,\n",
    "                    batch_size= 32, verbose=0,\n",
    "                    validation_data=(X_val, y_val))\n",
    "\n",
    "\n",
    "\n",
    "\n",
    "\n",
    "\n",
    "\n",
    "\n",
    "train_loss = results.history['loss']\n",
    "train_acc = results.history['accuracy']\n",
    "val_loss = results.history['val_loss']\n",
    "val_acc = results.history['val_accuracy']\n",
    "\n",
    "\n",
    "fig, (ax1, ax2) = plt.subplots(1, 2, figsize=(10, 5))\n",
    "sns.lineplot(x=results.epoch, y=train_loss, ax=ax1, label='train_loss')\n",
    "sns.lineplot(x=results.epoch, y=train_acc, ax=ax2, label='train_accuracy')\n",
    "\n",
    "sns.lineplot(x=results.epoch, y=val_loss, ax=ax1, label='val_loss')\n",
    "sns.lineplot(x=results.epoch, y=val_acc, ax=ax2, label='val_accuracy');"
   ]
  },
  {
   "cell_type": "markdown",
   "metadata": {},
   "source": [
    "<details>\n",
    "    <summary>One answer here</summary>\n",
    "<code>model = Sequential()\n",
    "model.add(Dense(30, activation='relu', input_dim=64))\n",
    "model.add(Dense(20, activation='relu'))\n",
    "model.add(Dropout(0.5))\n",
    "model.add(Dense(12, activation='relu'))\n",
    "model.add(Dropout(0.2))\n",
    "model.add(Dense(12, activation='relu'))\n",
    "model.add(Dense(12, activation='relu'))\n",
    "model.add(Dense(8, activation='relu'))\n",
    "model.add(Dense(4, activation='relu'))\n",
    "model.add(Dense(1, activation ='sigmoid'))\n",
    "\n",
    "model.compile(optimizer='adam',\n",
    "              loss='binary_crossentropy',\n",
    "              metrics=['accuracy'])\n",
    "\n",
    "results = model.fit(X_pure_train, y_pure_train, epochs=50,\n",
    "                    batch_size= 32, verbose=0,\n",
    "                    validation_data=(X_val, y_val))\n",
    "\n",
    "train_loss = results.history['loss']\n",
    "train_acc = results.history['accuracy']\n",
    "val_loss = results.history['val_loss']\n",
    "val_acc = results.history['val_accuracy']\n",
    "\n",
    "\n",
    "fig, (ax1, ax2) = plt.subplots(1, 2, figsize=(10, 5))\n",
    "sns.lineplot(x=results.epoch, y=train_loss, ax=ax1, label='train_loss')\n",
    "sns.lineplot(x=results.epoch, y=train_acc, ax=ax2, label='train_accuracy')\n",
    "\n",
    "sns.lineplot(x=results.epoch, y=val_loss, ax=ax1, label='val_loss')\n",
    "sns.lineplot(x=results.epoch, y=val_acc, ax=ax2, label='val_accuracy');</code>\n",
    "</details>"
   ]
  },
  {
   "cell_type": "code",
   "execution_count": 28,
   "metadata": {
    "ExecuteTime": {
     "end_time": "2023-06-13T15:33:18.599123Z",
     "start_time": "2023-06-13T15:33:18.464123Z"
    }
   },
   "outputs": [
    {
     "data": {
      "text/plain": [
       "0.9722222089767456"
      ]
     },
     "execution_count": 28,
     "metadata": {},
     "output_type": "execute_result"
    }
   ],
   "source": [
    "results.history['val_accuracy'][-1]"
   ]
  },
  {
   "cell_type": "code",
   "execution_count": 29,
   "metadata": {
    "ExecuteTime": {
     "end_time": "2023-06-13T15:33:24.812122Z",
     "start_time": "2023-06-13T15:33:24.665122Z"
    }
   },
   "outputs": [
    {
     "data": {
      "text/plain": [
       "0.9817232489585876"
      ]
     },
     "execution_count": 29,
     "metadata": {},
     "output_type": "execute_result"
    }
   ],
   "source": [
    "results.history['accuracy'][-1]"
   ]
  },
  {
   "cell_type": "markdown",
   "metadata": {},
   "source": [
    "### Early Stopping"
   ]
  },
  {
   "cell_type": "markdown",
   "metadata": {},
   "source": [
    "We can also tell our neural network to stop once it stops realizing any gain.\n",
    "\n",
    "Here we tell it to stop once the a very small positive change in the validation loss occurs:"
   ]
  },
  {
   "cell_type": "code",
   "execution_count": 34,
   "metadata": {
    "ExecuteTime": {
     "end_time": "2023-06-13T15:37:59.879122Z",
     "start_time": "2023-06-13T15:37:57.858124Z"
    }
   },
   "outputs": [
    {
     "name": "stdout",
     "output_type": "stream",
     "text": [
      "Epoch 00002: early stopping\n"
     ]
    },
    {
     "data": {
      "image/png": "[encoded data removed]",
      "text/plain": [
       "<Figure size 720x360 with 2 Axes>"
      ]
     },
     "metadata": {
      "needs_background": "light"
     },
     "output_type": "display_data"
    }
   ],
   "source": [
    "model = Sequential()\n",
    "model.add(Dense(30, activation='relu', input_dim=64))\n",
    "model.add(Dense(20, activation='relu'))\n",
    "model.add(Dropout(0.5))\n",
    "model.add(Dense(12, activation='relu'))\n",
    "model.add(Dense(12, activation='relu'))\n",
    "model.add(Dense(12, activation='relu'))\n",
    "model.add(Dense(8, activation='relu'))\n",
    "model.add(Dense(4, activation='relu'))\n",
    "model.add(Dense(1, activation ='sigmoid'))\n",
    "\n",
    "model.compile(optimizer='adam',\n",
    "              loss='binary_crossentropy',\n",
    "              metrics=['accuracy'])\n",
    "\n",
    "# Define the EarlyStopping object\n",
    "early_stop = EarlyStopping(monitor='val_loss', min_delta=1e-4,\n",
    "                           verbose=1,\n",
    "                           mode='min')\n",
    "\n",
    "# Place this in a list as the value of the `callbacks` parameter\n",
    "# in the `.fit()` method.\n",
    "results = model.fit(X_pure_train, y_pure_train,\n",
    "                    epochs=20, batch_size=32,\n",
    "                    verbose=0, validation_data=(X_val, y_val),\n",
    "                    callbacks=[early_stop])\n",
    "\n",
    "train_loss = results.history['loss']\n",
    "train_acc = results.history['accuracy']\n",
    "val_loss = results.history['val_loss']\n",
    "val_acc = results.history['val_accuracy']\n",
    "\n",
    "\n",
    "fig, (ax1, ax2) = plt.subplots(1, 2, figsize=(10, 5))\n",
    "sns.lineplot(x=results.epoch, y=train_loss, ax=ax1, label='train_loss')\n",
    "sns.lineplot(x=results.epoch, y=train_acc, ax=ax2, label='train_accuracy')\n",
    "\n",
    "sns.lineplot(x=results.epoch, y=val_loss, ax=ax1, label='val_loss')\n",
    "sns.lineplot(x=results.epoch, y=val_acc, ax=ax2, label='val_accuracy');"
   ]
  },
  {
   "cell_type": "markdown",
   "metadata": {},
   "source": [
    "### Exercise\n",
    "\n",
    "That probably stopped too early. We can specify the number of epochs in which it doesn't see decrease in the loss with the `patience` parameter. Modify the code below to include an Early Stop with a patience of 5 epochs."
   ]
  },
  {
   "cell_type": "code",
   "execution_count": 35,
   "metadata": {
    "ExecuteTime": {
     "end_time": "2023-06-13T15:38:39.882122Z",
     "start_time": "2023-06-13T15:38:31.549124Z"
    }
   },
   "outputs": [
    {
     "name": "stdout",
     "output_type": "stream",
     "text": [
      "Epoch 00026: early stopping\n"
     ]
    },
    {
     "data": {
      "image/png": "[encoded data removed]",
      "text/plain": [
       "<Figure size 720x360 with 2 Axes>"
      ]
     },
     "metadata": {
      "needs_background": "light"
     },
     "output_type": "display_data"
    }
   ],
   "source": [
    "model = Sequential()\n",
    "model.add(Dense(30, activation='relu', input_dim=64))\n",
    "model.add(Dense(20, activation='relu'))\n",
    "model.add(Dropout(0.5))\n",
    "model.add(Dense(12, activation='relu'))\n",
    "model.add(Dense(12, activation='relu'))\n",
    "model.add(Dense(12, activation='relu'))\n",
    "model.add(Dense(8, activation='relu'))\n",
    "model.add(Dense(4, activation='relu'))\n",
    "model.add(Dense(1, activation ='sigmoid'))\n",
    "\n",
    "model.compile(optimizer='adam',\n",
    "              loss='binary_crossentropy',\n",
    "              metrics=['accuracy'])\n",
    "\n",
    "# Define the EarlyStopping object\n",
    "early_stop = EarlyStopping(monitor='val_loss', min_delta=1e-8,\n",
    "                           verbose=1, patience=5,\n",
    "                           mode='min')\n",
    "\n",
    "# Place this in a list as the value of the `callbacks` parameter\n",
    "# in the `.fit()` method.\n",
    "results = model.fit(X_pure_train, y_pure_train,\n",
    "                    epochs=50, batch_size= 32,\n",
    "                    verbose=0, validation_data=(X_val, y_val),\n",
    "                    callbacks=[early_stop])\n",
    "\n",
    "train_loss = results.history['loss']\n",
    "train_acc = results.history['accuracy']\n",
    "val_loss = results.history['val_loss']\n",
    "val_acc = results.history['val_accuracy']\n",
    "\n",
    "\n",
    "fig, (ax1, ax2) = plt.subplots(1, 2, figsize=(10, 5))\n",
    "sns.lineplot(x=results.epoch, y=train_loss, ax=ax1, label='train_loss')\n",
    "sns.lineplot(x=results.epoch, y=train_acc, ax=ax2, label='train_accuracy')\n",
    "\n",
    "sns.lineplot(x=results.epoch, y=val_loss, ax=ax1, label='val_loss')\n",
    "sns.lineplot(x=results.epoch, y=val_acc, ax=ax2, label='val_accuracy');"
   ]
  },
  {
   "cell_type": "markdown",
   "metadata": {},
   "source": [
    "<details>\n",
    "    <summary>One answer here</summary>\n",
    "<code>model = Sequential()\n",
    "model.add(Dense(30, activation='relu', input_dim=64))\n",
    "model.add(Dense(20, activation='relu'))\n",
    "model.add(Dropout(0.5))\n",
    "model.add(Dense(12, activation='relu'))\n",
    "model.add(Dense(12, activation='relu'))\n",
    "model.add(Dense(12, activation='relu'))\n",
    "model.add(Dense(8, activation='relu'))\n",
    "model.add(Dense(4, activation='relu'))\n",
    "model.add(Dense(1, activation ='sigmoid'))\n",
    "\n",
    "model.compile(optimizer='adam',\n",
    "              loss='binary_crossentropy',\n",
    "              metrics=['accuracy'])\n",
    "\n",
    "# Define the EarlyStopping object\n",
    "\n",
    "\n",
    "\n",
    "# Place this in a list as the value of the `callbacks` parameter\n",
    "# in the `.fit()` method.\n",
    "results = model.fit(X_pure_train, y_pure_train,\n",
    "                    epochs=50, batch_size= 32,\n",
    "                    verbose=0, validation_data=(X_val, y_val),\n",
    "                    callbacks=[early_stop])\n",
    "\n",
    "train_loss = results.history['loss']\n",
    "train_acc = results.history['accuracy']\n",
    "val_loss = results.history['val_loss']\n",
    "val_acc = results.history['val_accuracy']\n",
    "\n",
    "\n",
    "fig, (ax1, ax2) = plt.subplots(1, 2, figsize=(10, 5))\n",
    "sns.lineplot(x=results.epoch, y=train_loss, ax=ax1, label='train_loss')\n",
    "sns.lineplot(x=results.epoch, y=train_acc, ax=ax2, label='train_accuracy')\n",
    "\n",
    "sns.lineplot(x=results.epoch, y=val_loss, ax=ax1, label='val_loss')\n",
    "sns.lineplot(x=results.epoch, y=val_acc, ax=ax2, label='val_accuracy');</code>\n",
    "</details>"
   ]
  },
  {
   "cell_type": "code",
   "execution_count": 36,
   "metadata": {
    "ExecuteTime": {
     "end_time": "2023-06-13T15:39:10.706122Z",
     "start_time": "2023-06-13T15:39:10.557123Z"
    }
   },
   "outputs": [
    {
     "data": {
      "text/plain": [
       "0.9722222089767456"
      ]
     },
     "execution_count": 36,
     "metadata": {},
     "output_type": "execute_result"
    }
   ],
   "source": [
    "results.history['val_accuracy'][-1]"
   ]
  },
  {
   "cell_type": "code",
   "execution_count": 37,
   "metadata": {
    "ExecuteTime": {
     "end_time": "2023-06-13T15:39:18.722124Z",
     "start_time": "2023-06-13T15:39:18.586123Z"
    }
   },
   "outputs": [
    {
     "data": {
      "text/plain": [
       "0.9765012860298157"
      ]
     },
     "execution_count": 37,
     "metadata": {},
     "output_type": "execute_result"
    }
   ],
   "source": [
    "results.history['accuracy'][-1]"
   ]
  },
  {
   "cell_type": "markdown",
   "metadata": {},
   "source": [
    "## Multiclass Classification and Softmax"
   ]
  },
  {
   "cell_type": "markdown",
   "metadata": {},
   "source": [
    "Now let's return to the problem of predicting digits 0 through 9."
   ]
  },
  {
   "cell_type": "code",
   "execution_count": 43,
   "metadata": {
    "ExecuteTime": {
     "end_time": "2023-06-13T15:40:51.457125Z",
     "start_time": "2023-06-13T15:40:51.283121Z"
    }
   },
   "outputs": [],
   "source": [
    "digits = load_digits()\n",
    "X = digits.data\n",
    "y = digits.target"
   ]
  },
  {
   "cell_type": "code",
   "execution_count": 44,
   "metadata": {
    "ExecuteTime": {
     "end_time": "2023-06-13T15:40:52.015129Z",
     "start_time": "2023-06-13T15:40:51.802127Z"
    }
   },
   "outputs": [],
   "source": [
    "X_train, X_test, y_train, y_test = train_test_split(X, y,\n",
    "                                                    random_state=42,\n",
    "                                                    test_size=0.2)\n",
    "X_pure_train, X_val, y_pure_train, y_val =\\\n",
    "    train_test_split(X_train, y_train,\n",
    "                     random_state=42, test_size=0.2)\n",
    "X_pure_train, X_val, X_test = X_pure_train/16, X_val/16, X_test/16"
   ]
  },
  {
   "cell_type": "markdown",
   "metadata": {},
   "source": [
    "For a multiclass output, our neural net expects our target to be in a certain form."
   ]
  },
  {
   "cell_type": "code",
   "execution_count": 45,
   "metadata": {
    "ExecuteTime": {
     "end_time": "2023-06-13T15:40:57.647122Z",
     "start_time": "2023-06-13T15:40:57.519122Z"
    }
   },
   "outputs": [
    {
     "data": {
      "text/plain": [
       "6"
      ]
     },
     "execution_count": 45,
     "metadata": {},
     "output_type": "execute_result"
    }
   ],
   "source": [
    "y_test[0]"
   ]
  },
  {
   "cell_type": "code",
   "execution_count": 46,
   "metadata": {
    "ExecuteTime": {
     "end_time": "2023-06-13T15:40:58.722122Z",
     "start_time": "2023-06-13T15:40:58.579122Z"
    }
   },
   "outputs": [],
   "source": [
    "ohe = OneHotEncoder(sparse=False)\n",
    "y_pure_train = ohe.fit_transform(y_pure_train.reshape(-1,1))\n",
    "y_val = ohe.transform(y_val.reshape(-1,1))\n",
    "y_test = ohe.transform(y_test.reshape(-1,1))"
   ]
  },
  {
   "cell_type": "code",
   "execution_count": 47,
   "metadata": {
    "ExecuteTime": {
     "end_time": "2023-06-13T15:40:59.385121Z",
     "start_time": "2023-06-13T15:40:59.232122Z"
    }
   },
   "outputs": [
    {
     "data": {
      "text/plain": [
       "array([0., 0., 0., 0., 0., 0., 1., 0., 0., 0.])"
      ]
     },
     "execution_count": 47,
     "metadata": {},
     "output_type": "execute_result"
    }
   ],
   "source": [
    "y_test[0]"
   ]
  },
  {
   "cell_type": "code",
   "execution_count": 56,
   "metadata": {
    "ExecuteTime": {
     "end_time": "2023-06-13T15:46:48.479163Z",
     "start_time": "2023-06-13T15:46:09.054163Z"
    }
   },
   "outputs": [
    {
     "name": "stdout",
     "output_type": "stream",
     "text": [
      "Epoch 1/50\n",
      "115/115 [==============================] - 2s 9ms/step - loss: 2.2270 - accuracy: 0.2176 - precision: 0.0000e+00 - val_loss: 2.1318 - val_accuracy: 0.2535 - val_precision: 0.0000e+00\n",
      "Epoch 2/50\n",
      "115/115 [==============================] - 1s 7ms/step - loss: 1.9057 - accuracy: 0.3168 - precision: 1.0000 - val_loss: 1.7368 - val_accuracy: 0.3993 - val_precision: 1.0000\n",
      "Epoch 3/50\n",
      "115/115 [==============================] - 1s 8ms/step - loss: 1.4786 - accuracy: 0.5474 - precision: 0.9895 - val_loss: 1.3260 - val_accuracy: 0.6736 - val_precision: 1.0000\n",
      "Epoch 4/50\n",
      "115/115 [==============================] - ETA: 0s - loss: 1.1177 - accuracy: 0.7179 - precision: 0.98 - 1s 7ms/step - loss: 1.1145 - accuracy: 0.7198 - precision: 0.9830 - val_loss: 1.0379 - val_accuracy: 0.7431 - val_precision: 0.9615\n",
      "Epoch 5/50\n",
      "115/115 [==============================] - 1s 7ms/step - loss: 0.8640 - accuracy: 0.7876 - precision: 0.9488 - val_loss: 0.8486 - val_accuracy: 0.7639 - val_precision: 0.9586\n",
      "Epoch 6/50\n",
      "115/115 [==============================] - 1s 9ms/step - loss: 0.7050 - accuracy: 0.8190 - precision: 0.9464 - val_loss: 0.7193 - val_accuracy: 0.7847 - val_precision: 0.9617\n",
      "Epoch 7/50\n",
      "115/115 [==============================] - 1s 8ms/step - loss: 0.5947 - accuracy: 0.8460 - precision: 0.9330 - val_loss: 0.6147 - val_accuracy: 0.8368 - val_precision: 0.9390\n",
      "Epoch 8/50\n",
      "115/115 [==============================] - 1s 7ms/step - loss: 0.5151 - accuracy: 0.8677 - precision: 0.9385 - val_loss: 0.5496 - val_accuracy: 0.8542 - val_precision: 0.9277\n",
      "Epoch 9/50\n",
      "115/115 [==============================] - 1s 6ms/step - loss: 0.4584 - accuracy: 0.8747 - precision: 0.9406 - val_loss: 0.5079 - val_accuracy: 0.8472 - val_precision: 0.9212\n",
      "Epoch 10/50\n",
      "115/115 [==============================] - 1s 7ms/step - loss: 0.4096 - accuracy: 0.8877 - precision: 0.9475 - val_loss: 0.4831 - val_accuracy: 0.8403 - val_precision: 0.9153\n",
      "Epoch 11/50\n",
      "115/115 [==============================] - 1s 7ms/step - loss: 0.3692 - accuracy: 0.9017 - precision: 0.9413 - val_loss: 0.4439 - val_accuracy: 0.8681 - val_precision: 0.9355\n",
      "Epoch 12/50\n",
      "115/115 [==============================] - ETA: 0s - loss: 0.3418 - accuracy: 0.9082 - precision: 0.94 - 1s 6ms/step - loss: 0.3417 - accuracy: 0.9095 - precision: 0.9424 - val_loss: 0.4028 - val_accuracy: 0.8889 - val_precision: 0.9336\n",
      "Epoch 13/50\n",
      "115/115 [==============================] - 1s 7ms/step - loss: 0.3147 - accuracy: 0.9043 - precision: 0.9460 - val_loss: 0.3812 - val_accuracy: 0.8750 - val_precision: 0.9160\n",
      "Epoch 14/50\n",
      "115/115 [==============================] - 1s 9ms/step - loss: 0.2938 - accuracy: 0.9243 - precision: 0.9541 - val_loss: 0.3593 - val_accuracy: 0.8854 - val_precision: 0.9242\n",
      "Epoch 15/50\n",
      "115/115 [==============================] - 1s 11ms/step - loss: 0.2747 - accuracy: 0.9304 - precision: 0.9554 - val_loss: 0.3454 - val_accuracy: 0.9062 - val_precision: 0.9288\n",
      "Epoch 16/50\n",
      "115/115 [==============================] - 1s 7ms/step - loss: 0.2567 - accuracy: 0.9365 - precision: 0.9546 - val_loss: 0.3258 - val_accuracy: 0.8993 - val_precision: 0.9231\n",
      "Epoch 17/50\n",
      "115/115 [==============================] - 1s 7ms/step - loss: 0.2450 - accuracy: 0.9365 - precision: 0.9568 - val_loss: 0.3223 - val_accuracy: 0.9097 - val_precision: 0.9309\n",
      "Epoch 18/50\n",
      "115/115 [==============================] - 1s 7ms/step - loss: 0.2317 - accuracy: 0.9391 - precision: 0.9625 - val_loss: 0.3114 - val_accuracy: 0.8993 - val_precision: 0.9134\n",
      "Epoch 19/50\n",
      "115/115 [==============================] - 1s 7ms/step - loss: 0.2205 - accuracy: 0.9434 - precision: 0.9620 - val_loss: 0.2867 - val_accuracy: 0.9062 - val_precision: 0.9312\n",
      "Epoch 20/50\n",
      "115/115 [==============================] - 1s 7ms/step - loss: 0.2060 - accuracy: 0.9521 - precision: 0.9649 - val_loss: 0.2915 - val_accuracy: 0.9028 - val_precision: 0.9236\n",
      "Epoch 21/50\n",
      "115/115 [==============================] - 1s 6ms/step - loss: 0.1991 - accuracy: 0.9443 - precision: 0.9612 - val_loss: 0.2785 - val_accuracy: 0.9062 - val_precision: 0.9275\n",
      "Epoch 22/50\n",
      "115/115 [==============================] - 1s 6ms/step - loss: 0.1916 - accuracy: 0.9530 - precision: 0.9677 - val_loss: 0.2633 - val_accuracy: 0.9097 - val_precision: 0.9353\n",
      "Epoch 23/50\n",
      "115/115 [==============================] - 1s 6ms/step - loss: 0.1831 - accuracy: 0.9478 - precision: 0.9616 - val_loss: 0.2654 - val_accuracy: 0.9132 - val_precision: 0.9355\n",
      "Epoch 24/50\n",
      "115/115 [==============================] - 1s 6ms/step - loss: 0.1762 - accuracy: 0.9530 - precision: 0.9651 - val_loss: 0.2445 - val_accuracy: 0.9167 - val_precision: 0.9283\n",
      "Epoch 25/50\n",
      "115/115 [==============================] - 1s 6ms/step - loss: 0.1742 - accuracy: 0.9556 - precision: 0.9627 - val_loss: 0.2588 - val_accuracy: 0.9201 - val_precision: 0.9281\n",
      "Epoch 26/50\n",
      "115/115 [==============================] - 1s 7ms/step - loss: 0.1621 - accuracy: 0.9600 - precision: 0.9681 - val_loss: 0.2558 - val_accuracy: 0.9097 - val_precision: 0.9321\n",
      "Epoch 27/50\n",
      "115/115 [==============================] - 1s 6ms/step - loss: 0.1567 - accuracy: 0.9600 - precision: 0.9673 - val_loss: 0.2395 - val_accuracy: 0.9271 - val_precision: 0.9321\n",
      "Epoch 28/50\n",
      "115/115 [==============================] - 1s 6ms/step - loss: 0.1547 - accuracy: 0.9582 - precision: 0.9680 - val_loss: 0.2217 - val_accuracy: 0.9201 - val_precision: 0.9391\n",
      "Epoch 29/50\n",
      "115/115 [==============================] - 1s 6ms/step - loss: 0.1486 - accuracy: 0.9634 - precision: 0.9708 - val_loss: 0.2265 - val_accuracy: 0.9236 - val_precision: 0.9427\n",
      "Epoch 30/50\n",
      "115/115 [==============================] - 1s 6ms/step - loss: 0.1449 - accuracy: 0.9574 - precision: 0.9639 - val_loss: 0.2192 - val_accuracy: 0.9271 - val_precision: 0.9433\n",
      "Epoch 31/50\n",
      "115/115 [==============================] - 1s 7ms/step - loss: 0.1387 - accuracy: 0.9652 - precision: 0.9700 - val_loss: 0.2186 - val_accuracy: 0.9236 - val_precision: 0.9329\n",
      "Epoch 32/50\n",
      "115/115 [==============================] - 1s 6ms/step - loss: 0.1345 - accuracy: 0.9652 - precision: 0.9726 - val_loss: 0.2075 - val_accuracy: 0.9306 - val_precision: 0.9466\n",
      "Epoch 33/50\n",
      "115/115 [==============================] - 1s 6ms/step - loss: 0.1299 - accuracy: 0.9661 - precision: 0.9718 - val_loss: 0.2096 - val_accuracy: 0.9306 - val_precision: 0.9364\n",
      "Epoch 34/50\n",
      "115/115 [==============================] - 1s 6ms/step - loss: 0.1281 - accuracy: 0.9695 - precision: 0.9753 - val_loss: 0.2119 - val_accuracy: 0.9201 - val_precision: 0.9357\n",
      "Epoch 35/50\n",
      "115/115 [==============================] - 1s 6ms/step - loss: 0.1271 - accuracy: 0.9678 - precision: 0.9728 - val_loss: 0.1945 - val_accuracy: 0.9306 - val_precision: 0.9431\n",
      "Epoch 36/50\n",
      "115/115 [==============================] - 1s 5ms/step - loss: 0.1225 - accuracy: 0.9661 - precision: 0.9719 - val_loss: 0.1962 - val_accuracy: 0.9340 - val_precision: 0.9397\n",
      "Epoch 37/50\n",
      "115/115 [==============================] - 1s 6ms/step - loss: 0.1182 - accuracy: 0.9739 - precision: 0.9763 - val_loss: 0.1848 - val_accuracy: 0.9375 - val_precision: 0.9470\n",
      "Epoch 38/50\n",
      "115/115 [==============================] - 1s 6ms/step - loss: 0.1151 - accuracy: 0.9721 - precision: 0.9745 - val_loss: 0.1965 - val_accuracy: 0.9271 - val_precision: 0.9359\n",
      "Epoch 39/50\n",
      "115/115 [==============================] - 1s 6ms/step - loss: 0.1125 - accuracy: 0.9739 - precision: 0.9780 - val_loss: 0.1958 - val_accuracy: 0.9306 - val_precision: 0.9433\n",
      "Epoch 40/50\n",
      "115/115 [==============================] - 1s 6ms/step - loss: 0.1089 - accuracy: 0.9730 - precision: 0.9763 - val_loss: 0.1882 - val_accuracy: 0.9340 - val_precision: 0.9435\n",
      "Epoch 41/50\n",
      "115/115 [==============================] - 1s 6ms/step - loss: 0.1077 - accuracy: 0.9704 - precision: 0.9754 - val_loss: 0.1812 - val_accuracy: 0.9410 - val_precision: 0.9437\n",
      "Epoch 42/50\n",
      "115/115 [==============================] - 1s 6ms/step - loss: 0.1027 - accuracy: 0.9765 - precision: 0.9781 - val_loss: 0.1829 - val_accuracy: 0.9306 - val_precision: 0.9431\n",
      "Epoch 43/50\n",
      "115/115 [==============================] - 1s 6ms/step - loss: 0.1024 - accuracy: 0.9748 - precision: 0.9772 - val_loss: 0.1855 - val_accuracy: 0.9410 - val_precision: 0.9507\n",
      "Epoch 44/50\n"
     ]
    },
    {
     "name": "stdout",
     "output_type": "stream",
     "text": [
      "115/115 [==============================] - 1s 7ms/step - loss: 0.1000 - accuracy: 0.9748 - precision: 0.9789 - val_loss: 0.1884 - val_accuracy: 0.9306 - val_precision: 0.9399\n",
      "Epoch 45/50\n",
      "115/115 [==============================] - 1s 6ms/step - loss: 0.0976 - accuracy: 0.9721 - precision: 0.9746 - val_loss: 0.1740 - val_accuracy: 0.9375 - val_precision: 0.9470\n",
      "Epoch 46/50\n",
      "115/115 [==============================] - 1s 6ms/step - loss: 0.0937 - accuracy: 0.9791 - precision: 0.9834 - val_loss: 0.1782 - val_accuracy: 0.9375 - val_precision: 0.9406\n",
      "Epoch 47/50\n",
      "115/115 [==============================] - 1s 6ms/step - loss: 0.0907 - accuracy: 0.9791 - precision: 0.9816 - val_loss: 0.1676 - val_accuracy: 0.9375 - val_precision: 0.9401\n",
      "Epoch 48/50\n",
      "115/115 [==============================] - 1s 6ms/step - loss: 0.0918 - accuracy: 0.9774 - precision: 0.9799 - val_loss: 0.1709 - val_accuracy: 0.9340 - val_precision: 0.9470\n",
      "Epoch 49/50\n",
      "115/115 [==============================] - 1s 6ms/step - loss: 0.0894 - accuracy: 0.9791 - precision: 0.9807 - val_loss: 0.1870 - val_accuracy: 0.9271 - val_precision: 0.9500\n",
      "Epoch 50/50\n",
      "115/115 [==============================] - 1s 6ms/step - loss: 0.0850 - accuracy: 0.9774 - precision: 0.9808 - val_loss: 0.1674 - val_accuracy: 0.9410 - val_precision: 0.9470\n"
     ]
    }
   ],
   "source": [
    "# Model from above, but now with ten output neurons:\n",
    "\n",
    "model = Sequential()\n",
    "model.add(Dense(12, activation='relu', input_dim=64))\n",
    "model.add(Dense(8, activation='relu'))\n",
    "model.add(Dense(10, activation='softmax'))\n",
    "\n",
    "model.compile(optimizer='adam',\n",
    "              loss='categorical_crossentropy',\n",
    "              metrics=['accuracy', Precision()])\n",
    "\n",
    "results = model.fit(X_pure_train, y_pure_train,\n",
    "                   epochs=50, batch_size=10,\n",
    "                   validation_data=(X_val, y_val))"
   ]
  },
  {
   "cell_type": "markdown",
   "metadata": {},
   "source": [
    "$$\\large \\text{Softmax}(x_{i}) = \\frac{\\exp(x_i)}{\\sum_j \\exp(x_j)}$$\n",
    "\n",
    "The sofmax function outputs a number between 0 and 1 for each of our classes.  All of the probabilities of the classes sum up to 1.\n",
    "\n",
    "The number of nodes in our output layer equals the number of categories in our dataset.\n",
    "\n",
    "We also need a new loss function: **categorical crossentropy**, which calculates a separate loss for each label and then sums the results."
   ]
  },
  {
   "cell_type": "code",
   "execution_count": 49,
   "metadata": {
    "ExecuteTime": {
     "end_time": "2023-06-13T15:42:46.342122Z",
     "start_time": "2023-06-13T15:42:46.195122Z"
    }
   },
   "outputs": [],
   "source": [
    "history = results.history\n",
    "training_loss = history['loss']\n",
    "val_loss = history['val_loss']\n",
    "training_accuracy = history['accuracy']\n",
    "val_accuracy = history['val_accuracy']"
   ]
  },
  {
   "cell_type": "code",
   "execution_count": 50,
   "metadata": {
    "ExecuteTime": {
     "end_time": "2023-06-13T15:42:48.682121Z",
     "start_time": "2023-06-13T15:42:48.244123Z"
    }
   },
   "outputs": [
    {
     "data": {
      "image/png": "[encoded data removed]",
      "text/plain": [
       "<Figure size 1080x360 with 2 Axes>"
      ]
     },
     "metadata": {
      "needs_background": "light"
     },
     "output_type": "display_data"
    }
   ],
   "source": [
    "fig, (ax1,ax2) = plt.subplots(1,2,figsize=(15,5))\n",
    "\n",
    "\n",
    "sns.lineplot(x=list(range(len(training_loss))),\n",
    "             y=training_loss, color='r', label='training', ax=ax1)\n",
    "sns.lineplot(x=list(range(len(val_loss))),\n",
    "             y=val_loss, color='b', label='validation', ax=ax1)\n",
    "sns.lineplot(x=list(range(len(training_loss))),\n",
    "             y=training_accuracy, color='r', label='training',ax=ax2)\n",
    "sns.lineplot(x=list(range(len(val_loss))),\n",
    "             y=val_accuracy, color='b', label='validation',ax=ax2)\n",
    "ax1.legend();"
   ]
  },
  {
   "cell_type": "code",
   "execution_count": 51,
   "metadata": {
    "ExecuteTime": {
     "end_time": "2023-06-13T15:42:56.863122Z",
     "start_time": "2023-06-13T15:42:56.602125Z"
    }
   },
   "outputs": [],
   "source": [
    "y_hat_test = np.argmax(model.predict(X_test), axis=-1)"
   ]
  },
  {
   "cell_type": "code",
   "execution_count": 52,
   "metadata": {
    "ExecuteTime": {
     "end_time": "2023-06-13T15:42:57.604125Z",
     "start_time": "2023-06-13T15:42:57.462125Z"
    }
   },
   "outputs": [
    {
     "data": {
      "text/plain": [
       "array([[31,  0,  0,  0,  1,  1,  0,  0,  0,  0],\n",
       "       [ 0, 27,  1,  0,  0,  0,  0,  0,  0,  0],\n",
       "       [ 0,  1, 31,  1,  0,  0,  0,  0,  0,  0],\n",
       "       [ 0,  0,  0, 33,  0,  1,  0,  0,  0,  0],\n",
       "       [ 0,  1,  0,  0, 45,  0,  0,  0,  0,  0],\n",
       "       [ 0,  0,  0,  0,  0, 45,  0,  0,  1,  1],\n",
       "       [ 1,  0,  0,  0,  0,  0, 34,  0,  0,  0],\n",
       "       [ 0,  0,  0,  0,  0,  1,  0, 33,  0,  0],\n",
       "       [ 0,  1,  0,  0,  0,  1,  0,  0, 28,  0],\n",
       "       [ 0,  1,  0,  4,  0,  0,  0,  2,  0, 33]], dtype=int64)"
      ]
     },
     "execution_count": 52,
     "metadata": {},
     "output_type": "execute_result"
    }
   ],
   "source": [
    "y_test_restore = ohe.inverse_transform(y_test)\n",
    "confusion_matrix(y_test_restore, y_hat_test)"
   ]
  },
  {
   "cell_type": "markdown",
   "metadata": {},
   "source": [
    "Wow, look at that performance!  \n",
    "\n",
    "That is great, but remember, we were dealing with simple black and white images.  With color, our basic neural net will have less success.\n",
    "\n",
    "We will explore more advanced tools in the coming days.\n"
   ]
  }
 ],
 "metadata": {
  "celltoolbar": "Raw Cell Format",
  "colab": {
   "collapsed_sections": [],
   "name": "intro-to-keras.ipynb",
   "provenance": []
  },
  "kernelspec": {
   "display_name": "tf-gpu",
   "language": "python",
   "name": "tf-gpu"
  },
  "language_info": {
   "codemirror_mode": {
    "name": "ipython",
    "version": 3
   },
   "file_extension": ".py",
   "mimetype": "text/x-python",
   "name": "python",
   "nbconvert_exporter": "python",
   "pygments_lexer": "ipython3",
   "version": "3.9.9"
  },
  "toc": {
   "base_numbering": 1,
   "nav_menu": {},
   "number_sections": true,
   "sideBar": true,
   "skip_h1_title": false,
   "title_cell": "Table of Contents",
   "title_sidebar": "Contents",
   "toc_cell": false,
   "toc_position": {},
   "toc_section_display": true,
   "toc_window_display": false
  },
  "varInspector": {
   "cols": {
    "lenName": 16,
    "lenType": 16,
    "lenVar": 40
   },
   "kernels_config": {
    "python": {
     "delete_cmd_postfix": "",
     "delete_cmd_prefix": "del ",
     "library": "var_list.py",
     "varRefreshCmd": "print(var_dic_list())"
    },
    "r": {
     "delete_cmd_postfix": ") ",
     "delete_cmd_prefix": "rm(",
     "library": "var_list.r",
     "varRefreshCmd": "cat(var_dic_list()) "
    }
   },
   "types_to_exclude": [
    "module",
    "function",
    "builtin_function_or_method",
    "instance",
    "_Feature"
   ],
   "window_display": false
  }
 },
 "nbformat": 4,
 "nbformat_minor": 4
}
