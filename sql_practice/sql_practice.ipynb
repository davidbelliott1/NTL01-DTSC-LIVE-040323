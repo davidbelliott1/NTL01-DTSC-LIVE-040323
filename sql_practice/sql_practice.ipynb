{
 "cells": [
  {
   "cell_type": "code",
   "execution_count": null,
   "metadata": {
    "ExecuteTime": {
     "end_time": "2023-07-10T05:58:04.553308Z",
     "start_time": "2023-07-10T05:58:04.296926Z"
    }
   },
   "outputs": [],
   "source": [
    "import sqlite3\n",
    "import pandas as pd"
   ]
  },
  {
   "cell_type": "code",
   "execution_count": null,
   "metadata": {
    "ExecuteTime": {
     "end_time": "2023-07-10T05:58:05.301987Z",
     "start_time": "2023-07-10T05:58:05.292987Z"
    }
   },
   "outputs": [],
   "source": [
    "# Create Connection\n",
    "con = sqlite3.connect('./data/Chinook_Sqlite.sqlite')"
   ]
  },
  {
   "cell_type": "code",
   "execution_count": null,
   "metadata": {
    "ExecuteTime": {
     "end_time": "2023-07-10T05:58:06.063362Z",
     "start_time": "2023-07-10T05:58:06.056364Z"
    }
   },
   "outputs": [],
   "source": [
    "# Create Cursor\n",
    "cursor = con.cursor()"
   ]
  },
  {
   "cell_type": "code",
   "execution_count": null,
   "metadata": {
    "ExecuteTime": {
     "end_time": "2023-07-10T05:58:06.781382Z",
     "start_time": "2023-07-10T05:58:06.773354Z"
    }
   },
   "outputs": [],
   "source": [
    "# Create Query\n",
    "album_count = \"\"\"\n",
    "SELECT COUNT()\n",
    "FROM Album\n",
    "\"\"\""
   ]
  },
  {
   "cell_type": "code",
   "execution_count": null,
   "metadata": {
    "ExecuteTime": {
     "end_time": "2023-07-10T05:58:07.894455Z",
     "start_time": "2023-07-10T05:58:07.873427Z"
    }
   },
   "outputs": [],
   "source": [
    "# Execute Query\n",
    "cursor.execute(album_count)"
   ]
  },
  {
   "cell_type": "code",
   "execution_count": null,
   "metadata": {
    "ExecuteTime": {
     "end_time": "2023-07-10T05:58:09.918838Z",
     "start_time": "2023-07-10T05:58:09.900852Z"
    }
   },
   "outputs": [],
   "source": [
    "# Return Query\n",
    "count = cursor.fetchall()"
   ]
  },
  {
   "cell_type": "code",
   "execution_count": null,
   "metadata": {
    "ExecuteTime": {
     "end_time": "2023-07-10T05:58:11.190421Z",
     "start_time": "2023-07-10T05:58:11.173421Z"
    }
   },
   "outputs": [],
   "source": [
    "print(type(count))\n",
    "count"
   ]
  },
  {
   "cell_type": "code",
   "execution_count": null,
   "metadata": {
    "ExecuteTime": {
     "end_time": "2023-07-10T05:58:13.378810Z",
     "start_time": "2023-07-10T05:58:13.364810Z"
    }
   },
   "outputs": [],
   "source": [
    "# Quick helper function\n",
    "def return_query(query, cursor):\n",
    "    cursor.execute(query)\n",
    "    return cursor.fetchall()"
   ]
  },
  {
   "cell_type": "code",
   "execution_count": null,
   "metadata": {
    "ExecuteTime": {
     "end_time": "2023-07-10T05:58:24.734834Z",
     "start_time": "2023-07-10T05:58:24.732833Z"
    }
   },
   "outputs": [],
   "source": [
    "album_query = \"\"\"\n",
    "SELECT *\n",
    "FROM Album\n",
    "\"\"\""
   ]
  },
  {
   "cell_type": "code",
   "execution_count": null,
   "metadata": {
    "ExecuteTime": {
     "end_time": "2023-07-10T05:58:26.107041Z",
     "start_time": "2023-07-10T05:58:26.077012Z"
    }
   },
   "outputs": [],
   "source": [
    "al_list = return_query(album_query, cursor)\n",
    "al_list"
   ]
  },
  {
   "cell_type": "code",
   "execution_count": null,
   "metadata": {
    "ExecuteTime": {
     "end_time": "2023-07-10T05:56:42.317687Z",
     "start_time": "2023-07-10T05:56:42.310661Z"
    }
   },
   "outputs": [],
   "source": [
    "# A reminder of how to read into pandas"
   ]
  },
  {
   "cell_type": "code",
   "execution_count": null,
   "metadata": {
    "ExecuteTime": {
     "end_time": "2023-07-10T05:58:32.894029Z",
     "start_time": "2023-07-10T05:58:32.777323Z"
    }
   },
   "outputs": [],
   "source": [
    "albums_df = pd.read_sql(album_query, con)\n",
    "\n",
    "albums_df\n"
   ]
  },
  {
   "cell_type": "code",
   "execution_count": null,
   "metadata": {
    "ExecuteTime": {
     "end_time": "2023-07-10T05:58:33.873646Z",
     "start_time": "2023-07-10T05:58:33.856646Z"
    }
   },
   "outputs": [],
   "source": [
    "al_list[0]"
   ]
  },
  {
   "cell_type": "code",
   "execution_count": null,
   "metadata": {
    "ExecuteTime": {
     "end_time": "2023-07-10T05:58:36.066865Z",
     "start_time": "2023-07-10T05:58:36.056839Z"
    }
   },
   "outputs": [],
   "source": [
    "al_list[0][1]"
   ]
  },
  {
   "cell_type": "code",
   "execution_count": null,
   "metadata": {
    "ExecuteTime": {
     "end_time": "2023-07-10T05:58:37.389179Z",
     "start_time": "2023-07-10T05:58:37.373208Z"
    }
   },
   "outputs": [],
   "source": [
    "# Schema!\n",
    "schema_df = pd.read_sql(\"\"\"\n",
    "\n",
    "SELECT *\n",
    "FROM sqlite_master\n",
    "\n",
    "\"\"\", con)\n",
    "\n",
    "schema_df"
   ]
  },
  {
   "cell_type": "code",
   "execution_count": null,
   "metadata": {
    "ExecuteTime": {
     "end_time": "2023-07-10T05:58:45.399459Z",
     "start_time": "2023-07-10T05:58:45.381491Z"
    }
   },
   "outputs": [],
   "source": [
    "name_list = list(schema_df[ schema_df['type'] == 'table']['name'].values)"
   ]
  },
  {
   "cell_type": "code",
   "execution_count": null,
   "metadata": {
    "ExecuteTime": {
     "end_time": "2023-07-10T05:58:45.812159Z",
     "start_time": "2023-07-10T05:58:45.797125Z"
    }
   },
   "outputs": [],
   "source": [
    "name_list"
   ]
  },
  {
   "cell_type": "code",
   "execution_count": null,
   "metadata": {
    "ExecuteTime": {
     "end_time": "2023-07-10T05:58:46.430825Z",
     "start_time": "2023-07-10T05:58:46.380826Z"
    }
   },
   "outputs": [],
   "source": [
    "# This will create a new dataframe for each table in the database. This allows for easy exploration of the data.\n",
    "# First, create the query with the format statement\n",
    "# Create a temporary table with the pd.read_sql\n",
    "# Create the variable name by concatenating the table name and '_df'\n",
    "# Use the globals() to access the table_df name and assign the the temp df to it\n",
    "\n",
    "for name in name_list:\n",
    "    \n",
    "    query = 'SELECT * from {}'.format(name)\n",
    "    table_df = pd.read_sql(query, con)\n",
    "    df_name=name+'_df'\n",
    "    globals()[df_name]=table_df"
   ]
  },
  {
   "cell_type": "code",
   "execution_count": null,
   "metadata": {
    "ExecuteTime": {
     "end_time": "2023-07-10T05:58:51.333775Z",
     "start_time": "2023-07-10T05:58:51.320751Z"
    }
   },
   "outputs": [],
   "source": [
    "# Create a list of dataframe names\n",
    "df_list = [name+'_df' for name in name_list]"
   ]
  },
  {
   "cell_type": "code",
   "execution_count": null,
   "metadata": {
    "ExecuteTime": {
     "end_time": "2023-07-10T05:58:51.904704Z",
     "start_time": "2023-07-10T05:58:51.831704Z"
    },
    "scrolled": false
   },
   "outputs": [],
   "source": [
    "# Print out all the tables to provide a reference\n",
    "# Please note that the exec() command is a rather powerful tool, and should be used lightly\n",
    "\n",
    "for df in df_list:\n",
    "    command = 'display({}.head())'.format(df)\n",
    "    print(f'Table {df}')\n",
    "    exec(command)"
   ]
  },
  {
   "cell_type": "code",
   "execution_count": null,
   "metadata": {},
   "outputs": [],
   "source": [
    "# Create a dataframe with a count of each table and the table name"
   ]
  },
  {
   "cell_type": "code",
   "execution_count": null,
   "metadata": {},
   "outputs": [],
   "source": [
    "# Which Customer_id has the largest number of invoices?"
   ]
  },
  {
   "cell_type": "code",
   "execution_count": null,
   "metadata": {},
   "outputs": [],
   "source": [
    "# What Song is most often purchased"
   ]
  },
  {
   "cell_type": "code",
   "execution_count": null,
   "metadata": {},
   "outputs": [],
   "source": [
    "# What is the average price of a track?"
   ]
  },
  {
   "cell_type": "code",
   "execution_count": null,
   "metadata": {},
   "outputs": [],
   "source": [
    "# Which employee has the most direct reports?"
   ]
  },
  {
   "cell_type": "code",
   "execution_count": null,
   "metadata": {},
   "outputs": [],
   "source": [
    "# In what city does the customer with the largest purchase amount live?"
   ]
  },
  {
   "cell_type": "code",
   "execution_count": null,
   "metadata": {},
   "outputs": [],
   "source": [
    "# What country has the largest about of customers?"
   ]
  },
  {
   "cell_type": "code",
   "execution_count": null,
   "metadata": {},
   "outputs": [],
   "source": [
    "# What is the most popular song by country?\n",
    "\n",
    "# Who is the artist?"
   ]
  },
  {
   "cell_type": "code",
   "execution_count": null,
   "metadata": {},
   "outputs": [],
   "source": [
    "# What is the most common artist by playlist? \n",
    "\n",
    "# What is the name of their most popular song?\n"
   ]
  },
  {
   "cell_type": "code",
   "execution_count": null,
   "metadata": {},
   "outputs": [],
   "source": [
    "# What song is in the most playlists?\n",
    "\n",
    "# Who is the artist?"
   ]
  },
  {
   "cell_type": "code",
   "execution_count": null,
   "metadata": {},
   "outputs": [],
   "source": [
    "# What song is in the most playlists\n",
    "\n",
    "# Who is the artist?"
   ]
  },
  {
   "cell_type": "code",
   "execution_count": null,
   "metadata": {},
   "outputs": [],
   "source": [
    "# What is the most common media type by country?"
   ]
  },
  {
   "cell_type": "code",
   "execution_count": null,
   "metadata": {},
   "outputs": [],
   "source": [
    "# What is the most common media type by purchase?"
   ]
  },
  {
   "cell_type": "code",
   "execution_count": null,
   "metadata": {},
   "outputs": [],
   "source": [
    "# What is the average expenditure by media type by country?"
   ]
  },
  {
   "cell_type": "code",
   "execution_count": null,
   "metadata": {},
   "outputs": [],
   "source": []
  }
 ],
 "metadata": {
  "kernelspec": {
   "display_name": "learn-env",
   "language": "python",
   "name": "learn-env"
  },
  "language_info": {
   "codemirror_mode": {
    "name": "ipython",
    "version": 3
   },
   "file_extension": ".py",
   "mimetype": "text/x-python",
   "name": "python",
   "nbconvert_exporter": "python",
   "pygments_lexer": "ipython3",
   "version": "3.8.5"
  },
  "toc": {
   "base_numbering": 1,
   "nav_menu": {},
   "number_sections": true,
   "sideBar": true,
   "skip_h1_title": false,
   "title_cell": "Table of Contents",
   "title_sidebar": "Contents",
   "toc_cell": false,
   "toc_position": {},
   "toc_section_display": true,
   "toc_window_display": false
  },
  "varInspector": {
   "cols": {
    "lenName": 16,
    "lenType": 16,
    "lenVar": 40
   },
   "kernels_config": {
    "python": {
     "delete_cmd_postfix": "",
     "delete_cmd_prefix": "del ",
     "library": "var_list.py",
     "varRefreshCmd": "print(var_dic_list())"
    },
    "r": {
     "delete_cmd_postfix": ") ",
     "delete_cmd_prefix": "rm(",
     "library": "var_list.r",
     "varRefreshCmd": "cat(var_dic_list()) "
    }
   },
   "types_to_exclude": [
    "module",
    "function",
    "builtin_function_or_method",
    "instance",
    "_Feature"
   ],
   "window_display": false
  }
 },
 "nbformat": 4,
 "nbformat_minor": 4
}
